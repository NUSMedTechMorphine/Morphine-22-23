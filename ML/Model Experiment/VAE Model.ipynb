{
 "cells": [
  {
   "cell_type": "code",
   "execution_count": 1,
   "id": "738e729d",
   "metadata": {},
   "outputs": [],
   "source": [
    "import matplotlib.pyplot as plt\n",
    "import matplotlib.colors as mcolors\n",
    "import numpy as np\n",
    "import pandas as pd\n",
    "import tensorflow as tf\n",
    "import keras\n",
    "import os\n",
    "import random\n",
    "import seaborn as sns\n",
    "from tqdm import tqdm\n",
    "from tqdm import tnrange\n",
    "from time import time\n",
    "\n",
    "from sklearn.covariance import MinCovDet\n",
    "from scipy.stats import chi2\n",
    "\n",
    "\n",
    "from scipy.stats import multivariate_normal\n",
    "from sklearn.metrics import accuracy_score, precision_score, recall_score, confusion_matrix, r2_score\n",
    "from sklearn.model_selection import train_test_split\n",
    "from sklearn import preprocessing, linear_model\n",
    "from tensorflow.keras import layers, losses\n",
    "from tensorflow.keras.datasets import fashion_mnist\n",
    "from tensorflow.keras.models import Model\n",
    "from tensorflow.keras.callbacks import EarlyStopping\n",
    "from tensorflow.keras.regularizers import l1, l2, l1_l2\n",
    "from sklearn.preprocessing import minmax_scale, OneHotEncoder\n",
    "from keras.layers.convolutional import Conv1D\n",
    "from keras.layers.convolutional import MaxPooling1D\n",
    "from keras.layers import Input, Dense, Reshape, Concatenate, Flatten, Lambda, Reshape, Dropout\n",
    "from keras.losses import MeanSquaredError as mse\n",
    "from tensorflow.keras import backend as K\n",
    "from keras.optimizers import Adam\n"
   ]
  },
  {
   "cell_type": "code",
   "execution_count": 2,
   "id": "5dfc24e1",
   "metadata": {},
   "outputs": [
    {
     "data": {
      "text/plain": [
       "['fall_simulation',\n",
       " 'fall_simulation2',\n",
       " 'fall_simulation3',\n",
       " 'fall_simulation_2.csv',\n",
       " 'fall_simulation_3.csv',\n",
       " 'trial_data_1',\n",
       " 'trial_data_2',\n",
       " 'trial_data_3',\n",
       " 'trial_data_4',\n",
       " 'trial_data_4.csv',\n",
       " 'trial_data_5',\n",
       " 'trial_data_5.csv']"
      ]
     },
     "execution_count": 2,
     "metadata": {},
     "output_type": "execute_result"
    }
   ],
   "source": [
    "DATASETS_PATH = \"C:/Users/ernest.liu/Documents/git/Morphine-22-23/ML/Datasets/19-01-2023/\"\n",
    "os.chdir(DATASETS_PATH)\n",
    "os.listdir()"
   ]
  },
  {
   "cell_type": "code",
   "execution_count": 3,
   "id": "bdf4816e",
   "metadata": {},
   "outputs": [
    {
     "name": "stdout",
     "output_type": "stream",
     "text": [
      "['trial_data_4.csv', 'trial_data_5.csv']\n",
      "['fall_simulation_2.csv', 'fall_simulation_3.csv']\n"
     ]
    }
   ],
   "source": [
    "adl_files = [file_name for file_name in os.listdir() if \".csv\" in file_name and \"trial\" in file_name]\n",
    "fall_files = [file_name for file_name in os.listdir() if \".csv\" in file_name and \"fall\" in file_name]\n",
    "\n",
    "print(adl_files)\n",
    "print(fall_files)"
   ]
  },
  {
   "cell_type": "code",
   "execution_count": 4,
   "id": "2dd65722",
   "metadata": {},
   "outputs": [],
   "source": [
    "trial_data_4 = pd.read_csv(DATASETS_PATH+'trial_data_4.csv').iloc[:,1:]\n",
    "trial_data_5 = pd.read_csv(DATASETS_PATH+'trial_data_5.csv').iloc[:,1:]\n",
    "\n",
    "fall_simulation_2 = pd.read_csv(DATASETS_PATH+'fall_simulation_2.csv').iloc[:,1:]\n",
    "fall_simulation_3 = pd.read_csv(DATASETS_PATH+'fall_simulation_3.csv').iloc[:,1:]"
   ]
  },
  {
   "cell_type": "code",
   "execution_count": 5,
   "id": "189b1c5b",
   "metadata": {},
   "outputs": [],
   "source": [
    "# Only take in accelerometer and gyroscope data\n",
    "trial_data_4 = trial_data_4[['Ax','Ay','Az','gx','gy','gz']]\n",
    "trial_data_5 = trial_data_5[['Ax','Ay','Az','gx','gy','gz']]\n",
    "\n",
    "fall_simulation_2 = fall_simulation_2[['Ax','Ay','Az','gx','gy','gz']]\n",
    "fall_simulation_3 = fall_simulation_3[['Ax','Ay','Az','gx','gy','gz']]"
   ]
  },
  {
   "cell_type": "code",
   "execution_count": 6,
   "id": "63007455",
   "metadata": {},
   "outputs": [],
   "source": [
    "train_data = pd.concat([trial_data_4, trial_data_5]).reset_index(drop=True)\n",
    "test_data = pd.concat([fall_simulation_2, fall_simulation_3]).reset_index(drop=True)"
   ]
  },
  {
   "cell_type": "code",
   "execution_count": 7,
   "id": "3c8bf526",
   "metadata": {},
   "outputs": [
    {
     "data": {
      "image/png": "[encoded data removed]",
      "text/plain": [
       "<Figure size 640x480 with 1 Axes>"
      ]
     },
     "metadata": {},
     "output_type": "display_data"
    }
   ],
   "source": [
    "# EDA\n",
    "plt.hist(np.abs(train_data.Ay), bins=50, alpha=0.5, density=True)\n",
    "plt.hist(np.abs(test_data.Ay), bins=50, alpha=0.5, density=True)\n",
    "plt.show()"
   ]
  },
  {
   "cell_type": "code",
   "execution_count": 8,
   "id": "e37a0e4e",
   "metadata": {},
   "outputs": [
    {
     "data": {
      "text/plain": [
       "MinMaxScaler()"
      ]
     },
     "execution_count": 8,
     "metadata": {},
     "output_type": "execute_result"
    }
   ],
   "source": [
    "scaler = preprocessing.MinMaxScaler()\n",
    "scaler.fit(train_data)"
   ]
  },
  {
   "cell_type": "code",
   "execution_count": 9,
   "id": "d7044129",
   "metadata": {},
   "outputs": [],
   "source": [
    "train_data_norm_presplit = scaler.transform(train_data)\n",
    "test_data_norm = scaler.transform(test_data)"
   ]
  },
  {
   "cell_type": "code",
   "execution_count": 10,
   "id": "da93a2f3",
   "metadata": {},
   "outputs": [],
   "source": [
    "valid_ratio = 0.2\n",
    "valid_indices = sorted(random.sample(list(range(train_data_norm_presplit.shape[0])), round(train_data_norm_presplit.shape[0] * valid_ratio)))"
   ]
  },
  {
   "cell_type": "code",
   "execution_count": 11,
   "id": "c4601de0",
   "metadata": {},
   "outputs": [],
   "source": [
    "valid_data = train_data.iloc[valid_indices, :].reset_index(drop = True)\n",
    "valid_data_norm = train_data_norm_presplit[valid_indices]\n",
    "train_data_norm = np.delete(train_data_norm_presplit, valid_indices, axis = 0)"
   ]
  },
  {
   "cell_type": "markdown",
   "id": "50264422",
   "metadata": {},
   "source": [
    "## Mahalanobis Distance Outlier Removal"
   ]
  },
  {
   "cell_type": "code",
   "execution_count": null,
   "id": "881a3204",
   "metadata": {},
   "outputs": [],
   "source": [
    "# Covariance matrix\n",
    "# covariance = np.cov(train_data, rowvar=False)\n",
    "\n",
    "start_time = time()\n",
    "cov = MinCovDet().fit(train_data_norm)\n",
    "end_time = time()\n",
    "print(f\"Time elapsed: {(end_time - start_time)/60} minutes\")\n",
    "covariance = cov.covariance_\n",
    "\n",
    "covariance = np.cov(train_data_norm, rowvar=False)\n",
    "\n",
    "# Covariance matrix power of -1\n",
    "covariance_pm1 = np.linalg.matrix_power(covariance, -1)\n",
    "\n",
    "# Center point\n",
    "centerpoint = np.mean(train_data_norm, axis=0)"
   ]
  },
  {
   "cell_type": "code",
   "execution_count": null,
   "id": "9ef4aaf6",
   "metadata": {},
   "outputs": [],
   "source": [
    "# Distances between center point and \n",
    "distances = []\n",
    "for i, val in enumerate(train_data_norm):\n",
    "    p1 = val\n",
    "    p2 = centerpoint\n",
    "    distance = (p1-p2).T.dot(covariance_pm1).dot(p1-p2)\n",
    "    distances.append(distance)\n",
    "distances = np.array(distances)\n",
    "\n",
    "# Cutoff (threshold) value from Chi-Sqaure Distribution for detecting outliers \n",
    "cutoff_threshold = 0.99\n",
    "cutoff = chi2.ppf(cutoff_threshold, train_data_norm.shape[1])\n",
    "\n",
    "# Index of outliers\n",
    "outlierIndexes = np.where(distances > cutoff)\n",
    "\n",
    "print('--- Index of Outliers ----')\n",
    "print(outlierIndexes)\n",
    "print(f\"There are {len(outlierIndexes[0])} outliers identified\")\n",
    "\n",
    "print('--- Observations found as outlier -----')\n",
    "print(train_data_norm[distances > cutoff, :])\n",
    "\n",
    "train_data_norm = np.delete(train_data_norm, outlierIndexes, axis = 0)"
   ]
  },
  {
   "cell_type": "code",
   "execution_count": null,
   "id": "37b3abc5",
   "metadata": {},
   "outputs": [],
   "source": []
  },
  {
   "cell_type": "code",
   "execution_count": null,
   "id": "37d0de86",
   "metadata": {},
   "outputs": [],
   "source": []
  },
  {
   "cell_type": "code",
   "execution_count": null,
   "id": "2879cdbc",
   "metadata": {},
   "outputs": [],
   "source": []
  },
  {
   "cell_type": "code",
   "execution_count": null,
   "id": "f8342416",
   "metadata": {},
   "outputs": [],
   "source": []
  },
  {
   "cell_type": "markdown",
   "id": "2bb8b713",
   "metadata": {},
   "source": [
    "## Building Model"
   ]
  },
  {
   "cell_type": "code",
   "execution_count": null,
   "id": "0033e4da",
   "metadata": {},
   "outputs": [],
   "source": [
    "latent_space_dim = 2\n",
    "def sampling(args):\n",
    "    z_mean, z_log_sigma = args\n",
    "    epsilon = K.random_normal(shape=(latent_space_dim,), mean=0., stddev=1.) # stddev is set to 0.1 in this post: https://blog.keras.io/building-autoencoders-in-keras.html\n",
    "    return_value = z_mean + K.exp(z_log_sigma) * epsilon\n",
    "    #print(z_mean)\n",
    "    \n",
    "    return return_value"
   ]
  },
  {
   "cell_type": "markdown",
   "id": "1ad4437c",
   "metadata": {},
   "source": [
    "### Encoder"
   ]
  },
  {
   "cell_type": "code",
   "execution_count": null,
   "id": "8279e70d",
   "metadata": {},
   "outputs": [],
   "source": [
    "inputs = Input((6,))\n",
    "layer1 = Dense(6, activation = 'relu')(inputs)\n",
    "layer2 = Dense(200, activation = 'relu')(layer1) # Changed from 3\n",
    "layer3 = Dense(100, activation = 'relu')(layer2) # Changed from 3\n",
    "layer4 = Dense(60, activation = 'relu')(layer3)\n",
    "layer5 = Dense(30, activation = 'relu')(layer4)\n",
    "z_mean = Dense(latent_space_dim)(layer5)\n",
    "z_log_sigma = Dense(latent_space_dim)(layer5)\n",
    "encoder = keras.Model(inputs, [z_mean, z_log_sigma], name=\"encoder\")\n",
    "encoder.summary()"
   ]
  },
  {
   "cell_type": "markdown",
   "id": "6e9099e7",
   "metadata": {},
   "source": [
    "### Sampler"
   ]
  },
  {
   "cell_type": "code",
   "execution_count": null,
   "id": "94dc8098",
   "metadata": {},
   "outputs": [],
   "source": [
    "sampler_input1 = keras.Input(shape=(latent_space_dim,))\n",
    "sampler_input2 = keras.Input(shape=(latent_space_dim,))\n",
    "latent_sample = Lambda(sampling, output_shape = (latent_space_dim,))([sampler_input1, sampler_input2])\n",
    "sampler = keras.Model([sampler_input1, sampler_input2], latent_sample)"
   ]
  },
  {
   "cell_type": "markdown",
   "id": "a7804bf1",
   "metadata": {},
   "source": [
    "### Decoder"
   ]
  },
  {
   "cell_type": "code",
   "execution_count": null,
   "id": "c5cf6b9d",
   "metadata": {},
   "outputs": [],
   "source": [
    "latent_inputs = keras.Input(shape=(latent_space_dim,))\n",
    "layer6 = Dense(20, activation = 'relu')(latent_inputs)\n",
    "layer7 = Dense(30, activation = 'relu')(layer6)\n",
    "layer8 = Dense(50, activation = 'relu')(layer7)\n",
    "layer9 = Dense(100, activation = 'relu')(layer8)\n",
    "layer10 = Dense(200, activation = 'relu')(layer9)\n",
    "decoder_outputs = Dense(6, activation = 'sigmoid')(layer10)\n",
    "decoder = keras.Model(latent_inputs, decoder_outputs, name=\"decoder\")\n",
    "decoder.summary()"
   ]
  },
  {
   "cell_type": "markdown",
   "id": "1508701b",
   "metadata": {},
   "source": [
    "## VAE"
   ]
  },
  {
   "cell_type": "code",
   "execution_count": null,
   "id": "79f9e962",
   "metadata": {},
   "outputs": [],
   "source": [
    "class VAE(Model):\n",
    "    def __init__(self, encoder, sampler, decoder, beta = 1, **kwargs):\n",
    "        super().__init__(**kwargs)\n",
    "        self.encoder = encoder\n",
    "        self.sampler = sampler\n",
    "        self.decoder = decoder\n",
    "        self.beta = beta\n",
    "        self.total_loss_tracker = keras.metrics.Mean(name=\"total_loss\")\n",
    "        self.reconstruction_loss_tracker = keras.metrics.Mean(\n",
    "            name=\"reconstruction_loss\"\n",
    "        )\n",
    "        self.kl_loss_tracker = keras.metrics.Mean(name=\"kl_loss\")\n",
    "\n",
    "    @property\n",
    "    def metrics(self):\n",
    "        return [\n",
    "            self.total_loss_tracker,\n",
    "            self.reconstruction_loss_tracker,\n",
    "            self.kl_loss_tracker,\n",
    "        ]\n",
    "\n",
    "    def train_step(self, data):\n",
    "        data = data[0]\n",
    "        with tf.GradientTape() as tape:\n",
    "            z_mean, z_log_sigma = self.encoder(data)\n",
    "            z_log_var = 2 * z_log_sigma\n",
    "            z = self.sampler([z_mean, z_log_var])\n",
    "            reconstruction = self.decoder(z)\n",
    "            reconstruction_loss = tf.reduce_mean(keras.losses.binary_crossentropy(data, reconstruction))\n",
    "            kl_loss = -0.5 * (1 + z_log_var - tf.square(z_mean) - tf.exp(z_log_var))\n",
    "            kl_loss = tf.reduce_mean(kl_loss)\n",
    "            total_loss = reconstruction_loss + self.beta * kl_loss\n",
    "        grads = tape.gradient(total_loss, self.trainable_weights)\n",
    "        self.optimizer.apply_gradients(zip(grads, self.trainable_weights))\n",
    "        self.total_loss_tracker.update_state(total_loss)\n",
    "        self.reconstruction_loss_tracker.update_state(reconstruction_loss)\n",
    "        self.kl_loss_tracker.update_state(kl_loss)\n",
    "        return {\n",
    "            \"loss\": self.total_loss_tracker.result(),\n",
    "            \"reconstruction_loss\": self.reconstruction_loss_tracker.result(),\n",
    "            \"kl_loss\": self.kl_loss_tracker.result(),\n",
    "        }\n",
    "    def test_step(self, data):\n",
    "        if isinstance(data, tuple):\n",
    "            #print(f\"Ran. data: {data}\")\n",
    "            data = data[0]\n",
    "\n",
    "        z_mean, z_log_sigma = self.encoder(data)\n",
    "        z_log_var = 2 * z_log_sigma\n",
    "        z = self.sampler([z_mean, z_log_var])\n",
    "        reconstruction = self.decoder(z)\n",
    "        reconstruction_loss = tf.reduce_mean(keras.losses.binary_crossentropy(data, reconstruction))\n",
    "        kl_loss = -0.5 * (1 + z_log_var - tf.square(z_mean) - tf.exp(z_log_var))\n",
    "        kl_loss = tf.reduce_mean(kl_loss)\n",
    "        total_loss = reconstruction_loss + self.beta * kl_loss\n",
    "        return {\n",
    "            \"loss\": total_loss,\n",
    "            \"reconstruction_loss\": reconstruction_loss,\n",
    "            \"kl_loss\": kl_loss,\n",
    "        }\n",
    "    \n",
    "    \n",
    "    def call(self, data):\n",
    "        z_mean, z_log_sigma = self.encoder(data)\n",
    "        z_log_var = 2 * z_log_sigma\n",
    "        z = self.sampler([z_mean, z_log_var])\n",
    "        reconstruction = self.decoder(z)\n",
    "        reconstruction_loss = tf.reduce_mean(keras.losses.binary_crossentropy(data, reconstruction))\n",
    "        kl_loss = -0.5 * (1 + z_log_var - tf.square(z_mean) - tf.exp(z_log_var))\n",
    "        kl_loss = tf.reduce_mean(kl_loss)\n",
    "        total_loss = reconstruction_loss + self.beta * kl_loss\n",
    "        self.add_metric(kl_loss, name='kl_loss', aggregation='mean')\n",
    "        self.add_metric(total_loss, name='total_loss', aggregation='mean')\n",
    "        self.add_metric(reconstruction_loss, name='reconstruction_loss', aggregation='mean')\n",
    "        return reconstruction\n",
    "    "
   ]
  },
  {
   "cell_type": "code",
   "execution_count": null,
   "id": "3deded5e",
   "metadata": {},
   "outputs": [],
   "source": [
    "vae = VAE(encoder, sampler, decoder, beta = 0.01)\n",
    "vae.compile(optimizer = 'adam')"
   ]
  },
  {
   "cell_type": "code",
   "execution_count": null,
   "id": "c79db1a3",
   "metadata": {},
   "outputs": [],
   "source": [
    "callback = EarlyStopping(\n",
    "    monitor=\"val_loss\",\n",
    "    patience=5\n",
    ")\n",
    "\n",
    "history = vae.fit(x = train_data_norm, y = train_data_norm, # Changed from train_data_norm \n",
    "                  epochs = 1000,\n",
    "                  shuffle = True,\n",
    "                  batch_size = 32,\n",
    "                  workers = 8,\n",
    "                  validation_data = (valid_data_norm, valid_data_norm), # Changed from valid_data_norm\n",
    "                  callbacks = [callback])"
   ]
  },
  {
   "cell_type": "code",
   "execution_count": null,
   "id": "cedf11a3",
   "metadata": {},
   "outputs": [],
   "source": [
    "plt.plot(history.history['loss'], label = 'Training Loss')\n",
    "plt.plot(history.history['val_loss'], label = 'Validation Loss')\n",
    "plt.legend()\n",
    "plt.show()"
   ]
  },
  {
   "cell_type": "code",
   "execution_count": null,
   "id": "036ea548",
   "metadata": {},
   "outputs": [],
   "source": [
    "train_predictions = vae.predict(train_data_norm)\n",
    "test_predictions = vae.predict(test_data_norm)\n",
    "valid_predictions = vae.predict(valid_data_norm)"
   ]
  },
  {
   "cell_type": "code",
   "execution_count": null,
   "id": "e6686659",
   "metadata": {},
   "outputs": [],
   "source": [
    "model_name = \"vae_fixed_loss_beta_0_01\"\n",
    "#os.chdir(\"C:/Users/ernest.liu/Documents/git/Morphine-22-23/ML/Model/weights/\")\n",
    "#vae.save_weights(model_name)"
   ]
  },
  {
   "cell_type": "code",
   "execution_count": null,
   "id": "6e0c62db",
   "metadata": {},
   "outputs": [],
   "source": [
    "print(f\"Training MAE: {np.sum(np.abs(train_data_norm - train_predictions))/(train_data_norm.shape[0] * train_data_norm.shape[1])}\")\n",
    "print(f\"Testing MAE (Anomalous Data): {np.sum(np.abs(test_data_norm - test_predictions))/(test_data_norm.shape[0] * test_data_norm.shape[1])}\")\n",
    "print(f\"Validation MAE (Normal Data): {np.sum(np.abs(valid_data_norm - valid_predictions))/(valid_data_norm.shape[0] * valid_data_norm.shape[1])}\")"
   ]
  },
  {
   "cell_type": "code",
   "execution_count": null,
   "id": "c2186634",
   "metadata": {},
   "outputs": [],
   "source": [
    "train_mae = np.sum(np.abs(train_data_norm - train_predictions), axis = 1)\n",
    "plt.hist(train_mae, bins = 20)\n",
    "plt.title(\"Training Dataset\")\n",
    "plt.xlabel(\"Reconstruction Error (MAE)\")\n",
    "plt.ylabel(\"Count\")\n",
    "plt.show()"
   ]
  },
  {
   "cell_type": "code",
   "execution_count": null,
   "id": "44d99ec7",
   "metadata": {},
   "outputs": [],
   "source": [
    "valid_mae = np.sum(np.abs(valid_data_norm - valid_predictions), axis = 1)\n",
    "plt.hist(valid_mae, bins = 20)\n",
    "plt.title(\"Validation (Normal Samples) Dataset\")\n",
    "plt.xlabel(\"Reconstruction Error (MAE)\")\n",
    "plt.ylabel(\"Count\")\n",
    "plt.show()"
   ]
  },
  {
   "cell_type": "code",
   "execution_count": null,
   "id": "995dbc41",
   "metadata": {},
   "outputs": [],
   "source": [
    "test_mae = np.sum(np.abs(test_data_norm - test_predictions), axis = 1)\n",
    "plt.hist(test_mae, bins = 20)\n",
    "plt.title(\"Testing (Anomalous) Dataset\")\n",
    "plt.xlabel(\"Reconstruction Error (MAE)\")\n",
    "plt.ylabel(\"Count\")\n",
    "plt.show()"
   ]
  },
  {
   "cell_type": "code",
   "execution_count": null,
   "id": "f0e64acf",
   "metadata": {},
   "outputs": [],
   "source": [
    "best_threshold = np.quantile(valid_mae, 0.9)"
   ]
  },
  {
   "cell_type": "code",
   "execution_count": null,
   "id": "73ea2963",
   "metadata": {},
   "outputs": [],
   "source": [
    "best_threshold"
   ]
  },
  {
   "cell_type": "code",
   "execution_count": null,
   "id": "110df665",
   "metadata": {},
   "outputs": [],
   "source": [
    "train_data[\"mae\"] = np.sum(np.abs(scaler.transform(train_data) - vae.predict(scaler.transform(train_data))), axis = 1)\n",
    "train_data[\"is_anomalous\"] = train_data.mae > best_threshold\n",
    "\n",
    "test_data[\"mae\"] = test_mae\n",
    "test_data[\"is_anomalous\"] = test_mae > best_threshold"
   ]
  },
  {
   "cell_type": "code",
   "execution_count": null,
   "id": "6a807a7d",
   "metadata": {},
   "outputs": [],
   "source": [
    "test_data"
   ]
  },
  {
   "cell_type": "code",
   "execution_count": null,
   "id": "5b18d59a",
   "metadata": {},
   "outputs": [],
   "source": [
    "plt.scatter(test_data.index, test_data.mae, s = 0.2)\n",
    "plt.axhline(y=best_threshold, color='r', linestyle='-')\n",
    "plt.show()"
   ]
  },
  {
   "cell_type": "code",
   "execution_count": null,
   "id": "0613ee69",
   "metadata": {},
   "outputs": [],
   "source": [
    "plt.scatter(train_data.index, train_data.mae, s = 0.2)\n",
    "plt.axhline(y=best_threshold, color='r', linestyle='-')\n",
    "plt.show()"
   ]
  },
  {
   "cell_type": "code",
   "execution_count": null,
   "id": "d02c1f15",
   "metadata": {},
   "outputs": [],
   "source": [
    "np.sum(test_data.is_anomalous)/test_data.shape[0]"
   ]
  },
  {
   "cell_type": "code",
   "execution_count": null,
   "id": "b34137a2",
   "metadata": {},
   "outputs": [],
   "source": [
    "np.sum(train_data.is_anomalous)/train_data.shape[0]"
   ]
  },
  {
   "cell_type": "markdown",
   "id": "bcff53e8",
   "metadata": {},
   "source": [
    "## Loading Model"
   ]
  },
  {
   "cell_type": "code",
   "execution_count": 12,
   "id": "c33529fb",
   "metadata": {},
   "outputs": [],
   "source": [
    "latent_space_dim = 2\n",
    "def sampling(args):\n",
    "    z_mean, z_log_sigma = args\n",
    "    epsilon = K.random_normal(shape=(latent_space_dim,), mean=0., stddev=1.) # stddev is set to 0.1 in this post: https://blog.keras.io/building-autoencoders-in-keras.html\n",
    "    return_value = z_mean + K.exp(z_log_sigma) * epsilon\n",
    "    #print(z_mean)\n",
    "    \n",
    "    return return_value"
   ]
  },
  {
   "cell_type": "code",
   "execution_count": 13,
   "id": "56b34417",
   "metadata": {},
   "outputs": [
    {
     "name": "stdout",
     "output_type": "stream",
     "text": [
      "Model: \"encoder\"\n",
      "__________________________________________________________________________________________________\n",
      " Layer (type)                   Output Shape         Param #     Connected to                     \n",
      "==================================================================================================\n",
      " input_1 (InputLayer)           [(None, 6)]          0           []                               \n",
      "                                                                                                  \n",
      " dense (Dense)                  (None, 6)            42          ['input_1[0][0]']                \n",
      "                                                                                                  \n",
      " dense_1 (Dense)                (None, 200)          1400        ['dense[0][0]']                  \n",
      "                                                                                                  \n",
      " dense_2 (Dense)                (None, 100)          20100       ['dense_1[0][0]']                \n",
      "                                                                                                  \n",
      " dense_3 (Dense)                (None, 60)           6060        ['dense_2[0][0]']                \n",
      "                                                                                                  \n",
      " dense_4 (Dense)                (None, 30)           1830        ['dense_3[0][0]']                \n",
      "                                                                                                  \n",
      " dense_5 (Dense)                (None, 2)            62          ['dense_4[0][0]']                \n",
      "                                                                                                  \n",
      " dense_6 (Dense)                (None, 2)            62          ['dense_4[0][0]']                \n",
      "                                                                                                  \n",
      "==================================================================================================\n",
      "Total params: 29,556\n",
      "Trainable params: 29,556\n",
      "Non-trainable params: 0\n",
      "__________________________________________________________________________________________________\n"
     ]
    }
   ],
   "source": [
    "inputs = Input((6,))\n",
    "layer1 = Dense(6, activation = 'relu')(inputs)\n",
    "layer2 = Dense(200, activation = 'relu')(layer1) # Changed from 3\n",
    "layer3 = Dense(100, activation = 'relu')(layer2) # Changed from 3\n",
    "layer4 = Dense(60, activation = 'relu')(layer3)\n",
    "layer5 = Dense(30, activation = 'relu')(layer4)\n",
    "z_mean = Dense(latent_space_dim)(layer5)\n",
    "z_log_sigma = Dense(latent_space_dim)(layer5)\n",
    "encoder = keras.Model(inputs, [z_mean, z_log_sigma], name=\"encoder\")\n",
    "encoder.summary()"
   ]
  },
  {
   "cell_type": "code",
   "execution_count": 14,
   "id": "55c2c6d2",
   "metadata": {},
   "outputs": [],
   "source": [
    "sampler_input1 = keras.Input(shape=(latent_space_dim,))\n",
    "sampler_input2 = keras.Input(shape=(latent_space_dim,))\n",
    "latent_sample = Lambda(sampling, output_shape = (latent_space_dim,))([sampler_input1, sampler_input2])\n",
    "sampler = keras.Model([sampler_input1, sampler_input2], latent_sample)"
   ]
  },
  {
   "cell_type": "code",
   "execution_count": 15,
   "id": "82494e5a",
   "metadata": {},
   "outputs": [
    {
     "name": "stdout",
     "output_type": "stream",
     "text": [
      "Model: \"decoder\"\n",
      "_________________________________________________________________\n",
      " Layer (type)                Output Shape              Param #   \n",
      "=================================================================\n",
      " input_4 (InputLayer)        [(None, 2)]               0         \n",
      "                                                                 \n",
      " dense_7 (Dense)             (None, 20)                60        \n",
      "                                                                 \n",
      " dense_8 (Dense)             (None, 30)                630       \n",
      "                                                                 \n",
      " dense_9 (Dense)             (None, 50)                1550      \n",
      "                                                                 \n",
      " dense_10 (Dense)            (None, 100)               5100      \n",
      "                                                                 \n",
      " dense_11 (Dense)            (None, 200)               20200     \n",
      "                                                                 \n",
      " dense_12 (Dense)            (None, 6)                 1206      \n",
      "                                                                 \n",
      "=================================================================\n",
      "Total params: 28,746\n",
      "Trainable params: 28,746\n",
      "Non-trainable params: 0\n",
      "_________________________________________________________________\n"
     ]
    }
   ],
   "source": [
    "latent_inputs = keras.Input(shape=(latent_space_dim,))\n",
    "layer6 = Dense(20, activation = 'relu')(latent_inputs)\n",
    "layer7 = Dense(30, activation = 'relu')(layer6)\n",
    "layer8 = Dense(50, activation = 'relu')(layer7)\n",
    "layer9 = Dense(100, activation = 'relu')(layer8)\n",
    "layer10 = Dense(200, activation = 'relu')(layer9)\n",
    "decoder_outputs = Dense(6, activation = 'sigmoid')(layer10)\n",
    "decoder = keras.Model(latent_inputs, decoder_outputs, name=\"decoder\")\n",
    "decoder.summary()"
   ]
  },
  {
   "cell_type": "code",
   "execution_count": 16,
   "id": "3350a964",
   "metadata": {},
   "outputs": [],
   "source": [
    "class VAE(Model):\n",
    "    def __init__(self, encoder, sampler, decoder, beta = 1, **kwargs):\n",
    "        super().__init__(**kwargs)\n",
    "        self.encoder = encoder\n",
    "        self.sampler = sampler\n",
    "        self.decoder = decoder\n",
    "        self.beta = beta\n",
    "        self.total_loss_tracker = keras.metrics.Mean(name=\"total_loss\")\n",
    "        self.reconstruction_loss_tracker = keras.metrics.Mean(\n",
    "            name=\"reconstruction_loss\"\n",
    "        )\n",
    "        self.kl_loss_tracker = keras.metrics.Mean(name=\"kl_loss\")\n",
    "\n",
    "    @property\n",
    "    def metrics(self):\n",
    "        return [\n",
    "            self.total_loss_tracker,\n",
    "            self.reconstruction_loss_tracker,\n",
    "            self.kl_loss_tracker,\n",
    "        ]\n",
    "\n",
    "    def train_step(self, data):\n",
    "        data = data[0]\n",
    "        with tf.GradientTape() as tape:\n",
    "            z_mean, z_log_sigma = self.encoder(data)\n",
    "            z_log_var = 2 * z_log_sigma\n",
    "            z = self.sampler([z_mean, z_log_var])\n",
    "            reconstruction = self.decoder(z)\n",
    "            reconstruction_loss = tf.reduce_mean(keras.losses.binary_crossentropy(data, reconstruction))\n",
    "            kl_loss = -0.5 * (1 + z_log_var - tf.square(z_mean) - tf.exp(z_log_var))\n",
    "            kl_loss = tf.reduce_mean(kl_loss)\n",
    "            total_loss = reconstruction_loss + self.beta * kl_loss\n",
    "        grads = tape.gradient(total_loss, self.trainable_weights)\n",
    "        self.optimizer.apply_gradients(zip(grads, self.trainable_weights))\n",
    "        self.total_loss_tracker.update_state(total_loss)\n",
    "        self.reconstruction_loss_tracker.update_state(reconstruction_loss)\n",
    "        self.kl_loss_tracker.update_state(kl_loss)\n",
    "        return {\n",
    "            \"loss\": self.total_loss_tracker.result(),\n",
    "            \"reconstruction_loss\": self.reconstruction_loss_tracker.result(),\n",
    "            \"kl_loss\": self.kl_loss_tracker.result(),\n",
    "        }\n",
    "    def test_step(self, data):\n",
    "        if isinstance(data, tuple):\n",
    "            #print(f\"Ran. data: {data}\")\n",
    "            data = data[0]\n",
    "\n",
    "        z_mean, z_log_sigma = self.encoder(data)\n",
    "        z_log_var = 2 * z_log_sigma\n",
    "        z = self.sampler([z_mean, z_log_var])\n",
    "        reconstruction = self.decoder(z)\n",
    "        reconstruction_loss = tf.reduce_mean(keras.losses.binary_crossentropy(data, reconstruction))\n",
    "        kl_loss = -0.5 * (1 + z_log_var - tf.square(z_mean) - tf.exp(z_log_var))\n",
    "        kl_loss = tf.reduce_mean(kl_loss)\n",
    "        total_loss = reconstruction_loss + self.beta * kl_loss\n",
    "        return {\n",
    "            \"loss\": total_loss,\n",
    "            \"reconstruction_loss\": reconstruction_loss,\n",
    "            \"kl_loss\": kl_loss,\n",
    "        }\n",
    "    \n",
    "    \n",
    "    def call(self, data):\n",
    "        z_mean, z_log_sigma = self.encoder(data)\n",
    "        z_log_var = 2 * z_log_sigma\n",
    "        z = self.sampler([z_mean, z_log_var])\n",
    "        reconstruction = self.decoder(z)\n",
    "        reconstruction_loss = tf.reduce_mean(keras.losses.binary_crossentropy(data, reconstruction))\n",
    "        kl_loss = -0.5 * (1 + z_log_var - tf.square(z_mean) - tf.exp(z_log_var))\n",
    "        kl_loss = tf.reduce_mean(kl_loss)\n",
    "        total_loss = reconstruction_loss + self.beta * kl_loss\n",
    "        self.add_metric(kl_loss, name='kl_loss', aggregation='mean')\n",
    "        self.add_metric(total_loss, name='total_loss', aggregation='mean')\n",
    "        self.add_metric(reconstruction_loss, name='reconstruction_loss', aggregation='mean')\n",
    "        return reconstruction\n",
    "    "
   ]
  },
  {
   "cell_type": "code",
   "execution_count": 17,
   "id": "34bd3cdb",
   "metadata": {},
   "outputs": [],
   "source": [
    "vae = VAE(encoder, sampler, decoder, beta = 0.01)\n",
    "vae.compile(optimizer = 'adam')"
   ]
  },
  {
   "cell_type": "code",
   "execution_count": 18,
   "id": "74da16be",
   "metadata": {},
   "outputs": [
    {
     "data": {
      "text/plain": [
       "<tensorflow.python.checkpoint.checkpoint.CheckpointLoadStatus at 0x1ca62fb3a60>"
      ]
     },
     "execution_count": 18,
     "metadata": {},
     "output_type": "execute_result"
    }
   ],
   "source": [
    "os.chdir(\"C:/Users/ernest.liu/Documents/git/Morphine-22-23/ML/Model/weights/\")\n",
    "model_name = \"vae_fixed_loss_beta_0_01\"\n",
    "vae.load_weights(model_name)"
   ]
  },
  {
   "cell_type": "code",
   "execution_count": null,
   "id": "ae0d295b",
   "metadata": {},
   "outputs": [],
   "source": []
  },
  {
   "cell_type": "code",
   "execution_count": null,
   "id": "516b59e4",
   "metadata": {},
   "outputs": [],
   "source": []
  },
  {
   "cell_type": "code",
   "execution_count": null,
   "id": "7be0622f",
   "metadata": {},
   "outputs": [],
   "source": []
  },
  {
   "cell_type": "code",
   "execution_count": null,
   "id": "b1d0af01",
   "metadata": {},
   "outputs": [],
   "source": []
  }
 ],
 "metadata": {
  "kernelspec": {
   "display_name": "Python 3 (ipykernel)",
   "language": "python",
   "name": "python3"
  },
  "language_info": {
   "codemirror_mode": {
    "name": "ipython",
    "version": 3
   },
   "file_extension": ".py",
   "mimetype": "text/x-python",
   "name": "python",
   "nbconvert_exporter": "python",
   "pygments_lexer": "ipython3",
   "version": "3.9.13"
  }
 },
 "nbformat": 4,
 "nbformat_minor": 5
}
