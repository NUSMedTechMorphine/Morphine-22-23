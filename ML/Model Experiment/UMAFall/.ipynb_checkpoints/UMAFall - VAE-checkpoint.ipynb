{
 "cells": [
  {
   "cell_type": "code",
   "execution_count": 1,
   "id": "c7c08ef4",
   "metadata": {},
   "outputs": [],
   "source": [
    "import matplotlib.pyplot as plt\n",
    "import numpy as np\n",
    "import pandas as pd\n",
    "import tensorflow as tf\n",
    "import os\n",
    "import random\n",
    "import seaborn as sn\n",
    "\n",
    "from sklearn.metrics import accuracy_score, precision_score, recall_score, confusion_matrix\n",
    "from sklearn.model_selection import train_test_split\n",
    "from sklearn import preprocessing\n",
    "from tensorflow.keras import layers, losses\n",
    "from tensorflow.keras.datasets import fashion_mnist\n",
    "from tensorflow.keras.models import Model\n",
    "from tensorflow.keras.callbacks import EarlyStopping\n",
    "from tensorflow.keras.regularizers import l1, l2, l1_l2\n",
    "from sklearn.preprocessing import minmax_scale, OneHotEncoder\n",
    "from keras.layers.convolutional import Conv1D\n",
    "from keras.layers.convolutional import MaxPooling1D\n",
    "from keras.layers import Flatten\n",
    "from keras.layers import Dropout"
   ]
  },
  {
   "cell_type": "code",
   "execution_count": 2,
   "id": "0919b4fb",
   "metadata": {},
   "outputs": [],
   "source": [
    "home_dir = \"C:/Users/ernest.liu/Documents/ZZZ Misc/UMAFall/UMAFall_Dataset Formatted/\""
   ]
  },
  {
   "cell_type": "markdown",
   "id": "c715725f",
   "metadata": {},
   "source": [
    "## Autoencoder approach"
   ]
  },
  {
   "cell_type": "code",
   "execution_count": 3,
   "id": "84ad4bf1",
   "metadata": {},
   "outputs": [],
   "source": [
    "os.chdir(home_dir)\n",
    "all_files = os.listdir()\n",
    "adl_files = []\n",
    "fall_files = []\n",
    "for file in all_files:\n",
    "    if \"adl\" in file.lower():\n",
    "        adl_files.append(file)\n",
    "    else:\n",
    "        fall_files.append(file)"
   ]
  },
  {
   "cell_type": "markdown",
   "id": "feed08b2",
   "metadata": {},
   "source": [
    "### Data Preprocessing"
   ]
  },
  {
   "cell_type": "code",
   "execution_count": 4,
   "id": "3cc55da7",
   "metadata": {},
   "outputs": [
    {
     "name": "stdout",
     "output_type": "stream",
     "text": [
      "UMAFall_Subject_01_ADL_Aplausing_1_2017-04-14_23-38-23_reformatted.csv completed\n",
      "UMAFall_Subject_01_ADL_Aplausing_2_2017-04-14_23-38-59_reformatted.csv completed\n",
      "UMAFall_Subject_01_ADL_Aplausing_3_2017-04-14_23-39-35_reformatted.csv completed\n",
      "UMAFall_Subject_01_ADL_HandsUp_1_2017-04-14_23-32-44_reformatted.csv completed\n",
      "UMAFall_Subject_01_ADL_HandsUp_2_2017-04-14_23-33-21_reformatted.csv completed\n",
      "UMAFall_Subject_01_ADL_HandsUp_3_2017-04-14_23-33-59_reformatted.csv completed\n",
      "UMAFall_Subject_01_ADL_MakingACall_1_2017-04-14_23-30-27_reformatted.csv completed\n",
      "UMAFall_Subject_01_ADL_MakingACall_2_2017-04-14_23-31-05_reformatted.csv completed\n",
      "UMAFall_Subject_01_ADL_MakingACall_3_2017-04-14_23-31-42_reformatted.csv completed\n",
      "UMAFall_Subject_01_ADL_OpeningDoor_1_2017-04-14_23-35-12_reformatted.csv completed\n",
      "UMAFall_Subject_01_ADL_OpeningDoor_1_2017-04-14_23-36-23_reformatted.csv completed\n",
      "UMAFall_Subject_01_ADL_OpeningDoor_1_2017-04-14_23-36-58_reformatted.csv completed\n",
      "UMAFall_Subject_01_ADL_OpeningDoor_3_2017-04-14_23-37-35_reformatted.csv completed\n",
      "UMAFall_Subject_01_ADL_Sitting_GettingUpOnAChair_1_2017-04-14_23-28-16_reformatted.csv completed\n",
      "UMAFall_Subject_01_ADL_Sitting_GettingUpOnAChair_2_2017-04-14_23-28-52_reformatted.csv completed\n",
      "UMAFall_Subject_01_ADL_Sitting_GettingUpOnAChair_3_2017-04-14_23-29-29_reformatted.csv completed\n",
      "UMAFall_Subject_01_ADL_Walking_1_2017-04-14_23-25-52_reformatted.csv completed\n",
      "UMAFall_Subject_01_ADL_Walking_2_2017-04-14_23-26-33_reformatted.csv completed\n",
      "UMAFall_Subject_01_ADL_Walking_3_2017-04-14_23-27-12_reformatted.csv completed\n",
      "UMAFall_Subject_02_ADL_Aplausing_1_2017-04-26_19-47-07_reformatted.csv completed\n",
      "UMAFall_Subject_02_ADL_Aplausing_2_2017-04-26_19-47-43_reformatted.csv completed\n",
      "UMAFall_Subject_02_ADL_Aplausing_3_2017-04-26_19-48-18_reformatted.csv completed\n",
      "UMAFall_Subject_02_ADL_Bending_1_2016-06-13_20-25-34_reformatted.csv completed\n",
      "UMAFall_Subject_02_ADL_Bending_2_2016-06-13_20-26-15_reformatted.csv completed\n",
      "UMAFall_Subject_02_ADL_Bending_3_2016-06-13_20-26-59_reformatted.csv completed\n",
      "UMAFall_Subject_02_ADL_HandsUp_1_2017-04-26_19-42-49_reformatted.csv completed\n",
      "UMAFall_Subject_02_ADL_HandsUp_2_2017-04-26_19-43-25_reformatted.csv completed\n",
      "UMAFall_Subject_02_ADL_HandsUp_3_2017-04-26_19-44-00_reformatted.csv completed\n",
      "UMAFall_Subject_02_ADL_Hopping_1_2016-06-13_20-37-40_reformatted.csv completed\n",
      "UMAFall_Subject_02_ADL_Hopping_2_2016-06-13_20-38-22_reformatted.csv completed\n",
      "UMAFall_Subject_02_ADL_Hopping_3_2016-06-13_20-39-00_reformatted.csv completed\n",
      "UMAFall_Subject_02_ADL_Jogging_1_2016-06-13_20-40-29_reformatted.csv completed\n",
      "UMAFall_Subject_02_ADL_Jogging_2_2016-06-13_20-41-08_reformatted.csv completed\n",
      "UMAFall_Subject_02_ADL_Jogging_3_2016-06-13_20-41-46_reformatted.csv completed\n",
      "UMAFall_Subject_02_ADL_LyingDown_OnABed_1_2016-06-13_20-32-16_reformatted.csv completed\n",
      "UMAFall_Subject_02_ADL_LyingDown_OnABed_2_2016-06-13_20-32-56_reformatted.csv completed\n",
      "UMAFall_Subject_02_ADL_LyingDown_OnABed_3_2016-06-13_20-33-39_reformatted.csv completed\n",
      "UMAFall_Subject_02_ADL_MakingACall_1_2017-04-26_19-40-37_reformatted.csv completed\n",
      "UMAFall_Subject_02_ADL_MakingACall_2_2017-04-26_19-41-16_reformatted.csv completed\n",
      "UMAFall_Subject_02_ADL_MakingACall_3_2017-04-26_19-41-56_reformatted.csv completed\n",
      "UMAFall_Subject_02_ADL_OpeningDoor_1_2017-04-26_19-45-05_reformatted.csv completed\n",
      "UMAFall_Subject_02_ADL_OpeningDoor_2_2017-04-26_19-45-44_reformatted.csv completed\n",
      "UMAFall_Subject_02_ADL_OpeningDoor_3_2017-04-26_19-46-20_reformatted.csv completed\n",
      "UMAFall_Subject_02_ADL_Sitting_GettingUpOnAChair_1_2016-06-13_20-34-55_reformatted.csv completed\n",
      "UMAFall_Subject_02_ADL_Sitting_GettingUpOnAChair_2_2016-06-13_20-35-34_reformatted.csv completed\n",
      "UMAFall_Subject_02_ADL_Sitting_GettingUpOnAChair_3_2016-06-13_20-36-13_reformatted.csv completed\n",
      "UMAFall_Subject_02_ADL_Walking_1_2016-06-13_20-27-49_reformatted.csv completed\n",
      "UMAFall_Subject_02_ADL_Walking_2_2016-06-13_20-28-31_reformatted.csv completed\n",
      "UMAFall_Subject_02_ADL_Walking_3_2016-06-13_20-29-14_reformatted.csv completed\n",
      "UMAFall_Subject_03_ADL_Aplausing_1_2017-04-14_23-57-50_reformatted.csv completed\n",
      "UMAFall_Subject_03_ADL_Aplausing_2_2017-04-14_23-58-27_reformatted.csv completed\n",
      "UMAFall_Subject_03_ADL_Aplausing_3_2017-04-14_23-59-06_reformatted.csv completed\n",
      "UMAFall_Subject_03_ADL_HandsUp_1_2017-04-14_23-52-34_reformatted.csv completed\n",
      "UMAFall_Subject_03_ADL_HandsUp_2_2017-04-14_23-53-12_reformatted.csv completed\n",
      "UMAFall_Subject_03_ADL_HandsUp_3_2017-04-14_23-54-54_reformatted.csv completed\n",
      "UMAFall_Subject_03_ADL_MakingACall_1_2017-04-14_23-49-17_reformatted.csv completed\n",
      "UMAFall_Subject_03_ADL_MakingACall_2_2017-04-14_23-49-56_reformatted.csv completed\n",
      "UMAFall_Subject_03_ADL_MakingACall_3_2017-04-14_23-50-36_reformatted.csv completed\n",
      "UMAFall_Subject_03_ADL_OpeningDoor_1_2017-04-14_23-55-44_reformatted.csv completed\n",
      "UMAFall_Subject_03_ADL_OpeningDoor_2_2017-04-14_23-56-22_reformatted.csv completed\n",
      "UMAFall_Subject_03_ADL_OpeningDoor_3_2017-04-14_23-57-06_reformatted.csv completed\n",
      "UMAFall_Subject_03_ADL_Sitting_GettingUpOnAChair_1_2017-04-14_23-46-20_reformatted.csv completed\n",
      "UMAFall_Subject_03_ADL_Sitting_GettingUpOnAChair_2_2017-04-14_23-47-37_reformatted.csv completed\n",
      "UMAFall_Subject_03_ADL_Sitting_GettingUpOnAChair_3_2017-04-14_23-48-14_reformatted.csv completed\n",
      "UMAFall_Subject_03_ADL_Walking_1_2017-04-14_23-44-16_reformatted.csv completed\n",
      "UMAFall_Subject_03_ADL_Walking_2_2017-04-14_23-44-56_reformatted.csv completed\n",
      "UMAFall_Subject_03_ADL_Walking_3_2017-04-14_23-45-34_reformatted.csv completed\n",
      "UMAFall_Subject_04_ADL_Aplausing_1_2016-12-03_17-50-30_reformatted.csv completed\n",
      "UMAFall_Subject_04_ADL_Aplausing_2_2016-12-03_17-51-07_reformatted.csv completed\n",
      "UMAFall_Subject_04_ADL_Aplausing_3_2016-12-03_17-51-44_reformatted.csv completed\n",
      "UMAFall_Subject_04_ADL_Bending_1_2016-06-13_12-56-21_reformatted.csv completed\n",
      "UMAFall_Subject_04_ADL_Bending_2_2016-06-13_12-57-13_reformatted.csv completed\n",
      "UMAFall_Subject_04_ADL_Bending_3_2016-06-13_12-57-54_reformatted.csv completed\n",
      "UMAFall_Subject_04_ADL_HandsUp_1_2016-12-03_17-48-37_reformatted.csv completed\n",
      "UMAFall_Subject_04_ADL_HandsUp_2_2016-12-03_17-49-13_reformatted.csv completed\n",
      "UMAFall_Subject_04_ADL_HandsUp_3_2016-12-03_17-49-52_reformatted.csv completed\n",
      "UMAFall_Subject_04_ADL_Hopping_1_2016-06-13_13-01-04_reformatted.csv completed\n",
      "UMAFall_Subject_04_ADL_Hopping_2_2016-06-13_13-01-42_reformatted.csv completed\n",
      "UMAFall_Subject_04_ADL_Hopping_3_2016-06-13_13-02-19_reformatted.csv completed\n",
      "UMAFall_Subject_04_ADL_Jogging_1_2016-06-13_13-07-16_reformatted.csv completed\n",
      "UMAFall_Subject_04_ADL_Jogging_2_2016-06-13_13-07-58_reformatted.csv completed\n",
      "UMAFall_Subject_04_ADL_Jogging_3_2016-06-13_13-08-41_reformatted.csv completed\n",
      "UMAFall_Subject_04_ADL_LyingDown_OnABed_1_2016-06-13_13-10-22_reformatted.csv completed\n",
      "UMAFall_Subject_04_ADL_LyingDown_OnABed_2_2016-06-13_13-11-01_reformatted.csv completed\n",
      "UMAFall_Subject_04_ADL_LyingDown_OnABed_3_2016-06-13_13-11-39_reformatted.csv completed\n",
      "UMAFall_Subject_04_ADL_MakingACall_1_2016-12-03_17-42-53_reformatted.csv completed\n",
      "UMAFall_Subject_04_ADL_MakingACall_2_2016-12-03_17-43-29_reformatted.csv completed\n",
      "UMAFall_Subject_04_ADL_MakingACall_3_2016-12-03_17-47-48_reformatted.csv completed\n",
      "UMAFall_Subject_04_ADL_OpeningDoor_1_2016-12-03_17-52-32_reformatted.csv completed\n",
      "UMAFall_Subject_04_ADL_OpeningDoor_2_2016-12-03_17-54-07_reformatted.csv completed\n",
      "UMAFall_Subject_04_ADL_OpeningDoor_3_2016-12-03_17-54-45_reformatted.csv completed\n",
      "UMAFall_Subject_04_ADL_Sitting_GettingUpOnAChair_1_2016-06-13_13-03-32_reformatted.csv completed\n",
      "UMAFall_Subject_04_ADL_Sitting_GettingUpOnAChair_2_2016-06-13_13-04-16_reformatted.csv completed\n",
      "UMAFall_Subject_04_ADL_Sitting_GettingUpOnAChair_3_2016-06-13_13-04-55_reformatted.csv completed\n",
      "UMAFall_Subject_04_ADL_Walking_1_2016-06-13_12-58-50_reformatted.csv completed\n",
      "UMAFall_Subject_04_ADL_Walking_2_2016-06-13_12-59-29_reformatted.csv completed\n",
      "UMAFall_Subject_04_ADL_Walking_3_2016-06-13_13-00-11_reformatted.csv completed\n",
      "UMAFall_Subject_05_ADL_Aplausing_1_2016-11-28_16-32-03_reformatted.csv completed\n",
      "UMAFall_Subject_05_ADL_Aplausing_2_2016-11-28_16-32-41_reformatted.csv completed\n",
      "UMAFall_Subject_05_ADL_Aplausing_3_2016-11-28_16-33-17_reformatted.csv completed\n",
      "UMAFall_Subject_05_ADL_Bending_1_2016-06-15_21-41-04_reformatted.csv completed\n",
      "UMAFall_Subject_05_ADL_Bending_2_2016-06-15_21-41-42_reformatted.csv completed\n"
     ]
    },
    {
     "name": "stdout",
     "output_type": "stream",
     "text": [
      "UMAFall_Subject_05_ADL_Bending_2_2016-06-15_21-42-19_reformatted.csv completed\n",
      "UMAFall_Subject_05_ADL_Bending_3_2016-06-15_21-43-01_reformatted.csv completed\n",
      "UMAFall_Subject_05_ADL_HandsUp_1_2016-11-28_16-29-30_reformatted.csv completed\n",
      "UMAFall_Subject_05_ADL_HandsUp_2_2016-11-28_16-30-07_reformatted.csv completed\n",
      "UMAFall_Subject_05_ADL_HandsUp_3_2016-11-28_16-30-45_reformatted.csv completed\n",
      "UMAFall_Subject_05_ADL_HandsUp_4_2016-11-28_16-31-23_reformatted.csv completed\n",
      "UMAFall_Subject_05_ADL_Hopping_1_2016-06-15_21-47-41_reformatted.csv completed\n",
      "UMAFall_Subject_05_ADL_Hopping_2_2016-06-15_21-48-17_reformatted.csv completed\n",
      "UMAFall_Subject_05_ADL_Hopping_3_2016-06-15_21-48-59_reformatted.csv completed\n",
      "UMAFall_Subject_05_ADL_Jogging_1_2016-06-15_21-45-38_reformatted.csv completed\n",
      "UMAFall_Subject_05_ADL_Jogging_2_2016-06-15_21-46-19_reformatted.csv completed\n",
      "UMAFall_Subject_05_ADL_Jogging_3_2016-06-15_21-46-58_reformatted.csv completed\n",
      "UMAFall_Subject_05_ADL_LyingDown_OnABed_1_2016-06-15_21-52-40_reformatted.csv completed\n",
      "UMAFall_Subject_05_ADL_LyingDown_OnABed_2_2016-06-15_21-53-18_reformatted.csv completed\n",
      "UMAFall_Subject_05_ADL_LyingDown_OnABed_3_2016-06-15_21-54-02_reformatted.csv completed\n",
      "UMAFall_Subject_05_ADL_MakingACall_1_2016-11-28_16-27-25_reformatted.csv completed\n",
      "UMAFall_Subject_05_ADL_MakingACall_2_2016-11-28_16-28-01_reformatted.csv completed\n",
      "UMAFall_Subject_05_ADL_MakingACall_3_2016-11-28_16-28-39_reformatted.csv completed\n",
      "UMAFall_Subject_05_ADL_OpeningDoor_1_2016-11-28_16-34-11_reformatted.csv completed\n",
      "UMAFall_Subject_05_ADL_OpeningDoor_3_2016-11-28_16-35-37_reformatted.csv completed\n",
      "UMAFall_Subject_05_ADL_Sitting_GettingUpOnAChair_1_2016-06-15_21-49-55_reformatted.csv completed\n",
      "UMAFall_Subject_05_ADL_Sitting_GettingUpOnAChair_2_2016-06-15_21-50-34_reformatted.csv completed\n",
      "UMAFall_Subject_05_ADL_Sitting_GettingUpOnAChair_3_2016-06-15_21-51-18_reformatted.csv completed\n",
      "UMAFall_Subject_05_ADL_Walking_1_2016-06-15_21-43-41_reformatted.csv completed\n",
      "UMAFall_Subject_05_ADL_Walking_2_2016-06-15_21-44-20_reformatted.csv completed\n",
      "UMAFall_Subject_05_ADL_Walking_3_2016-06-15_21-44-58_reformatted.csv completed\n",
      "UMAFall_Subject_06_ADL_Aplausing_1_2017-04-19_12-40-28_reformatted.csv completed\n",
      "UMAFall_Subject_06_ADL_Aplausing_2_2017-04-19_12-41-05_reformatted.csv completed\n",
      "UMAFall_Subject_06_ADL_Aplausing_3_2017-04-19_12-41-42_reformatted.csv completed\n",
      "UMAFall_Subject_06_ADL_Bending_1_2016-06-13_21-09-01_reformatted.csv completed\n",
      "UMAFall_Subject_06_ADL_Bending_2_2016-06-13_21-09-40_reformatted.csv completed\n",
      "UMAFall_Subject_06_ADL_Bending_3_2016-06-13_21-10-20_reformatted.csv completed\n",
      "UMAFall_Subject_06_ADL_HandsUp_1_2017-04-19_12-36-11_reformatted.csv completed\n",
      "UMAFall_Subject_06_ADL_HandsUp_2_2017-04-19_12-36-50_reformatted.csv completed\n",
      "UMAFall_Subject_06_ADL_HandsUp_3_2017-04-19_12-37-27_reformatted.csv completed\n",
      "UMAFall_Subject_06_ADL_Hopping_1_2016-06-13_21-15-47_reformatted.csv completed\n",
      "UMAFall_Subject_06_ADL_Hopping_2_2016-06-13_21-16-26_reformatted.csv completed\n",
      "UMAFall_Subject_06_ADL_Hopping_3_2016-06-13_21-17-05_reformatted.csv completed\n",
      "UMAFall_Subject_06_ADL_Jogging_1_2016-06-13_21-31-03_reformatted.csv completed\n",
      "UMAFall_Subject_06_ADL_Jogging_2_2016-06-13_21-32-32_reformatted.csv completed\n",
      "UMAFall_Subject_06_ADL_Jogging_3_2016-06-13_21-33-11_reformatted.csv completed\n",
      "UMAFall_Subject_06_ADL_LyingDown_OnABed_1_2016-06-13_21-24-41_reformatted.csv completed\n",
      "UMAFall_Subject_06_ADL_LyingDown_OnABed_2_2016-06-13_21-25-19_reformatted.csv completed\n",
      "UMAFall_Subject_06_ADL_LyingDown_OnABed_2_2016-06-13_21-25-57_reformatted.csv completed\n",
      "UMAFall_Subject_06_ADL_LyingDown_OnABed_2_2016-06-13_21-26-32_reformatted.csv completed\n",
      "UMAFall_Subject_06_ADL_LyingDown_OnABed_3_2016-06-13_21-18-23_reformatted.csv completed\n",
      "UMAFall_Subject_06_ADL_MakingACall_1_2017-04-19_12-33-56_reformatted.csv completed\n",
      "UMAFall_Subject_06_ADL_MakingACall_2_2017-04-19_12-34-34_reformatted.csv completed\n",
      "UMAFall_Subject_06_ADL_MakingACall_3_2017-04-19_12-35-11_reformatted.csv completed\n",
      "UMAFall_Subject_06_ADL_OpeningDoor_1_2017-04-19_12-38-18_reformatted.csv completed\n",
      "UMAFall_Subject_06_ADL_OpeningDoor_2_2017-04-19_12-39-04_reformatted.csv completed\n",
      "UMAFall_Subject_06_ADL_OpeningDoor_3_2017-04-19_12-39-41_reformatted.csv completed\n",
      "UMAFall_Subject_06_ADL_Sitting_GettingUpOnAChair_1_2016-06-13_21-28-52_reformatted.csv completed\n",
      "UMAFall_Subject_06_ADL_Sitting_GettingUpOnAChair_2_2016-06-13_21-29-31_reformatted.csv completed\n",
      "UMAFall_Subject_06_ADL_Sitting_GettingUpOnAChair_3_2016-06-13_21-30-10_reformatted.csv completed\n",
      "UMAFall_Subject_06_ADL_Walking_1_2016-06-13_21-11-08_reformatted.csv completed\n",
      "UMAFall_Subject_06_ADL_Walking_2_2016-06-13_21-11-56_reformatted.csv completed\n",
      "UMAFall_Subject_06_ADL_Walking_2_2016-06-13_21-12-36_reformatted.csv completed\n",
      "UMAFall_Subject_06_ADL_Walking_3_2016-06-13_21-13-22_reformatted.csv completed\n",
      "UMAFall_Subject_07_ADL_Aplausing_1_2016-12-03_17-13-37_reformatted.csv completed\n",
      "UMAFall_Subject_07_ADL_Aplausing_2_2016-12-03_17-14-26_reformatted.csv completed\n",
      "UMAFall_Subject_07_ADL_Aplausing_3_2016-12-03_17-15-04_reformatted.csv completed\n",
      "UMAFall_Subject_07_ADL_Bending_1_2016-06-13_18-21-36_reformatted.csv completed\n",
      "UMAFall_Subject_07_ADL_Bending_2_2016-06-13_18-22-17_reformatted.csv completed\n",
      "UMAFall_Subject_07_ADL_Bending_3_2016-06-13_18-22-57_reformatted.csv completed\n",
      "UMAFall_Subject_07_ADL_HandsUp_1_2016-12-03_17-15-45_reformatted.csv completed\n",
      "UMAFall_Subject_07_ADL_HandsUp_2_2016-12-03_17-16-30_reformatted.csv completed\n",
      "UMAFall_Subject_07_ADL_HandsUp_3_2016-12-03_17-17-08_reformatted.csv completed\n",
      "UMAFall_Subject_07_ADL_Hopping_1_2016-06-13_18-26-30_reformatted.csv completed\n",
      "UMAFall_Subject_07_ADL_Hopping_2_2016-06-13_18-27-17_reformatted.csv completed\n",
      "UMAFall_Subject_07_ADL_Hopping_3_2016-06-13_18-29-00_reformatted.csv completed\n",
      "UMAFall_Subject_07_ADL_LyingDown_OnABed_1_2016-06-13_18-31-07_reformatted.csv completed\n",
      "UMAFall_Subject_07_ADL_LyingDown_OnABed_2_2016-06-13_18-31-46_reformatted.csv completed\n",
      "UMAFall_Subject_07_ADL_LyingDown_OnABed_3_2016-06-13_18-32-22_reformatted.csv completed\n",
      "UMAFall_Subject_07_ADL_MakingACall_1_2016-12-03_17-11-38_reformatted.csv completed\n",
      "UMAFall_Subject_07_ADL_MakingACall_2_2016-12-03_17-12-17_reformatted.csv completed\n",
      "UMAFall_Subject_07_ADL_MakingACall_3_2016-12-03_17-12-54_reformatted.csv completed\n",
      "UMAFall_Subject_07_ADL_OpeningDoor_1_2016-12-03_17-18-06_reformatted.csv completed\n",
      "UMAFall_Subject_07_ADL_OpeningDoor_2_2016-12-03_17-18-42_reformatted.csv completed\n",
      "UMAFall_Subject_07_ADL_OpeningDoor_3_2016-12-03_17-19-20_reformatted.csv completed\n",
      "UMAFall_Subject_07_ADL_Sitting_GettingUpOnAChair_1_2016-06-13_18-33-23_reformatted.csv completed\n",
      "UMAFall_Subject_07_ADL_Sitting_GettingUpOnAChair_2_2016-06-13_18-34-35_reformatted.csv completed\n",
      "UMAFall_Subject_07_ADL_Sitting_GettingUpOnAChair_3_2016-06-13_18-35-15_reformatted.csv completed\n",
      "UMAFall_Subject_07_ADL_Walking_1_2016-06-13_18-23-54_reformatted.csv completed\n",
      "UMAFall_Subject_07_ADL_Walking_2_2016-06-13_18-24-34_reformatted.csv completed\n",
      "UMAFall_Subject_07_ADL_Walking_3_2016-06-13_18-25-11_reformatted.csv completed\n",
      "UMAFall_Subject_08_ADL_Bending_1_2016-06-18_14-23-51_reformatted.csv completed\n",
      "UMAFall_Subject_08_ADL_Sitting_GettingUpOnAChair_1_2016-06-18_14-25-19_reformatted.csv completed\n",
      "UMAFall_Subject_08_ADL_Sitting_GettingUpOnAChair_2_2016-06-18_14-25-59_reformatted.csv completed\n",
      "UMAFall_Subject_08_ADL_Walking_1_2016-06-18_14-24-36_reformatted.csv completed\n",
      "UMAFall_Subject_09_ADL_Aplausing_1_2017-03-27_22-35-29_reformatted.csv completed\n",
      "UMAFall_Subject_09_ADL_Aplausing_2_2017-03-27_22-36-09_reformatted.csv completed\n",
      "UMAFall_Subject_09_ADL_Aplausing_3_2017-03-27_22-36-50_reformatted.csv completed\n",
      "UMAFall_Subject_09_ADL_Bending_1_2016-06-04_21-22-51_reformatted.csv completed\n",
      "UMAFall_Subject_09_ADL_Bending_2_2016-06-04_21-23-35_reformatted.csv completed\n",
      "UMAFall_Subject_09_ADL_Bending_3_2016-06-04_21-24-21_reformatted.csv completed\n",
      "UMAFall_Subject_09_ADL_GoDownstairs_1_2016-06-04_21-37-43_reformatted.csv completed\n",
      "UMAFall_Subject_09_ADL_GoDownstairs_2_2016-06-04_21-39-11_reformatted.csv completed\n",
      "UMAFall_Subject_09_ADL_GoDownstairs_3_2016-06-04_21-40-44_reformatted.csv completed\n",
      "UMAFall_Subject_09_ADL_GoUpstairs_1_2016-06-04_21-37-00_reformatted.csv completed\n",
      "UMAFall_Subject_09_ADL_GoUpstairs_2_2016-06-04_21-38-28_reformatted.csv completed\n",
      "UMAFall_Subject_09_ADL_GoUpstairs_3_2016-06-04_21-40-02_reformatted.csv completed\n",
      "UMAFall_Subject_09_ADL_HandsUp_1_2017-03-27_22-30-14_reformatted.csv completed\n",
      "UMAFall_Subject_09_ADL_HandsUp_2_2017-03-27_22-30-59_reformatted.csv completed\n",
      "UMAFall_Subject_09_ADL_HandsUp_3_2017-03-27_22-31-44_reformatted.csv completed\n",
      "UMAFall_Subject_09_ADL_Hopping_1_2016-06-04_21-27-40_reformatted.csv completed\n",
      "UMAFall_Subject_09_ADL_Hopping_2_2016-06-04_21-28-22_reformatted.csv completed\n"
     ]
    },
    {
     "name": "stdout",
     "output_type": "stream",
     "text": [
      "UMAFall_Subject_09_ADL_Hopping_3_2016-06-04_21-29-05_reformatted.csv completed\n",
      "UMAFall_Subject_09_ADL_LyingDown_OnABed_1_2016-06-04_21-33-01_reformatted.csv completed\n",
      "UMAFall_Subject_09_ADL_LyingDown_OnABed_1_2016-06-04_21-33-51_reformatted.csv completed\n",
      "UMAFall_Subject_09_ADL_LyingDown_OnABed_2_2016-06-04_21-34-37_reformatted.csv completed\n",
      "UMAFall_Subject_09_ADL_LyingDown_OnABed_3_2016-06-04_21-35-19_reformatted.csv completed\n",
      "UMAFall_Subject_09_ADL_MakingACall_1_2017-03-27_22-27-51_reformatted.csv completed\n",
      "UMAFall_Subject_09_ADL_MakingACall_2_2017-03-27_22-28-32_reformatted.csv completed\n",
      "UMAFall_Subject_09_ADL_MakingACall_3_2017-03-27_22-29-15_reformatted.csv completed\n",
      "UMAFall_Subject_09_ADL_OpeningDoor_1_2017-03-27_22-32-55_reformatted.csv completed\n",
      "UMAFall_Subject_09_ADL_OpeningDoor_2_2017-03-27_22-33-50_reformatted.csv completed\n",
      "UMAFall_Subject_09_ADL_OpeningDoor_3_2017-03-27_22-34-43_reformatted.csv completed\n",
      "UMAFall_Subject_09_ADL_Sitting_GettingUpOnAChair_1_2016-06-04_21-30-12_reformatted.csv completed\n",
      "UMAFall_Subject_09_ADL_Sitting_GettingUpOnAChair_2_2016-06-04_21-30-54_reformatted.csv completed\n",
      "UMAFall_Subject_09_ADL_Sitting_GettingUpOnAChair_3_2016-06-04_21-31-38_reformatted.csv completed\n",
      "UMAFall_Subject_09_ADL_Walking_1_2016-06-04_21-25-18_reformatted.csv completed\n",
      "UMAFall_Subject_09_ADL_Walking_2_2016-06-04_21-26-01_reformatted.csv completed\n",
      "UMAFall_Subject_09_ADL_Walking_3_2016-06-04_21-26-43_reformatted.csv completed\n",
      "UMAFall_Subject_10_ADL_Bending_1_2016-06-04_15-06-27_reformatted.csv completed\n",
      "UMAFall_Subject_10_ADL_Bending_2_2016-06-04_15-07-21_reformatted.csv completed\n",
      "UMAFall_Subject_10_ADL_Bending_3_2016-06-04_15-08-04_reformatted.csv completed\n",
      "UMAFall_Subject_10_ADL_GoDownstairs_2_2016-06-06_15-56-28_reformatted.csv completed\n",
      "UMAFall_Subject_10_ADL_GoDownstairs_3_2016-06-06_15-55-32_reformatted.csv completed\n",
      "UMAFall_Subject_10_ADL_GoUpstairs_1_2016-06-06_15-51-45_reformatted.csv completed\n",
      "UMAFall_Subject_10_ADL_GoUpstairs_2_2016-06-06_15-54-38_reformatted.csv completed\n",
      "UMAFall_Subject_10_ADL_Hopping_1_2016-06-06_15-44-04_reformatted.csv completed\n",
      "UMAFall_Subject_10_ADL_Hopping_2_2016-06-06_15-45-10_reformatted.csv completed\n",
      "UMAFall_Subject_10_ADL_Hopping_3_2016-06-06_15-45-51_reformatted.csv completed\n",
      "UMAFall_Subject_10_ADL_LyingDown_OnABed_1_2016-06-06_15-49-27_reformatted.csv completed\n",
      "UMAFall_Subject_10_ADL_LyingDown_OnABed_2_2016-06-06_15-50-08_reformatted.csv completed\n",
      "UMAFall_Subject_10_ADL_LyingDown_OnABed_3_2016-06-06_15-50-57_reformatted.csv completed\n",
      "UMAFall_Subject_10_ADL_Sitting_GettingUpOnAChair_1_2016-06-06_15-46-48_reformatted.csv completed\n",
      "UMAFall_Subject_10_ADL_Sitting_GettingUpOnAChair_2_2016-06-06_15-47-27_reformatted.csv completed\n",
      "UMAFall_Subject_10_ADL_Sitting_GettingUpOnAChair_3_2016-06-06_15-48-07_reformatted.csv completed\n",
      "UMAFall_Subject_10_ADL_Walking_1_2016-06-06_15-41-15_reformatted.csv completed\n",
      "UMAFall_Subject_10_ADL_Walking_2_2016-06-06_15-42-00_reformatted.csv completed\n",
      "UMAFall_Subject_10_ADL_Walking_3_2016-06-06_15-42-40_reformatted.csv completed\n",
      "UMAFall_Subject_11_ADL_Bending_1_2016-06-10_17-33-58_reformatted.csv completed\n",
      "UMAFall_Subject_11_ADL_Bending_2_2016-06-10_17-34-45_reformatted.csv completed\n",
      "UMAFall_Subject_11_ADL_Bending_3_2016-06-10_17-35-26_reformatted.csv completed\n",
      "UMAFall_Subject_11_ADL_Hopping_1_2016-06-10_17-39-10_reformatted.csv completed\n",
      "UMAFall_Subject_11_ADL_Hopping_2_2016-06-10_17-39-58_reformatted.csv completed\n",
      "UMAFall_Subject_11_ADL_Hopping_3_2016-06-10_17-40-39_reformatted.csv completed\n",
      "UMAFall_Subject_11_ADL_Jogging_1_2016-06-10_17-44-29_reformatted.csv completed\n",
      "UMAFall_Subject_11_ADL_Jogging_2_2016-06-10_17-45-08_reformatted.csv completed\n",
      "UMAFall_Subject_11_ADL_Jogging_3_2016-06-10_17-45-52_reformatted.csv completed\n",
      "UMAFall_Subject_11_ADL_LyingDown_OnABed_1_2016-06-10_17-46-58_reformatted.csv completed\n",
      "UMAFall_Subject_11_ADL_LyingDown_OnABed_2_2016-06-10_17-47-49_reformatted.csv completed\n",
      "UMAFall_Subject_11_ADL_LyingDown_OnABed_3_2016-06-10_17-48-27_reformatted.csv completed\n",
      "UMAFall_Subject_11_ADL_Sitting_GettingUpOnAChair_1_2016-06-10_17-41-53_reformatted.csv completed\n",
      "UMAFall_Subject_11_ADL_Sitting_GettingUpOnAChair_2_2016-06-10_17-42-42_reformatted.csv completed\n",
      "UMAFall_Subject_11_ADL_Sitting_GettingUpOnAChair_3_2016-06-10_17-43-23_reformatted.csv completed\n",
      "UMAFall_Subject_11_ADL_Walking_1_2016-06-10_17-36-39_reformatted.csv completed\n",
      "UMAFall_Subject_11_ADL_Walking_2_2016-06-10_17-37-22_reformatted.csv completed\n",
      "UMAFall_Subject_11_ADL_Walking_3_2016-06-10_17-38-05_reformatted.csv completed\n",
      "UMAFall_Subject_12_ADL_Aplausing_1_2017-03-27_22-47-43_reformatted.csv completed\n",
      "UMAFall_Subject_12_ADL_Aplausing_2_2017-03-27_22-48-19_reformatted.csv completed\n",
      "UMAFall_Subject_12_ADL_Aplausing_3_2017-03-27_22-48-56_reformatted.csv completed\n",
      "UMAFall_Subject_12_ADL_Bending_1_2016-06-04_21-46-33_reformatted.csv completed\n",
      "UMAFall_Subject_12_ADL_Bending_2_2016-06-04_21-47-14_reformatted.csv completed\n",
      "UMAFall_Subject_12_ADL_Bending_3_2016-06-04_21-47-59_reformatted.csv completed\n",
      "UMAFall_Subject_12_ADL_GoDownstairs_1_2016-06-04_21-58-55_reformatted.csv completed\n",
      "UMAFall_Subject_12_ADL_GoDownstairs_2_2016-06-04_22-00-26_reformatted.csv completed\n",
      "UMAFall_Subject_12_ADL_GoDownstairs_3_2016-06-04_22-03-08_reformatted.csv completed\n",
      "UMAFall_Subject_12_ADL_GoUpstairs_1_2016-06-04_21-58-03_reformatted.csv completed\n",
      "UMAFall_Subject_12_ADL_GoUpstairs_2_2016-06-04_21-59-39_reformatted.csv completed\n",
      "UMAFall_Subject_12_ADL_GoUpstairs_3_2016-06-04_22-01-10_reformatted.csv completed\n",
      "UMAFall_Subject_12_ADL_HandsUp_1_2017-03-27_22-43-19_reformatted.csv completed\n",
      "UMAFall_Subject_12_ADL_HandsUp_2_2017-03-27_22-43-58_reformatted.csv completed\n",
      "UMAFall_Subject_12_ADL_HandsUp_3_2017-03-27_22-44-36_reformatted.csv completed\n",
      "UMAFall_Subject_12_ADL_Hopping_1_2016-06-04_21-51-07_reformatted.csv completed\n",
      "UMAFall_Subject_12_ADL_Hopping_2_2016-06-04_21-51-50_reformatted.csv completed\n",
      "UMAFall_Subject_12_ADL_Hopping_3_2016-06-04_21-52-31_reformatted.csv completed\n",
      "UMAFall_Subject_12_ADL_LyingDown_OnABed_1_2016-06-04_21-55-40_reformatted.csv completed\n",
      "UMAFall_Subject_12_ADL_LyingDown_OnABed_2_2016-06-04_21-56-25_reformatted.csv completed\n",
      "UMAFall_Subject_12_ADL_LyingDown_OnABed_3_2016-06-04_21-57-06_reformatted.csv completed\n",
      "UMAFall_Subject_12_ADL_MakingACall_1_2017-03-27_22-41-07_reformatted.csv completed\n",
      "UMAFall_Subject_12_ADL_MakingACall_2_2017-03-27_22-41-48_reformatted.csv completed\n",
      "UMAFall_Subject_12_ADL_MakingACall_3_2017-03-27_22-42-26_reformatted.csv completed\n",
      "UMAFall_Subject_12_ADL_OpeningDoor_1_2017-03-27_22-45-29_reformatted.csv completed\n",
      "UMAFall_Subject_12_ADL_OpeningDoor_2_2017-03-27_22-46-05_reformatted.csv completed\n",
      "UMAFall_Subject_12_ADL_OpeningDoor_3_2017-03-27_22-46-41_reformatted.csv completed\n",
      "UMAFall_Subject_12_ADL_Sitting_GettingUpOnAChair_1_2016-06-04_21-53-16_reformatted.csv completed\n",
      "UMAFall_Subject_12_ADL_Sitting_GettingUpOnAChair_2_2016-06-04_21-53-58_reformatted.csv completed\n",
      "UMAFall_Subject_12_ADL_Sitting_GettingUpOnAChair_3_2016-06-04_21-54-42_reformatted.csv completed\n",
      "UMAFall_Subject_12_ADL_Walking_1_2016-06-04_21-48-44_reformatted.csv completed\n",
      "UMAFall_Subject_12_ADL_Walking_2_2016-06-04_21-49-28_reformatted.csv completed\n",
      "UMAFall_Subject_12_ADL_Walking_3_2016-06-04_21-50-10_reformatted.csv completed\n",
      "UMAFall_Subject_13_ADL_Bending_1_2016-06-06_16-37-56_reformatted.csv completed\n",
      "UMAFall_Subject_13_ADL_Bending_1_2016-06-06_16-39-22_reformatted.csv completed\n",
      "UMAFall_Subject_13_ADL_Bending_2_2016-06-06_16-40-04_reformatted.csv completed\n",
      "UMAFall_Subject_13_ADL_Bending_3_2016-06-06_16-40-45_reformatted.csv completed\n",
      "UMAFall_Subject_13_ADL_GoDownstairs_1_2016-06-06_16-53-44_reformatted.csv completed\n",
      "UMAFall_Subject_13_ADL_GoDownstairs_2_2016-06-06_16-54-33_reformatted.csv completed\n",
      "UMAFall_Subject_13_ADL_GoUpstairs_1_2016-06-06_16-51-39_reformatted.csv completed\n",
      "UMAFall_Subject_13_ADL_GoUpstairs_2_2016-06-06_16-52-19_reformatted.csv completed\n",
      "UMAFall_Subject_13_ADL_Hopping_1_2016-06-06_16-44-15_reformatted.csv completed\n",
      "UMAFall_Subject_13_ADL_Hopping_3_2016-06-06_16-45-44_reformatted.csv completed\n",
      "UMAFall_Subject_13_ADL_Hopping_5_2016-06-06_16-44-57_reformatted.csv completed\n",
      "UMAFall_Subject_13_ADL_LyingDown_OnABed_2_2016-06-06_16-50-01_reformatted.csv completed\n",
      "UMAFall_Subject_13_ADL_LyingDown_OnABed_3_2016-06-06_16-50-42_reformatted.csv completed\n",
      "UMAFall_Subject_13_ADL_LyingDown_OnABed_4_2016-06-06_16-49-04_reformatted.csv completed\n",
      "UMAFall_Subject_13_ADL_Sitting_GettingUpOnAChair_1_2016-06-06_16-46-30_reformatted.csv completed\n",
      "UMAFall_Subject_13_ADL_Sitting_GettingUpOnAChair_2_2016-06-06_16-47-17_reformatted.csv completed\n",
      "UMAFall_Subject_13_ADL_Sitting_GettingUpOnAChair_3_2016-06-06_16-48-02_reformatted.csv completed\n",
      "UMAFall_Subject_13_ADL_Walking_1_2016-06-06_16-41-26_reformatted.csv completed\n",
      "UMAFall_Subject_13_ADL_Walking_2_2016-06-06_16-42-06_reformatted.csv completed\n",
      "UMAFall_Subject_13_ADL_Walking_3_2016-06-06_16-43-29_reformatted.csv completed\n",
      "UMAFall_Subject_14_ADL_Bending_1_2016-06-03_19-30-47_reformatted.csv completed\n",
      "UMAFall_Subject_14_ADL_Bending_2_2016-06-03_19-32-17_reformatted.csv completed\n",
      "UMAFall_Subject_14_ADL_Bending_3_2016-06-03_19-33-33_reformatted.csv completed\n",
      "UMAFall_Subject_14_ADL_Bending_4_2016-06-03_19-36-08_reformatted.csv completed\n"
     ]
    },
    {
     "name": "stdout",
     "output_type": "stream",
     "text": [
      "UMAFall_Subject_14_ADL_GoDownstairs_1_2016-06-03_19-48-26_reformatted.csv completed\n",
      "UMAFall_Subject_14_ADL_GoDownstairs_2_2016-06-03_19-50-47_reformatted.csv completed\n",
      "UMAFall_Subject_14_ADL_GoDownstairs_3_2016-06-03_19-53-07_reformatted.csv completed\n",
      "UMAFall_Subject_14_ADL_GoDownstairs_3_2016-06-03_19-54-28_reformatted.csv completed\n",
      "UMAFall_Subject_14_ADL_GoUpstairs_1_2016-06-03_19-47-35_reformatted.csv completed\n",
      "UMAFall_Subject_14_ADL_GoUpstairs_2_2016-06-03_19-49-53_reformatted.csv completed\n",
      "UMAFall_Subject_14_ADL_GoUpstairs_3_2016-06-03_19-52-15_reformatted.csv completed\n",
      "UMAFall_Subject_14_ADL_Hopping_1_2016-06-03_19-41-06_reformatted.csv completed\n",
      "UMAFall_Subject_14_ADL_Hopping_2_2016-06-03_19-41-54_reformatted.csv completed\n",
      "UMAFall_Subject_14_ADL_Hopping_3_2016-06-03_19-42-52_reformatted.csv completed\n",
      "UMAFall_Subject_14_ADL_LyingDown_OnABed_1_2016-06-03_19-56-12_reformatted.csv completed\n",
      "UMAFall_Subject_14_ADL_LyingDown_OnABed_2_2016-06-03_19-57-03_reformatted.csv completed\n",
      "UMAFall_Subject_14_ADL_LyingDown_OnABed_3_2016-06-03_19-58-27_reformatted.csv completed\n",
      "UMAFall_Subject_14_ADL_Sitting_GettingUpOnAChair_1_2016-06-03_19-45-05_reformatted.csv completed\n",
      "UMAFall_Subject_14_ADL_Sitting_GettingUpOnAChair_2_2016-06-03_19-46-07_reformatted.csv completed\n",
      "UMAFall_Subject_14_ADL_Sitting_GettingUpOnAChair_3_2016-06-03_19-44-02_reformatted.csv completed\n",
      "UMAFall_Subject_14_ADL_Walking_1_2016-06-03_19-38-06_reformatted.csv completed\n",
      "UMAFall_Subject_14_ADL_Walking_2_2016-06-03_19-39-08_reformatted.csv completed\n",
      "UMAFall_Subject_14_ADL_Walking_3_2016-06-03_19-40-03_reformatted.csv completed\n",
      "UMAFall_Subject_15_ADL_Aplausing_1_2016-12-03_17-25-52_reformatted.csv completed\n",
      "UMAFall_Subject_15_ADL_Aplausing_2_2016-12-03_17-26-31_reformatted.csv completed\n",
      "UMAFall_Subject_15_ADL_Aplausing_3_2016-12-03_17-27-08_reformatted.csv completed\n",
      "UMAFall_Subject_15_ADL_Bending_1_2016-06-17_18-28-38_reformatted.csv completed\n",
      "UMAFall_Subject_15_ADL_HandsUp_1_2016-12-03_17-27-58_reformatted.csv completed\n",
      "UMAFall_Subject_15_ADL_HandsUp_2_2016-12-03_17-28-44_reformatted.csv completed\n",
      "UMAFall_Subject_15_ADL_HandsUp_3_2016-12-03_17-29-24_reformatted.csv completed\n",
      "UMAFall_Subject_15_ADL_Hopping_1_2016-06-17_18-32-47_reformatted.csv completed\n",
      "UMAFall_Subject_15_ADL_Jogging_1_2016-06-17_18-30-49_reformatted.csv completed\n",
      "UMAFall_Subject_15_ADL_LyingDown_OnABed_1_2016-06-17_18-34-10_reformatted.csv completed\n",
      "UMAFall_Subject_15_ADL_MakingACall_1_2016-12-03_17-23-16_reformatted.csv completed\n",
      "UMAFall_Subject_15_ADL_MakingACall_2_2016-12-03_17-23-53_reformatted.csv completed\n",
      "UMAFall_Subject_15_ADL_MakingACall_3_2016-12-03_17-24-30_reformatted.csv completed\n",
      "UMAFall_Subject_15_ADL_MakingACall_3_2016-12-03_17-25-11_reformatted.csv completed\n",
      "UMAFall_Subject_15_ADL_OpeningDoor_1_2016-12-03_17-31-35_reformatted.csv completed\n",
      "UMAFall_Subject_15_ADL_OpeningDoor_2_2016-12-03_17-32-14_reformatted.csv completed\n",
      "UMAFall_Subject_15_ADL_OpeningDoor_3_2016-12-03_17-30-16_reformatted.csv completed\n",
      "UMAFall_Subject_15_ADL_OpeningDoor_3_2016-12-03_17-32-52_reformatted.csv completed\n",
      "UMAFall_Subject_15_ADL_Sitting_GettingUpOnAChair_1_2016-06-17_18-31-49_reformatted.csv completed\n",
      "UMAFall_Subject_15_ADL_Walking_1_2016-06-17_18-29-24_reformatted.csv completed\n",
      "UMAFall_Subject_15_ADL_Walking_1_2016-06-17_18-29-58_reformatted.csv completed\n",
      "UMAFall_Subject_16_ADL_Bending_1_2016-06-17_20-56-02_reformatted.csv completed\n",
      "UMAFall_Subject_16_ADL_Bending_2_2016-06-17_20-56-42_reformatted.csv completed\n",
      "UMAFall_Subject_16_ADL_Sitting_GettingUpOnAChair_1_2016-06-17_20-58-17_reformatted.csv completed\n",
      "UMAFall_Subject_16_ADL_Sitting_GettingUpOnAChair_2_2016-06-17_20-58-57_reformatted.csv completed\n",
      "UMAFall_Subject_16_ADL_Walking_1_2016-06-17_22-00-19_reformatted.csv completed\n",
      "UMAFall_Subject_17_ADL_Bending_1_2016-06-17_19-05-01_reformatted.csv completed\n",
      "UMAFall_Subject_17_ADL_Hopping_1_2016-06-17_19-08-25_reformatted.csv completed\n",
      "UMAFall_Subject_17_ADL_Hopping_2_2016-06-17_19-09-02_reformatted.csv completed\n",
      "UMAFall_Subject_17_ADL_Jogging_1_2016-06-17_19-13-23_reformatted.csv completed\n",
      "UMAFall_Subject_17_ADL_LyingDown_OnABed_1_2016-06-17_19-11-47_reformatted.csv completed\n",
      "UMAFall_Subject_17_ADL_LyingDown_OnABed_2_2016-06-17_19-12-25_reformatted.csv completed\n",
      "UMAFall_Subject_17_ADL_Sitting_GettingUpOnAChair_1_2016-06-17_19-09-59_reformatted.csv completed\n",
      "UMAFall_Subject_17_ADL_Sitting_GettingUpOnAChair_2_2016-06-17_19-10-36_reformatted.csv completed\n",
      "UMAFall_Subject_17_ADL_Walking_1_2016-06-17_19-05-41_reformatted.csv completed\n",
      "UMAFall_Subject_17_ADL_Walking_2_2016-06-17_19-07-37_reformatted.csv completed\n",
      "UMAFall_Subject_18_ADL_Aplausing_1_2016-11-27_16-50-15_reformatted.csv completed\n",
      "UMAFall_Subject_18_ADL_Aplausing_1_2016-11-28_16-44-08_reformatted.csv completed\n",
      "UMAFall_Subject_18_ADL_Aplausing_2_2016-11-27_16-50-54_reformatted.csv completed\n",
      "UMAFall_Subject_18_ADL_Aplausing_2_2016-11-28_16-44-47_reformatted.csv completed\n",
      "UMAFall_Subject_18_ADL_Aplausing_3_2016-11-27_16-51-34_reformatted.csv completed\n",
      "UMAFall_Subject_18_ADL_Aplausing_3_2016-11-28_16-45-47_reformatted.csv completed\n",
      "UMAFall_Subject_18_ADL_Aplausing_4_2016-11-27_16-52-11_reformatted.csv completed\n",
      "UMAFall_Subject_18_ADL_Aplausing_5_2016-11-27_16-52-48_reformatted.csv completed\n",
      "UMAFall_Subject_18_ADL_Aplausing_6_2016-11-27_16-53-26_reformatted.csv completed\n",
      "UMAFall_Subject_18_ADL_Bending_1_2016-05-29_20-34-24_reformatted.csv completed\n",
      "UMAFall_Subject_18_ADL_Bending_1_2016-11-27_14-05-10_reformatted.csv completed\n",
      "UMAFall_Subject_18_ADL_Bending_2_2016-05-29_20-36-13_reformatted.csv completed\n",
      "UMAFall_Subject_18_ADL_Bending_2_2016-11-27_14-05-49_reformatted.csv completed\n",
      "UMAFall_Subject_18_ADL_Bending_3_2016-05-29_20-38-11_reformatted.csv completed\n",
      "UMAFall_Subject_18_ADL_Bending_3_2016-11-27_14-06-35_reformatted.csv completed\n",
      "UMAFall_Subject_18_ADL_Bending_4_2016-05-31_18-23-12_reformatted.csv completed\n",
      "UMAFall_Subject_18_ADL_Bending_4_2016-11-27_14-07-13_reformatted.csv completed\n",
      "UMAFall_Subject_18_ADL_Bending_5_2016-05-31_18-24-16_reformatted.csv completed\n",
      "UMAFall_Subject_18_ADL_Bending_5_2016-11-27_14-07-51_reformatted.csv completed\n",
      "UMAFall_Subject_18_ADL_Bending_6_2016-05-31_18-25-58_reformatted.csv completed\n",
      "UMAFall_Subject_18_ADL_Bending_6_2016-11-27_14-08-31_reformatted.csv completed\n",
      "UMAFall_Subject_18_ADL_Bending_7_2016-06-01_23-12-29_reformatted.csv completed\n",
      "UMAFall_Subject_18_ADL_Bending_8_2016-06-01_23-13-18_reformatted.csv completed\n",
      "UMAFall_Subject_18_ADL_Bending_9_2016-06-01_23-15-23_reformatted.csv completed\n",
      "UMAFall_Subject_18_ADL_GoDownstairs_1_2016-06-06_15-29-24_reformatted.csv completed\n",
      "UMAFall_Subject_18_ADL_GoDownstairs_2_2016-06-06_15-30-13_reformatted.csv completed\n",
      "UMAFall_Subject_18_ADL_GoDownstairs_3_2016-06-06_15-33-22_reformatted.csv completed\n",
      "UMAFall_Subject_18_ADL_GoDownstairs_4_2016-06-06_15-34-05_reformatted.csv completed\n",
      "UMAFall_Subject_18_ADL_GoDownstairs_5_2016-06-06_15-37-43_reformatted.csv completed\n",
      "UMAFall_Subject_18_ADL_GoDownstairs_6_2016-06-06_15-38-30_reformatted.csv completed\n",
      "UMAFall_Subject_18_ADL_GoUpstairs_1_2016-06-06_15-31-14_reformatted.csv completed\n",
      "UMAFall_Subject_18_ADL_GoUpstairs_2_2016-06-06_15-31-57_reformatted.csv completed\n",
      "UMAFall_Subject_18_ADL_GoUpstairs_2_2016-06-06_15-32-40_reformatted.csv completed\n",
      "UMAFall_Subject_18_ADL_GoUpstairs_3_2016-06-06_15-34-49_reformatted.csv completed\n",
      "UMAFall_Subject_18_ADL_GoUpstairs_4_2016-06-06_15-35-31_reformatted.csv completed\n",
      "UMAFall_Subject_18_ADL_GoUpstairs_5_2016-06-06_15-36-18_reformatted.csv completed\n",
      "UMAFall_Subject_18_ADL_GoUpstairs_6_2016-06-06_15-36-59_reformatted.csv completed\n",
      "UMAFall_Subject_18_ADL_HandsUp_1_2016-11-27_16-40-48_reformatted.csv completed\n",
      "UMAFall_Subject_18_ADL_HandsUp_1_2016-11-28_16-39-56_reformatted.csv completed\n",
      "UMAFall_Subject_18_ADL_HandsUp_2_2016-11-27_16-41-26_reformatted.csv completed\n",
      "UMAFall_Subject_18_ADL_HandsUp_2_2016-11-28_16-40-34_reformatted.csv completed\n",
      "UMAFall_Subject_18_ADL_HandsUp_3_2016-11-27_16-42-03_reformatted.csv completed\n",
      "UMAFall_Subject_18_ADL_HandsUp_3_2016-11-28_16-41-10_reformatted.csv completed\n",
      "UMAFall_Subject_18_ADL_HandsUp_4_2016-11-27_16-42-40_reformatted.csv completed\n",
      "UMAFall_Subject_18_ADL_HandsUp_5_2016-11-27_16-43-17_reformatted.csv completed\n",
      "UMAFall_Subject_18_ADL_HandsUp_6_2016-11-27_16-43-57_reformatted.csv completed\n",
      "UMAFall_Subject_18_ADL_Hopping_1_2016-05-29_20-54-35_reformatted.csv completed\n",
      "UMAFall_Subject_18_ADL_Hopping_1_2016-11-27_14-09-19_reformatted.csv completed\n",
      "UMAFall_Subject_18_ADL_Hopping_2_2016-05-29_20-55-26_reformatted.csv completed\n",
      "UMAFall_Subject_18_ADL_Hopping_2_2016-11-27_14-09-58_reformatted.csv completed\n",
      "UMAFall_Subject_18_ADL_Hopping_3_2016-05-29_21-23-50_reformatted.csv completed\n",
      "UMAFall_Subject_18_ADL_Hopping_3_2016-11-27_14-10-37_reformatted.csv completed\n",
      "UMAFall_Subject_18_ADL_Hopping_4_2016-05-31_18-38-59_reformatted.csv completed\n",
      "UMAFall_Subject_18_ADL_Hopping_4_2016-11-27_14-11-17_reformatted.csv completed\n",
      "UMAFall_Subject_18_ADL_Hopping_5_2016-05-31_18-40-23_reformatted.csv completed\n"
     ]
    },
    {
     "name": "stdout",
     "output_type": "stream",
     "text": [
      "UMAFall_Subject_18_ADL_Hopping_5_2016-11-27_14-12-04_reformatted.csv completed\n",
      "UMAFall_Subject_18_ADL_Hopping_6_2016-05-31_18-41-33_reformatted.csv completed\n",
      "UMAFall_Subject_18_ADL_Hopping_6_2016-11-27_14-12-43_reformatted.csv completed\n",
      "UMAFall_Subject_18_ADL_Hopping_7_2016-06-02_00-14-38_reformatted.csv completed\n",
      "UMAFall_Subject_18_ADL_Hopping_8_2016-06-02_00-15-42_reformatted.csv completed\n",
      "UMAFall_Subject_18_ADL_Jogging_1_2016-05-29_21-26-25_reformatted.csv completed\n",
      "UMAFall_Subject_18_ADL_Jogging_2_2016-05-29_21-28-30_reformatted.csv completed\n",
      "UMAFall_Subject_18_ADL_Jogging_3_2016-05-29_21-29-56_reformatted.csv completed\n",
      "UMAFall_Subject_18_ADL_Jogging_4_2016-05-31_18-35-02_reformatted.csv completed\n",
      "UMAFall_Subject_18_ADL_Jogging_5_2016-05-31_18-36-03_reformatted.csv completed\n",
      "UMAFall_Subject_18_ADL_Jogging_6_2016-05-31_18-36-56_reformatted.csv completed\n",
      "UMAFall_Subject_18_ADL_Jogging_7_2016-06-02_00-16-54_reformatted.csv completed\n",
      "UMAFall_Subject_18_ADL_Jogging_8_2016-06-02_00-17-41_reformatted.csv completed\n",
      "UMAFall_Subject_18_ADL_LyingDown_OnABed_1_2016-05-29_20-51-31_reformatted.csv completed\n",
      "UMAFall_Subject_18_ADL_LyingDown_OnABed_1_2016-11-27_14-25-57_reformatted.csv completed\n",
      "UMAFall_Subject_18_ADL_LyingDown_OnABed_2_2016-05-29_20-52-13_reformatted.csv completed\n",
      "UMAFall_Subject_18_ADL_LyingDown_OnABed_2_2016-11-27_14-26-35_reformatted.csv completed\n",
      "UMAFall_Subject_18_ADL_LyingDown_OnABed_3_2016-05-29_20-53-15_reformatted.csv completed\n",
      "UMAFall_Subject_18_ADL_LyingDown_OnABed_3_2016-11-27_14-27-14_reformatted.csv completed\n",
      "UMAFall_Subject_18_ADL_LyingDown_OnABed_4_2016-05-31_18-47-14_reformatted.csv completed\n",
      "UMAFall_Subject_18_ADL_LyingDown_OnABed_4_2016-11-27_14-27-52_reformatted.csv completed\n",
      "UMAFall_Subject_18_ADL_LyingDown_OnABed_5_2016-05-31_18-48-12_reformatted.csv completed\n",
      "UMAFall_Subject_18_ADL_LyingDown_OnABed_5_2016-11-27_14-28-31_reformatted.csv completed\n",
      "UMAFall_Subject_18_ADL_LyingDown_OnABed_6_2016-05-31_18-48-56_reformatted.csv completed\n",
      "UMAFall_Subject_18_ADL_LyingDown_OnABed_6_2016-11-27_14-29-09_reformatted.csv completed\n",
      "UMAFall_Subject_18_ADL_LyingDown_OnABed_7_2016-06-02_00-07-30_reformatted.csv completed\n",
      "UMAFall_Subject_18_ADL_LyingDown_OnABed_8_2016-06-02_00-09-58_reformatted.csv completed\n",
      "UMAFall_Subject_18_ADL_LyingDown_OnABed_9_2016-06-02_00-10-56_reformatted.csv completed\n",
      "UMAFall_Subject_18_ADL_MakingACall_1_2016-11-27_14-29-57_reformatted.csv completed\n",
      "UMAFall_Subject_18_ADL_MakingACall_1_2016-11-28_16-22-08_reformatted.csv completed\n",
      "UMAFall_Subject_18_ADL_MakingACall_2_2016-11-27_14-30-37_reformatted.csv completed\n",
      "UMAFall_Subject_18_ADL_MakingACall_2_2016-11-28_16-22-45_reformatted.csv completed\n",
      "UMAFall_Subject_18_ADL_MakingACall_3_2016-11-27_14-31-54_reformatted.csv completed\n",
      "UMAFall_Subject_18_ADL_MakingACall_3_2016-11-28_16-23-24_reformatted.csv completed\n",
      "UMAFall_Subject_18_ADL_MakingACall_4_2016-11-27_14-32-32_reformatted.csv completed\n",
      "UMAFall_Subject_18_ADL_MakingACall_4_2016-11-28_16-24-03_reformatted.csv completed\n",
      "UMAFall_Subject_18_ADL_MakingACall_5_2016-11-27_14-33-11_reformatted.csv completed\n",
      "UMAFall_Subject_18_ADL_MakingACall_5_2016-11-28_16-24-40_reformatted.csv completed\n",
      "UMAFall_Subject_18_ADL_MakingACall_6_2016-11-27_14-33-50_reformatted.csv completed\n",
      "UMAFall_Subject_18_ADL_MakingACall_6_2016-11-28_16-25-20_reformatted.csv completed\n",
      "UMAFall_Subject_18_ADL_OpeningDoor_1_2016-11-27_16-44-41_reformatted.csv completed\n",
      "UMAFall_Subject_18_ADL_OpeningDoor_1_2016-11-28_16-41-56_reformatted.csv completed\n",
      "UMAFall_Subject_18_ADL_OpeningDoor_2_2016-11-27_16-45-19_reformatted.csv completed\n",
      "UMAFall_Subject_18_ADL_OpeningDoor_2_2016-11-28_16-42-40_reformatted.csv completed\n",
      "UMAFall_Subject_18_ADL_OpeningDoor_3_2016-11-27_16-45-56_reformatted.csv completed\n",
      "UMAFall_Subject_18_ADL_OpeningDoor_3_2016-11-28_16-43-20_reformatted.csv completed\n",
      "UMAFall_Subject_18_ADL_OpeningDoor_4_2016-11-27_16-46-36_reformatted.csv completed\n",
      "UMAFall_Subject_18_ADL_OpeningDoor_5_2016-11-27_16-47-17_reformatted.csv completed\n",
      "UMAFall_Subject_18_ADL_OpeningDoor_6_2016-11-27_16-47-58_reformatted.csv completed\n",
      "UMAFall_Subject_18_ADL_Sitting_GettingUpOnAChair_1_2016-05-29_20-46-57_reformatted.csv completed\n",
      "UMAFall_Subject_18_ADL_Sitting_GettingUpOnAChair_1_2016-11-27_14-13-32_reformatted.csv completed\n",
      "UMAFall_Subject_18_ADL_Sitting_GettingUpOnAChair_2_2016-05-29_20-48-00_reformatted.csv completed\n",
      "UMAFall_Subject_18_ADL_Sitting_GettingUpOnAChair_2_2016-11-27_14-14-11_reformatted.csv completed\n",
      "UMAFall_Subject_18_ADL_Sitting_GettingUpOnAChair_3_2016-05-29_20-49-15_reformatted.csv completed\n",
      "UMAFall_Subject_18_ADL_Sitting_GettingUpOnAChair_3_2016-11-27_14-14-49_reformatted.csv completed\n",
      "UMAFall_Subject_18_ADL_Sitting_GettingUpOnAChair_4_2016-05-31_18-42-50_reformatted.csv completed\n",
      "UMAFall_Subject_18_ADL_Sitting_GettingUpOnAChair_4_2016-11-27_14-16-00_reformatted.csv completed\n",
      "UMAFall_Subject_18_ADL_Sitting_GettingUpOnAChair_5_2016-05-31_18-44-33_reformatted.csv completed\n",
      "UMAFall_Subject_18_ADL_Sitting_GettingUpOnAChair_5_2016-11-27_14-16-38_reformatted.csv completed\n",
      "UMAFall_Subject_18_ADL_Sitting_GettingUpOnAChair_6_2016-05-31_18-45-55_reformatted.csv completed\n",
      "UMAFall_Subject_18_ADL_Sitting_GettingUpOnAChair_6_2016-11-27_14-17-16_reformatted.csv completed\n",
      "UMAFall_Subject_18_ADL_Sitting_GettingUpOnAChair_7_2016-06-02_00-02-39_reformatted.csv completed\n",
      "UMAFall_Subject_18_ADL_Sitting_GettingUpOnAChair_8_2016-06-02_00-04-53_reformatted.csv completed\n",
      "UMAFall_Subject_18_ADL_Sitting_GettingUpOnAChair_9_2016-06-02_00-06-01_reformatted.csv completed\n",
      "UMAFall_Subject_18_ADL_Walking_1_2016-05-29_20-42-47_reformatted.csv completed\n",
      "UMAFall_Subject_18_ADL_Walking_1_2016-11-27_16-54-21_reformatted.csv completed\n",
      "UMAFall_Subject_18_ADL_Walking_2_2016-05-29_20-44-39_reformatted.csv completed\n",
      "UMAFall_Subject_18_ADL_Walking_2_2016-11-27_16-54-59_reformatted.csv completed\n",
      "UMAFall_Subject_18_ADL_Walking_3_2016-05-29_20-45-38_reformatted.csv completed\n",
      "UMAFall_Subject_18_ADL_Walking_3_2016-11-27_16-56-02_reformatted.csv completed\n",
      "UMAFall_Subject_18_ADL_Walking_4_2016-05-31_18-30-22_reformatted.csv completed\n",
      "UMAFall_Subject_18_ADL_Walking_4_2016-11-27_16-56-42_reformatted.csv completed\n",
      "UMAFall_Subject_18_ADL_Walking_5_2016-05-31_18-31-07_reformatted.csv completed\n",
      "UMAFall_Subject_18_ADL_Walking_5_2016-11-27_16-57-20_reformatted.csv completed\n",
      "UMAFall_Subject_18_ADL_Walking_6_2016-05-31_18-32-13_reformatted.csv completed\n",
      "UMAFall_Subject_18_ADL_Walking_6_2016-11-27_16-57-58_reformatted.csv completed\n",
      "UMAFall_Subject_18_ADL_Walking_7_2016-06-02_00-12-17_reformatted.csv completed\n",
      "UMAFall_Subject_18_ADL_Walking_8_2016-06-02_00-12-57_reformatted.csv completed\n",
      "UMAFall_Subject_19_ADL_Aplausing_1_2017-04-19_16-56-22_reformatted.csv completed\n",
      "UMAFall_Subject_19_ADL_Aplausing_2_2017-04-19_16-57-00_reformatted.csv completed\n",
      "UMAFall_Subject_19_ADL_Aplausing_3_2017-04-19_16-57-36_reformatted.csv completed\n",
      "UMAFall_Subject_19_ADL_Bending_1_2016-06-07_21-03-36_reformatted.csv completed\n",
      "UMAFall_Subject_19_ADL_Bending_2_2016-06-07_21-04-19_reformatted.csv completed\n",
      "UMAFall_Subject_19_ADL_Bending_3_2016-06-07_21-05-02_reformatted.csv completed\n",
      "UMAFall_Subject_19_ADL_HandsUp_1_2017-04-19_16-50-51_reformatted.csv completed\n",
      "UMAFall_Subject_19_ADL_HandsUp_2_2017-04-19_16-51-28_reformatted.csv completed\n",
      "UMAFall_Subject_19_ADL_HandsUp_3_2017-04-19_16-52-09_reformatted.csv completed\n",
      "UMAFall_Subject_19_ADL_Hopping_1_2016-06-07_21-17-08_reformatted.csv completed\n",
      "UMAFall_Subject_19_ADL_Hopping_2_2016-06-07_21-17-53_reformatted.csv completed\n",
      "UMAFall_Subject_19_ADL_Hopping_3_2016-06-07_21-18-38_reformatted.csv completed\n",
      "UMAFall_Subject_19_ADL_Jogging_1_2016-06-07_21-19-28_reformatted.csv completed\n",
      "UMAFall_Subject_19_ADL_Jogging_2_2016-06-07_21-20-09_reformatted.csv completed\n",
      "UMAFall_Subject_19_ADL_Jogging_3_2016-06-07_21-20-50_reformatted.csv completed\n",
      "UMAFall_Subject_19_ADL_LyingDown_OnABed_1_2016-06-07_21-12-56_reformatted.csv completed\n",
      "UMAFall_Subject_19_ADL_LyingDown_OnABed_2_2016-06-07_21-13-42_reformatted.csv completed\n",
      "UMAFall_Subject_19_ADL_LyingDown_OnABed_3_2016-06-07_21-14-24_reformatted.csv completed\n",
      "UMAFall_Subject_19_ADL_MakingACall_1_2017-04-19_16-46-55_reformatted.csv completed\n",
      "UMAFall_Subject_19_ADL_MakingACall_2_2017-04-19_16-48-37_reformatted.csv completed\n",
      "UMAFall_Subject_19_ADL_MakingACall_3_2017-04-19_16-49-44_reformatted.csv completed\n",
      "UMAFall_Subject_19_ADL_OpeningDoor_1_2017-04-19_16-53-05_reformatted.csv completed\n",
      "UMAFall_Subject_19_ADL_OpeningDoor_2_2017-04-19_16-55-00_reformatted.csv completed\n"
     ]
    },
    {
     "name": "stdout",
     "output_type": "stream",
     "text": [
      "UMAFall_Subject_19_ADL_OpeningDoor_3_2017-04-19_16-55-39_reformatted.csv completed\n",
      "UMAFall_Subject_19_ADL_Sitting_GettingUpOnAChair_1_2016-06-07_21-09-20_reformatted.csv completed\n",
      "UMAFall_Subject_19_ADL_Sitting_GettingUpOnAChair_2_2016-06-07_21-10-27_reformatted.csv completed\n",
      "UMAFall_Subject_19_ADL_Sitting_GettingUpOnAChair_3_2016-06-07_21-11-18_reformatted.csv completed\n",
      "UMAFall_Subject_19_ADL_Walking_1_2016-06-07_21-05-57_reformatted.csv completed\n",
      "UMAFall_Subject_19_ADL_Walking_2_2016-06-07_21-06-55_reformatted.csv completed\n",
      "UMAFall_Subject_19_ADL_Walking_3_2016-06-07_21-07-41_reformatted.csv completed\n"
     ]
    }
   ],
   "source": [
    "x_axis, y_axis, z_axis = [], [], []\n",
    "for file in adl_files:\n",
    "    data = pd.read_csv(file)\n",
    "    sensor0 = data[(data[\" Sensor ID\"] == 0) & (data[\" Sensor ID\"] == 0)].iloc[:, range(6)]\n",
    "    sensor0.iloc[:,2] = sensor0.iloc[:,2].astype(np.float32)\n",
    "    sensor0.iloc[:,3] = sensor0.iloc[:,3].astype(np.float32)\n",
    "    sensor0.iloc[:,4] = sensor0.iloc[:,4].astype(np.float32)\n",
    "    sensor0 = sensor0.groupby(\"% TimeStamp\", as_index = False).mean()\n",
    "    x = sensor0[' X-Axis']\n",
    "    y = sensor0[' Y-Axis']\n",
    "    z = sensor0[' Z-Axis']\n",
    "    x_axis.append(x)\n",
    "    y_axis.append(y)\n",
    "    z_axis.append(z)\n",
    "    print(f\"{file} completed\")"
   ]
  },
  {
   "cell_type": "code",
   "execution_count": 5,
   "id": "72df67b3",
   "metadata": {},
   "outputs": [
    {
     "name": "stdout",
     "output_type": "stream",
     "text": [
      "UMAFall_Subject_02_Fall_backwardFall_1_2016-06-13_20-51-32_reformatted.csv completed\n",
      "UMAFall_Subject_02_Fall_backwardFall_2_2016-06-13_20-52-16_reformatted.csv completed\n",
      "UMAFall_Subject_02_Fall_backwardFall_3_2016-06-13_20-52-55_reformatted.csv completed\n",
      "UMAFall_Subject_02_Fall_backwardFall_4_2016-06-13_20-58-40_reformatted.csv completed\n",
      "UMAFall_Subject_02_Fall_backwardFall_5_2016-06-13_20-59-19_reformatted.csv completed\n",
      "UMAFall_Subject_02_Fall_backwardFall_6_2016-06-13_20-59-59_reformatted.csv completed\n",
      "UMAFall_Subject_02_Fall_forwardFall_1_2016-06-13_20-43-52_reformatted.csv completed\n",
      "UMAFall_Subject_02_Fall_forwardFall_2_2016-06-13_20-45-53_reformatted.csv completed\n",
      "UMAFall_Subject_02_Fall_forwardFall_2_2016-06-13_20-48-20_reformatted.csv completed\n",
      "UMAFall_Subject_02_Fall_forwardFall_3_2016-06-13_20-47-36_reformatted.csv completed\n",
      "UMAFall_Subject_02_Fall_forwardFall_4_2016-06-13_20-53-39_reformatted.csv completed\n",
      "UMAFall_Subject_02_Fall_forwardFall_5_2016-06-13_20-54-39_reformatted.csv completed\n",
      "UMAFall_Subject_02_Fall_forwardFall_6_2016-06-13_20-55-19_reformatted.csv completed\n",
      "UMAFall_Subject_02_Fall_lateralFall_1_2016-06-13_20-49-17_reformatted.csv completed\n",
      "UMAFall_Subject_02_Fall_lateralFall_2_2016-06-13_20-50-00_reformatted.csv completed\n",
      "UMAFall_Subject_02_Fall_lateralFall_3_2016-06-13_20-50-52_reformatted.csv completed\n",
      "UMAFall_Subject_02_Fall_lateralFall_4_2016-06-13_20-56-03_reformatted.csv completed\n",
      "UMAFall_Subject_02_Fall_lateralFall_5_2016-06-13_20-56-57_reformatted.csv completed\n",
      "UMAFall_Subject_02_Fall_lateralFall_6_2016-06-13_20-57-48_reformatted.csv completed\n",
      "UMAFall_Subject_04_Fall_backwardFall_1_2016-06-13_13-19-09_reformatted.csv completed\n",
      "UMAFall_Subject_04_Fall_backwardFall_2_2016-06-13_13-19-53_reformatted.csv completed\n",
      "UMAFall_Subject_04_Fall_backwardFall_3_2016-06-13_13-20-34_reformatted.csv completed\n",
      "UMAFall_Subject_04_Fall_forwardFall_1_2016-06-13_13-13-23_reformatted.csv completed\n",
      "UMAFall_Subject_04_Fall_forwardFall_2_2016-06-13_13-14-43_reformatted.csv completed\n",
      "UMAFall_Subject_04_Fall_forwardFall_3_2016-06-13_13-15-30_reformatted.csv completed\n",
      "UMAFall_Subject_04_Fall_forwardFall_4_2016-06-13_13-21-38_reformatted.csv completed\n",
      "UMAFall_Subject_04_Fall_forwardFall_5_2016-06-13_13-22-20_reformatted.csv completed\n",
      "UMAFall_Subject_04_Fall_forwardFall_6_2016-06-13_13-23-05_reformatted.csv completed\n",
      "UMAFall_Subject_04_Fall_lateralFall_1_2016-06-13_13-16-45_reformatted.csv completed\n",
      "UMAFall_Subject_04_Fall_lateralFall_2_2016-06-13_13-17-31_reformatted.csv completed\n",
      "UMAFall_Subject_04_Fall_lateralFall_3_2016-06-13_13-18-13_reformatted.csv completed\n",
      "UMAFall_Subject_05_Fall_backwardFall_1_2016-06-15_21-30-13_reformatted.csv completed\n",
      "UMAFall_Subject_05_Fall_backwardFall_2_2016-06-15_21-30-54_reformatted.csv completed\n",
      "UMAFall_Subject_05_Fall_backwardFall_3_2016-06-15_21-32-28_reformatted.csv completed\n",
      "UMAFall_Subject_05_Fall_backwardFall_4_2016-06-15_21-37-33_reformatted.csv completed\n",
      "UMAFall_Subject_05_Fall_backwardFall_5_2016-06-15_21-38-45_reformatted.csv completed\n",
      "UMAFall_Subject_05_Fall_backwardFall_6_2016-06-15_21-39-26_reformatted.csv completed\n",
      "UMAFall_Subject_05_Fall_forwardFall_1_2016-06-15_21-21-48_reformatted.csv completed\n",
      "UMAFall_Subject_05_Fall_forwardFall_2_2016-06-15_21-22-29_reformatted.csv completed\n",
      "UMAFall_Subject_05_Fall_forwardFall_3_2016-06-15_21-24-11_reformatted.csv completed\n",
      "UMAFall_Subject_05_Fall_forwardFall_4_2016-06-15_21-33-29_reformatted.csv completed\n",
      "UMAFall_Subject_05_Fall_forwardFall_5_2016-06-15_21-34-09_reformatted.csv completed\n",
      "UMAFall_Subject_05_Fall_forwardFall_6_2016-06-15_21-34-50_reformatted.csv completed\n",
      "UMAFall_Subject_05_Fall_lateralFall_1_2016-06-15_21-28-09_reformatted.csv completed\n",
      "UMAFall_Subject_05_Fall_lateralFall_2_2016-06-15_21-28-50_reformatted.csv completed\n",
      "UMAFall_Subject_05_Fall_lateralFall_3_2016-06-15_21-29-30_reformatted.csv completed\n",
      "UMAFall_Subject_05_Fall_lateralFall_4_2016-06-15_21-35-33_reformatted.csv completed\n",
      "UMAFall_Subject_05_Fall_lateralFall_5_2016-06-15_21-36-11_reformatted.csv completed\n",
      "UMAFall_Subject_05_Fall_lateralFall_6_2016-06-15_21-36-50_reformatted.csv completed\n",
      "UMAFall_Subject_06_Fall_backwardFall_1_2016-06-13_21-45-05_reformatted.csv completed\n",
      "UMAFall_Subject_06_Fall_backwardFall_2_2016-06-13_21-45-45_reformatted.csv completed\n",
      "UMAFall_Subject_06_Fall_backwardFall_3_2016-06-13_21-46-29_reformatted.csv completed\n",
      "UMAFall_Subject_06_Fall_backwardFall_4_2016-06-13_21-52-49_reformatted.csv completed\n",
      "UMAFall_Subject_06_Fall_backwardFall_5_2016-06-13_21-53-34_reformatted.csv completed\n",
      "UMAFall_Subject_06_Fall_backwardFall_6_2016-06-13_21-54-27_reformatted.csv completed\n",
      "UMAFall_Subject_06_Fall_forwardFall_2_2016-06-13_21-40-45_reformatted.csv completed\n",
      "UMAFall_Subject_06_Fall_forwardFall_3_2016-06-13_21-41-42_reformatted.csv completed\n",
      "UMAFall_Subject_06_Fall_forwardFall_4_2016-06-13_21-47-19_reformatted.csv completed\n",
      "UMAFall_Subject_06_Fall_forwardFall_5_2016-06-13_21-48-10_reformatted.csv completed\n",
      "UMAFall_Subject_06_Fall_forwardFall_6_2016-06-13_21-48-50_reformatted.csv completed\n",
      "UMAFall_Subject_06_Fall_lateralFall_1_2016-06-13_21-42-37_reformatted.csv completed\n",
      "UMAFall_Subject_06_Fall_lateralFall_2_2016-06-13_21-43-17_reformatted.csv completed\n",
      "UMAFall_Subject_06_Fall_lateralFall_3_2016-06-13_21-43-54_reformatted.csv completed\n",
      "UMAFall_Subject_06_Fall_lateralFall_4_2016-06-13_21-50-06_reformatted.csv completed\n",
      "UMAFall_Subject_06_Fall_lateralFall_5_2016-06-13_21-51-27_reformatted.csv completed\n",
      "UMAFall_Subject_06_Fall_lateralFall_6_2016-06-13_21-52-07_reformatted.csv completed\n",
      "UMAFall_Subject_07_Fall_backwardFall_1_2016-06-13_18-37-28_reformatted.csv completed\n",
      "UMAFall_Subject_07_Fall_backwardFall_2_2016-06-13_18-38-06_reformatted.csv completed\n",
      "UMAFall_Subject_07_Fall_backwardFall_3_2016-06-13_18-38-45_reformatted.csv completed\n",
      "UMAFall_Subject_07_Fall_backwardFall_4_2016-06-13_18-39-29_reformatted.csv completed\n",
      "UMAFall_Subject_07_Fall_backwardFall_5_2016-06-13_18-40-07_reformatted.csv completed\n",
      "UMAFall_Subject_07_Fall_backwardFall_6_2016-06-13_18-40-45_reformatted.csv completed\n",
      "UMAFall_Subject_08_Fall_backwardFall_1_2016-06-18_14-31-39_reformatted.csv completed\n",
      "UMAFall_Subject_08_Fall_backwardFall_2_2016-06-18_14-32-18_reformatted.csv completed\n",
      "UMAFall_Subject_08_Fall_forwardFall_1_2016-06-18_14-27-16_reformatted.csv completed\n",
      "UMAFall_Subject_08_Fall_forwardFall_2_2016-06-18_14-28-08_reformatted.csv completed\n",
      "UMAFall_Subject_08_Fall_lateralFall_1_2016-06-18_14-28-55_reformatted.csv completed\n",
      "UMAFall_Subject_08_Fall_lateralFall_2_2016-06-18_14-30-12_reformatted.csv completed\n",
      "UMAFall_Subject_11_Fall_backwardFall_1_2016-06-10_17-56-03_reformatted.csv completed\n",
      "UMAFall_Subject_11_Fall_backwardFall_2_2016-06-10_17-56-43_reformatted.csv completed\n",
      "UMAFall_Subject_11_Fall_backwardFall_3_2016-06-10_17-57-34_reformatted.csv completed\n",
      "UMAFall_Subject_11_Fall_backwardFall_4_2016-06-10_18-04-07_reformatted.csv completed\n",
      "UMAFall_Subject_11_Fall_backwardFall_5_2016-06-10_18-04-50_reformatted.csv completed\n",
      "UMAFall_Subject_11_Fall_backwardFall_6_2016-06-10_18-05-33_reformatted.csv completed\n",
      "UMAFall_Subject_11_Fall_forwardFall_1_2016-06-10_17-50-05_reformatted.csv completed\n",
      "UMAFall_Subject_11_Fall_forwardFall_2_2016-06-10_17-50-51_reformatted.csv completed\n",
      "UMAFall_Subject_11_Fall_forwardFall_3_2016-06-10_17-51-32_reformatted.csv completed\n",
      "UMAFall_Subject_11_Fall_forwardFall_4_2016-06-10_17-59-25_reformatted.csv completed\n",
      "UMAFall_Subject_11_Fall_forwardFall_5_2016-06-10_18-00-06_reformatted.csv completed\n",
      "UMAFall_Subject_11_Fall_forwardFall_6_2016-06-10_18-00-47_reformatted.csv completed\n",
      "UMAFall_Subject_11_Fall_lateralFall_1_2016-06-10_17-53-39_reformatted.csv completed\n",
      "UMAFall_Subject_11_Fall_lateralFall_2_2016-06-10_17-54-17_reformatted.csv completed\n",
      "UMAFall_Subject_11_Fall_lateralFall_3_2016-06-10_17-55-14_reformatted.csv completed\n",
      "UMAFall_Subject_11_Fall_lateralFall_4_2016-06-10_18-01-43_reformatted.csv completed\n",
      "UMAFall_Subject_11_Fall_lateralFall_5_2016-06-10_18-02-23_reformatted.csv completed\n",
      "UMAFall_Subject_11_Fall_lateralFall_6_2016-06-10_18-03-06_reformatted.csv completed\n",
      "UMAFall_Subject_14_Fall_backwardFall_1_2016-06-03_20-08-04_reformatted.csv completed\n",
      "UMAFall_Subject_14_Fall_backwardFall_2_2016-06-03_20-08-51_reformatted.csv completed\n",
      "UMAFall_Subject_14_Fall_backwardFall_3_2016-06-03_20-09-35_reformatted.csv completed\n"
     ]
    },
    {
     "name": "stdout",
     "output_type": "stream",
     "text": [
      "UMAFall_Subject_14_Fall_forwardFall_1_2016-06-03_20-01-24_reformatted.csv completed\n",
      "UMAFall_Subject_14_Fall_forwardFall_2_2016-06-03_20-02-25_reformatted.csv completed\n",
      "UMAFall_Subject_14_Fall_forwardFall_3_2016-06-03_20-03-13_reformatted.csv completed\n",
      "UMAFall_Subject_14_Fall_lateralFall_1_2016-06-03_20-04-45_reformatted.csv completed\n",
      "UMAFall_Subject_14_Fall_lateralFall_2_2016-06-03_20-05-42_reformatted.csv completed\n",
      "UMAFall_Subject_14_Fall_lateralFall_3_2016-06-03_20-06-47_reformatted.csv completed\n",
      "UMAFall_Subject_15_Fall_backwardFall_2_2016-06-17_18-44-01_reformatted.csv completed\n",
      "UMAFall_Subject_15_Fall_backwardFall_3_2016-06-17_18-43-19_reformatted.csv completed\n",
      "UMAFall_Subject_15_Fall_backwardFall_3_2016-06-17_18-44-43_reformatted.csv completed\n",
      "UMAFall_Subject_15_Fall_backwardFall_4_2016-06-17_18-45-23_reformatted.csv completed\n",
      "UMAFall_Subject_15_Fall_forwardFall_1_2016-06-17_18-38-53_reformatted.csv completed\n",
      "UMAFall_Subject_15_Fall_forwardFall_2_2016-06-17_18-39-36_reformatted.csv completed\n",
      "UMAFall_Subject_15_Fall_forwardFall_3_2016-06-17_18-40-24_reformatted.csv completed\n",
      "UMAFall_Subject_15_Fall_forwardFall_4_2016-06-17_18-46-05_reformatted.csv completed\n",
      "UMAFall_Subject_15_Fall_lateralFall_1_2016-06-17_18-41-12_reformatted.csv completed\n",
      "UMAFall_Subject_15_Fall_lateralFall_2_2016-06-17_18-41-55_reformatted.csv completed\n",
      "UMAFall_Subject_15_Fall_lateralFall_3_2016-06-17_18-42-35_reformatted.csv completed\n",
      "UMAFall_Subject_15_Fall_lateralFall_4_2016-06-17_18-46-54_reformatted.csv completed\n",
      "UMAFall_Subject_16_Fall_backwardFall_2_2016-06-17_21-58-57_reformatted.csv completed\n",
      "UMAFall_Subject_16_Fall_backwardFall_3_2016-06-17_21-59-35_reformatted.csv completed\n",
      "UMAFall_Subject_16_Fall_forwardFall_1_2016-06-17_21-49-59_reformatted.csv completed\n",
      "UMAFall_Subject_16_Fall_forwardFall_2_2016-06-17_21-49-16_reformatted.csv completed\n",
      "UMAFall_Subject_16_Fall_forwardFall_3_2016-06-17_21-53-52_reformatted.csv completed\n",
      "UMAFall_Subject_16_Fall_lateralFall_1_2016-06-17_21-54-46_reformatted.csv completed\n",
      "UMAFall_Subject_17_Fall_backwardFall_1_2016-06-17_19-25-39_reformatted.csv completed\n",
      "UMAFall_Subject_17_Fall_backwardFall_2_2016-06-17_19-26-27_reformatted.csv completed\n",
      "UMAFall_Subject_17_Fall_backwardFall_3_2016-06-17_19-27-09_reformatted.csv completed\n",
      "UMAFall_Subject_17_Fall_backwardFall_3_2016-06-17_19-29-38_reformatted.csv completed\n",
      "UMAFall_Subject_17_Fall_forwardFall_2_2016-06-17_19-20-58_reformatted.csv completed\n",
      "UMAFall_Subject_17_Fall_forwardFall_3_2016-06-17_19-21-38_reformatted.csv completed\n",
      "UMAFall_Subject_17_Fall_forwardFall_4_2016-06-17_19-27-52_reformatted.csv completed\n",
      "UMAFall_Subject_17_Fall_lateralFall_1_2016-06-17_19-23-15_reformatted.csv completed\n",
      "UMAFall_Subject_17_Fall_lateralFall_2_2016-06-17_19-23-53_reformatted.csv completed\n",
      "UMAFall_Subject_17_Fall_lateralFall_3_2016-06-17_19-24-31_reformatted.csv completed\n",
      "UMAFall_Subject_17_Fall_lateralFall_4_2016-06-17_19-28-33_reformatted.csv completed\n",
      "UMAFall_Subject_18_Fall_backwardFall_10_2016-06-01_22-55-50_reformatted.csv completed\n",
      "UMAFall_Subject_18_Fall_backwardFall_11_2016-06-01_22-57-03_reformatted.csv completed\n",
      "UMAFall_Subject_18_Fall_backwardFall_12_2016-06-01_22-58-16_reformatted.csv completed\n",
      "UMAFall_Subject_18_Fall_backwardFall_13_2016-06-01_22-59-07_reformatted.csv completed\n",
      "UMAFall_Subject_18_Fall_backwardFall_14_2016-06-01_23-00-19_reformatted.csv completed\n",
      "UMAFall_Subject_18_Fall_backwardFall_15_2016-06-01_23-01-09_reformatted.csv completed\n",
      "UMAFall_Subject_18_Fall_backwardFall_16_2016-06-01_23-01-58_reformatted.csv completed\n",
      "UMAFall_Subject_18_Fall_backwardFall_1_2016-05-29_21-44-20_reformatted.csv completed\n",
      "UMAFall_Subject_18_Fall_backwardFall_1_2016-06-15_21-15-34_reformatted.csv completed\n",
      "UMAFall_Subject_18_Fall_backwardFall_2_2016-05-29_21-45-26_reformatted.csv completed\n",
      "UMAFall_Subject_18_Fall_backwardFall_2_2016-06-15_21-18-18_reformatted.csv completed\n",
      "UMAFall_Subject_18_Fall_backwardFall_3_2016-05-29_21-47-46_reformatted.csv completed\n",
      "UMAFall_Subject_18_Fall_backwardFall_3_2016-06-15_21-19-04_reformatted.csv completed\n",
      "UMAFall_Subject_18_Fall_backwardFall_4_2016-05-29_21-49-18_reformatted.csv completed\n",
      "UMAFall_Subject_18_Fall_backwardFall_5_2016-05-29_21-50-34_reformatted.csv completed\n",
      "UMAFall_Subject_18_Fall_backwardFall_6_2016-05-29_21-51-38_reformatted.csv completed\n",
      "UMAFall_Subject_18_Fall_backwardFall_7_2016-06-01_22-51-58_reformatted.csv completed\n",
      "UMAFall_Subject_18_Fall_backwardFall_8_2016-06-01_22-53-56_reformatted.csv completed\n",
      "UMAFall_Subject_18_Fall_backwardFall_9_2016-06-01_22-54-59_reformatted.csv completed\n",
      "UMAFall_Subject_18_Fall_forwardFall_10_2016-06-01_22-14-39_reformatted.csv completed\n",
      "UMAFall_Subject_18_Fall_forwardFall_11_2016-06-01_22-18-31_reformatted.csv completed\n",
      "UMAFall_Subject_18_Fall_forwardFall_12_2016-06-01_22-30-15_reformatted.csv completed\n",
      "UMAFall_Subject_18_Fall_forwardFall_13_2016-06-01_22-30-56_reformatted.csv completed\n",
      "UMAFall_Subject_18_Fall_forwardFall_14_2016-06-01_22-32-18_reformatted.csv completed\n",
      "UMAFall_Subject_18_Fall_forwardFall_15_2016-06-01_22-33-08_reformatted.csv completed\n",
      "UMAFall_Subject_18_Fall_forwardFall_16_2016-06-01_22-34-36_reformatted.csv completed\n",
      "UMAFall_Subject_18_Fall_forwardFall_17_2016-06-01_22-35-32_reformatted.csv completed\n",
      "UMAFall_Subject_18_Fall_forwardFall_18_2016-06-01_22-09-43_reformatted.csv completed\n",
      "UMAFall_Subject_18_Fall_forwardFall_1_2016-05-29_21-37-58_reformatted.csv completed\n",
      "UMAFall_Subject_18_Fall_forwardFall_1_2016-06-15_21-07-01_reformatted.csv completed\n",
      "UMAFall_Subject_18_Fall_forwardFall_1_2016-06-15_21-14-04_reformatted.csv completed\n",
      "UMAFall_Subject_18_Fall_forwardFall_2_2016-05-29_21-39-33_reformatted.csv completed\n",
      "UMAFall_Subject_18_Fall_forwardFall_3_2016-05-29_21-40-58_reformatted.csv completed\n",
      "UMAFall_Subject_18_Fall_forwardFall_4_2016-05-29_21-52-45_reformatted.csv completed\n",
      "UMAFall_Subject_18_Fall_forwardFall_5_2016-05-29_21-54-01_reformatted.csv completed\n",
      "UMAFall_Subject_18_Fall_forwardFall_6_2016-05-29_21-55-19_reformatted.csv completed\n",
      "UMAFall_Subject_18_Fall_forwardFall_7_2016-05-29_22-01-42_reformatted.csv completed\n",
      "UMAFall_Subject_18_Fall_forwardFall_8_2016-06-01_22-12-42_reformatted.csv completed\n",
      "UMAFall_Subject_18_Fall_forwardFall_9_2016-06-01_22-13-41_reformatted.csv completed\n",
      "UMAFall_Subject_18_Fall_lateralFall_10_2016-06-01_22-39-40_reformatted.csv completed\n",
      "UMAFall_Subject_18_Fall_lateralFall_11_2016-06-01_22-44-27_reformatted.csv completed\n",
      "UMAFall_Subject_18_Fall_lateralFall_12_2016-06-01_22-45-27_reformatted.csv completed\n",
      "UMAFall_Subject_18_Fall_lateralFall_13_2016-06-01_22-46-26_reformatted.csv completed\n",
      "UMAFall_Subject_18_Fall_lateralFall_14_2016-06-01_22-47-59_reformatted.csv completed\n",
      "UMAFall_Subject_18_Fall_lateralFall_15_2016-06-01_22-49-02_reformatted.csv completed\n",
      "UMAFall_Subject_18_Fall_lateralFall_16_2016-06-01_22-50-40_reformatted.csv completed\n",
      "UMAFall_Subject_18_Fall_lateralFall_1_2016-05-29_21-32-53_reformatted.csv completed\n",
      "UMAFall_Subject_18_Fall_lateralFall_1_2016-06-15_21-14-53_reformatted.csv completed\n",
      "UMAFall_Subject_18_Fall_lateralFall_2_2016-05-29_21-35-39_reformatted.csv completed\n",
      "UMAFall_Subject_18_Fall_lateralFall_3_2016-05-29_21-36-32_reformatted.csv completed\n",
      "UMAFall_Subject_18_Fall_lateralFall_4_2016-05-29_21-56-26_reformatted.csv completed\n",
      "UMAFall_Subject_18_Fall_lateralFall_5_2016-05-29_21-59-51_reformatted.csv completed\n",
      "UMAFall_Subject_18_Fall_lateralFall_6_2016-05-29_22-00-46_reformatted.csv completed\n",
      "UMAFall_Subject_18_Fall_lateralFall_7_2016-06-01_22-36-37_reformatted.csv completed\n",
      "UMAFall_Subject_18_Fall_lateralFall_8_2016-06-01_22-37-44_reformatted.csv completed\n",
      "UMAFall_Subject_18_Fall_lateralFall_9_2016-06-01_22-38-39_reformatted.csv completed\n",
      "UMAFall_Subject_19_Fall_backwardFall_1_2016-06-07_21-29-26_reformatted.csv completed\n",
      "UMAFall_Subject_19_Fall_backwardFall_2_2016-06-07_21-30-07_reformatted.csv completed\n",
      "UMAFall_Subject_19_Fall_backwardFall_3_2016-06-07_21-30-49_reformatted.csv completed\n",
      "UMAFall_Subject_19_Fall_backwardFall_4_2016-06-07_21-38-34_reformatted.csv completed\n",
      "UMAFall_Subject_19_Fall_backwardFall_5_2016-06-07_21-39-33_reformatted.csv completed\n",
      "UMAFall_Subject_19_Fall_backwardFall_6_2016-06-07_21-40-20_reformatted.csv completed\n",
      "UMAFall_Subject_19_Fall_forwardFall_1_2016-06-07_21-22-47_reformatted.csv completed\n",
      "UMAFall_Subject_19_Fall_forwardFall_1_2016-06-07_21-31-53_reformatted.csv completed\n",
      "UMAFall_Subject_19_Fall_forwardFall_2_2016-06-07_21-23-51_reformatted.csv completed\n",
      "UMAFall_Subject_19_Fall_forwardFall_3_2016-06-07_21-24-37_reformatted.csv completed\n",
      "UMAFall_Subject_19_Fall_forwardFall_5_2016-06-07_21-32-51_reformatted.csv completed\n"
     ]
    },
    {
     "name": "stdout",
     "output_type": "stream",
     "text": [
      "UMAFall_Subject_19_Fall_forwardFall_6_2016-06-07_21-33-31_reformatted.csv completed\n",
      "UMAFall_Subject_19_Fall_lateralFall_1_2016-06-07_21-26-09_reformatted.csv completed\n",
      "UMAFall_Subject_19_Fall_lateralFall_2_2016-06-07_21-27-41_reformatted.csv completed\n",
      "UMAFall_Subject_19_Fall_lateralFall_3_2016-06-07_21-28-26_reformatted.csv completed\n",
      "UMAFall_Subject_19_Fall_lateralFall_4_2016-06-07_21-34-26_reformatted.csv completed\n",
      "UMAFall_Subject_19_Fall_lateralFall_5_2016-06-07_21-35-39_reformatted.csv completed\n",
      "UMAFall_Subject_19_Fall_lateralFall_6_2016-06-07_21-37-14_reformatted.csv completed\n"
     ]
    }
   ],
   "source": [
    "x_axis_fall, y_axis_fall, z_axis_fall = [], [], []\n",
    "for file in fall_files:\n",
    "    data = pd.read_csv(file)\n",
    "    sensor0 = data[(data[\" Sensor ID\"] == 0) & (data[\" Sensor ID\"] == 0)].iloc[:, range(6)]\n",
    "    sensor0.iloc[:,2] = sensor0.iloc[:,2].astype(np.float32)\n",
    "    sensor0.iloc[:,3] = sensor0.iloc[:,3].astype(np.float32)\n",
    "    sensor0.iloc[:,4] = sensor0.iloc[:,4].astype(np.float32)\n",
    "    sensor0 = sensor0.groupby(\"% TimeStamp\", as_index = False).mean()\n",
    "    x = sensor0[' X-Axis']\n",
    "    y = sensor0[' Y-Axis']\n",
    "    z = sensor0[' Z-Axis']\n",
    "    x_axis_fall.append(x)\n",
    "    y_axis_fall.append(y)\n",
    "    z_axis_fall.append(z)\n",
    "    print(f\"{file} completed\")"
   ]
  },
  {
   "cell_type": "code",
   "execution_count": 6,
   "id": "da348397",
   "metadata": {},
   "outputs": [],
   "source": [
    "x_min_count = 4000\n",
    "for d in x_axis:\n",
    "    if x_min_count > len(d):\n",
    "        x_min_count = len(d)\n",
    "for d in x_axis_fall:\n",
    "    if x_min_count > len(d):\n",
    "        x_min_count = len(d)\n",
    "for i, arr in enumerate(x_axis):\n",
    "    x_axis[i] = arr[:x_min_count]\n",
    "for i, arr in enumerate(x_axis_fall):\n",
    "    x_axis_fall[i] = arr[:x_min_count]\n",
    "x_axis = np.array(x_axis)\n",
    "x_axis_fall = np.array(x_axis_fall)\n",
    "        \n",
    "y_min_count = 4000\n",
    "for d in y_axis:\n",
    "    if y_min_count > len(d):\n",
    "        y_min_count = len(d)\n",
    "for d in y_axis_fall:\n",
    "    if y_min_count > len(d):\n",
    "        y_min_count = len(d)\n",
    "for i, arr in enumerate(y_axis):\n",
    "    y_axis[i] = arr[:y_min_count]\n",
    "for i, arr in enumerate(y_axis_fall):\n",
    "    y_axis_fall[i] = arr[:y_min_count]\n",
    "y_axis = np.array(y_axis)\n",
    "y_axis_fall = np.array(y_axis_fall)\n",
    "        \n",
    "z_min_count = 4000\n",
    "for d in z_axis:\n",
    "    if z_min_count > len(d):\n",
    "        z_min_count = len(d)\n",
    "for d in z_axis_fall:\n",
    "    if z_min_count > len(d):\n",
    "        z_min_count = len(d)\n",
    "for i, arr in enumerate(z_axis):\n",
    "    z_axis[i] = arr[:z_min_count]\n",
    "for i, arr in enumerate(z_axis_fall):\n",
    "    z_axis_fall[i] = arr[:z_min_count]\n",
    "z_axis = np.array(z_axis)\n",
    "z_axis_fall = np.array(z_axis_fall)"
   ]
  },
  {
   "cell_type": "code",
   "execution_count": 7,
   "id": "8501e46f",
   "metadata": {},
   "outputs": [],
   "source": [
    "x_train_data_clean = np.delete(x_axis, [304,305,306], axis = 0)\n",
    "x_train_data_clean = preprocessing.normalize(x_train_data_clean)\n",
    "x_axis_fall_clean = preprocessing.normalize(x_axis_fall)"
   ]
  },
  {
   "cell_type": "code",
   "execution_count": 8,
   "id": "7ccfb318",
   "metadata": {},
   "outputs": [],
   "source": [
    "y_axis_clean = preprocessing.normalize(y_axis)\n",
    "y_axis_fall_clean = preprocessing.normalize(y_axis_fall)"
   ]
  },
  {
   "cell_type": "code",
   "execution_count": 10,
   "id": "d098e98f",
   "metadata": {},
   "outputs": [],
   "source": [
    "y_jumps = sorted(abs((y_axis_clean[:,:-1] - y_axis_clean[:,1:]).flatten()), reverse=True)"
   ]
  },
  {
   "cell_type": "code",
   "execution_count": 11,
   "id": "6e287ae2",
   "metadata": {},
   "outputs": [
    {
     "name": "stdout",
     "output_type": "stream",
     "text": [
      "[299 300 301 302 303 304 305 306 307 308 309 310 311 312 313 314 315]\n",
      "Therefore, we remove rows 299 300 301 302 303 304 305 306 307 308 309 310 311 312 313 314 315 from our dataset\n"
     ]
    }
   ],
   "source": [
    "print(np.unique(np.where(abs(y_axis_clean[:,:-1] - y_axis_clean[:,1:]) >= 0.2)[0]))\n",
    "print(\"Therefore, we remove rows 299 300 301 302 303 304 305 306 307 308 309 310 311 312 313 314 315 from our dataset\")"
   ]
  },
  {
   "cell_type": "code",
   "execution_count": 12,
   "id": "0e468415",
   "metadata": {},
   "outputs": [],
   "source": [
    "y_axis_clean = np.delete(y_axis_clean, range(299,316), axis = 0)"
   ]
  },
  {
   "cell_type": "code",
   "execution_count": 13,
   "id": "18ae40cc",
   "metadata": {},
   "outputs": [
    {
     "data": {
      "text/plain": [
       "0.09142814"
      ]
     },
     "execution_count": 13,
     "metadata": {},
     "output_type": "execute_result"
    }
   ],
   "source": [
    "np.max(abs(y_axis_clean[:,:-1] - y_axis_clean[:,1:]))"
   ]
  },
  {
   "cell_type": "code",
   "execution_count": 14,
   "id": "a66fac65",
   "metadata": {},
   "outputs": [
    {
     "data": {
      "image/png": "[encoded data removed]",
      "text/plain": [
       "<Figure size 640x480 with 1 Axes>"
      ]
     },
     "metadata": {},
     "output_type": "display_data"
    }
   ],
   "source": [
    "index = 335\n",
    "plt.grid()\n",
    "plt.plot(np.arange(len(y_axis_clean[index])), y_axis_clean[index])\n",
    "plt.title(\"ADL y-axis\")\n",
    "plt.show()"
   ]
  },
  {
   "cell_type": "code",
   "execution_count": 15,
   "id": "c5d1d396",
   "metadata": {},
   "outputs": [],
   "source": [
    "z_axis_clean = preprocessing.normalize(z_axis)\n",
    "z_axis_fall_clean = preprocessing.normalize(z_axis_fall)"
   ]
  },
  {
   "cell_type": "code",
   "execution_count": 16,
   "id": "6afda903",
   "metadata": {},
   "outputs": [],
   "source": [
    "z_jumps = sorted(abs((z_axis_clean[:,:-1] - z_axis_clean[:,1:]).flatten()), reverse=True)"
   ]
  },
  {
   "cell_type": "code",
   "execution_count": 17,
   "id": "eff86f20",
   "metadata": {},
   "outputs": [
    {
     "name": "stdout",
     "output_type": "stream",
     "text": [
      "[  3  54  78 141 142 152 159 170 171 172 176 207 208 209 266 267 268 297\n",
      " 299 300 301 303 304 305 306 307 309 310 313 314 315 376 399 413 428 439\n",
      " 442 514]\n",
      "Therefore, we remove rows [  3  54  78 141 142 152 159 170 171 172 176 207 208 209 266 267 268 297\n",
      " 299 300 301 303 304 305 306 307 309 310 313 314 315 376 399 413 428 439\n",
      " 442 514] from our dataset\n"
     ]
    }
   ],
   "source": [
    "to_remove_z = np.unique(np.where(abs(z_axis_clean[:,:-1] - z_axis_clean[:,1:]) >= 0.2)[0])\n",
    "print(to_remove_z)\n",
    "print(f\"Therefore, we remove rows {to_remove_z} from our dataset\")"
   ]
  },
  {
   "cell_type": "code",
   "execution_count": 18,
   "id": "2b504343",
   "metadata": {},
   "outputs": [],
   "source": [
    "z_axis_clean = np.delete(z_axis_clean, to_remove_z, axis = 0)"
   ]
  },
  {
   "cell_type": "code",
   "execution_count": null,
   "id": "bef78df3",
   "metadata": {},
   "outputs": [],
   "source": [
    "index = 2\n",
    "plt.grid()\n",
    "plt.plot(np.arange(len(z_axis_clean[index])), z_axis_clean[index])\n",
    "plt.title(\"ADL z-axis\")\n",
    "plt.show()"
   ]
  },
  {
   "cell_type": "code",
   "execution_count": null,
   "id": "0b39499b",
   "metadata": {},
   "outputs": [],
   "source": [
    "ratio = 0.8\n",
    "\n",
    "x_train_data = x_train_data_clean[:round(len(x_train_data_clean)*ratio)]\n",
    "x_test_data = x_train_data_clean[round(len(x_train_data_clean)*ratio):]\n",
    "\n",
    "\n",
    "y_train_data = y_axis_clean[:round(len(y_axis_clean)*ratio)]\n",
    "y_test_data = y_axis_clean[round(len(y_axis_clean)*ratio):]\n",
    "\n",
    "# Not done\n",
    "z_train_data = z_axis_clean[:round(len(z_axis_clean)*ratio)]\n",
    "z_test_data = z_axis_clean[round(len(z_axis_clean)*ratio):]"
   ]
  },
  {
   "cell_type": "code",
   "execution_count": null,
   "id": "935d5c89",
   "metadata": {},
   "outputs": [],
   "source": [
    "index = 306\n",
    "plt.grid()\n",
    "plt.plot(np.arange(len(x_train_data[index])), x_train_data[index])\n",
    "plt.title(\"ADL x-axis\")\n",
    "plt.show()"
   ]
  },
  {
   "cell_type": "markdown",
   "id": "362b41a5",
   "metadata": {},
   "source": [
    "### Building Autoencoder"
   ]
  },
  {
   "cell_type": "code",
   "execution_count": null,
   "id": "cce4cae5",
   "metadata": {},
   "outputs": [],
   "source": [
    "class Autoencoder(Model):\n",
    "    def __init__(self):\n",
    "        super(Autoencoder, self).__init__()\n",
    "        self.encoder = tf.keras.Sequential([\n",
    "            layers.Dense(500, activation = 'relu')\n",
    "            #layers.Dense(1000, activation = 'relu'),\n",
    "            #layers.Dense(900, activation = 'relu'),\n",
    "            #layers.Dense(800, activation = 'relu')\n",
    "        ])\n",
    "        \n",
    "        self.decoder = tf.keras.Sequential([\n",
    "            #layers.Dense(900, activation = 'relu'),\n",
    "            #layers.Dense(1000, activation = 'relu'),\n",
    "            layers.Dense(1173, activation = 'sigmoid')\n",
    "        ])\n",
    "        \n",
    "    def call(self, x):\n",
    "        encoded = self.encoder(x)\n",
    "        decoded = self.decoder(encoded)\n",
    "        return decoded\n",
    "    \n",
    "autoencoder_x = Autoencoder()\n",
    "autoencoder_y = Autoencoder()\n",
    "autoencoder_z = Autoencoder()"
   ]
  },
  {
   "cell_type": "code",
   "execution_count": null,
   "id": "bb2995af",
   "metadata": {},
   "outputs": [],
   "source": [
    "autoencoder_x.compile(optimizer = 'adam', loss = 'mae')\n",
    "autoencoder_y.compile(optimizer = 'adam', loss = 'mae')\n",
    "autoencoder_z.compile(optimizer = 'adam', loss = 'mae')\n",
    "\n",
    "early_stopping = EarlyStopping(monitor='val_loss', patience=10)"
   ]
  },
  {
   "cell_type": "code",
   "execution_count": null,
   "id": "35e2a3bb",
   "metadata": {},
   "outputs": [],
   "source": [
    "history_x = autoencoder_x.fit(x_train_data, x_train_data,\n",
    "                         epochs = 100000,\n",
    "                         batch_size = 32,\n",
    "                         validation_data = (x_test_data, x_test_data),\n",
    "                         shuffle = True, callbacks = [early_stopping])"
   ]
  },
  {
   "cell_type": "code",
   "execution_count": null,
   "id": "a61c051d",
   "metadata": {},
   "outputs": [],
   "source": [
    "history_y = autoencoder_y.fit(y_train_data, y_train_data,\n",
    "                         epochs = 100000,\n",
    "                         batch_size = 32,\n",
    "                         validation_data = (y_test_data, y_test_data),\n",
    "                         shuffle = True, callbacks = [early_stopping])"
   ]
  },
  {
   "cell_type": "code",
   "execution_count": null,
   "id": "cfef3f9b",
   "metadata": {},
   "outputs": [],
   "source": [
    "history_z = autoencoder_z.fit(z_train_data, z_train_data,\n",
    "                         epochs = 100000,\n",
    "                         batch_size = 32,\n",
    "                         validation_data = (z_test_data, z_test_data),\n",
    "                         shuffle = True, callbacks = [early_stopping])"
   ]
  },
  {
   "cell_type": "markdown",
   "id": "18778f23",
   "metadata": {},
   "source": [
    "### Inspecting results"
   ]
  },
  {
   "cell_type": "code",
   "execution_count": null,
   "id": "b4d9f34c",
   "metadata": {},
   "outputs": [],
   "source": [
    "def mae(y_true, predictions):\n",
    "    y_true, predictions = np.array(y_true), np.array(predictions)\n",
    "    return np.mean(np.abs(y_true - predictions))"
   ]
  },
  {
   "cell_type": "code",
   "execution_count": null,
   "id": "51d18609",
   "metadata": {},
   "outputs": [],
   "source": [
    "predicted_x = autoencoder_x.predict(x_train_data_clean)"
   ]
  },
  {
   "cell_type": "code",
   "execution_count": null,
   "id": "08042953",
   "metadata": {},
   "outputs": [],
   "source": [
    "predicted_x.shape"
   ]
  },
  {
   "cell_type": "code",
   "execution_count": null,
   "id": "096333e1",
   "metadata": {},
   "outputs": [],
   "source": [
    "index = 0"
   ]
  },
  {
   "cell_type": "code",
   "execution_count": null,
   "id": "068d1392",
   "metadata": {
    "scrolled": false
   },
   "outputs": [],
   "source": [
    "print(index)\n",
    "print(f\"MAE: {mae(predicted_x[index], x_train_data_clean[index])}\")\n",
    "plt.plot(predicted_x[index], 'r')\n",
    "plt.plot(x_train_data_clean[index], 'b')\n",
    "\n",
    "plt.fill_between(np.arange(1173), predicted_x[index], x_train_data_clean[index], color = 'lightcoral')\n",
    "plt.legend(labels = ['Reconstruction', 'Input', 'Error'])\n",
    "plt.show()\n",
    "index += 1"
   ]
  },
  {
   "cell_type": "code",
   "execution_count": null,
   "id": "8b7bddce",
   "metadata": {},
   "outputs": [],
   "source": [
    "predicted_y = autoencoder_y.predict(y_train_data)"
   ]
  },
  {
   "cell_type": "code",
   "execution_count": null,
   "id": "c1cefeb5",
   "metadata": {},
   "outputs": [],
   "source": [
    "index = 0"
   ]
  },
  {
   "cell_type": "code",
   "execution_count": null,
   "id": "a289e31f",
   "metadata": {},
   "outputs": [],
   "source": [
    "print(index)\n",
    "print(f\"MAE: {mae(predicted_y[index], y_train_data[index])}\")\n",
    "plt.plot(predicted_y[index], 'r')\n",
    "plt.plot(y_train_data[index], 'b')\n",
    "\n",
    "plt.fill_between(np.arange(1173), predicted_y[index], y_train_data[index], color = 'lightcoral')\n",
    "plt.legend(labels = ['Reconstruction', 'Input', 'Error'])\n",
    "plt.show()\n",
    "index += 1"
   ]
  },
  {
   "cell_type": "code",
   "execution_count": null,
   "id": "07346e12",
   "metadata": {},
   "outputs": [],
   "source": [
    "mae_scores = [mae(predicted_y[i], y_train_data[i]) for i in range(y_train_data.shape[0])]"
   ]
  },
  {
   "cell_type": "code",
   "execution_count": null,
   "id": "0d01baef",
   "metadata": {},
   "outputs": [],
   "source": [
    "sorted(mae_scores)"
   ]
  },
  {
   "cell_type": "markdown",
   "id": "5434bbf6",
   "metadata": {},
   "source": [
    "### Determining Threshold"
   ]
  },
  {
   "cell_type": "code",
   "execution_count": null,
   "id": "fac28a89",
   "metadata": {},
   "outputs": [],
   "source": [
    "adl_loss_x = tf.keras.losses.mae(predicted_x, x_train_data_clean)\n",
    "plt.hist(adl_loss_x[None,:], bins = 50)\n",
    "plt.xlabel(\"ADL loss\")\n",
    "plt.ylabel(\"No of examples\")\n",
    "plt.show()"
   ]
  },
  {
   "cell_type": "code",
   "execution_count": null,
   "id": "6bb8cf90",
   "metadata": {},
   "outputs": [],
   "source": [
    "predicted_fall = autoencoder_x.predict(x_axis_fall_clean)"
   ]
  },
  {
   "cell_type": "code",
   "execution_count": null,
   "id": "e0c0bbaf",
   "metadata": {},
   "outputs": [],
   "source": [
    "fall_loss_x = tf.keras.losses.mae(predicted_fall, x_axis_fall_clean)\n",
    "plt.hist(fall_loss_x[None,:], bins = 50)\n",
    "plt.xlabel(\"Fall loss\")\n",
    "plt.ylabel(\"No of examples\")\n",
    "plt.show()"
   ]
  },
  {
   "cell_type": "code",
   "execution_count": null,
   "id": "6667a4aa",
   "metadata": {},
   "outputs": [],
   "source": [
    "threshold = np.mean(fall_loss_x) - np.std(fall_loss_x)\n",
    "print(f\"threshold: {threshold}\")"
   ]
  },
  {
   "cell_type": "code",
   "execution_count": null,
   "id": "dcf64a72",
   "metadata": {},
   "outputs": [],
   "source": [
    "def compute_evaluation(adl_loss, fall_loss, threshold):\n",
    "    train_total = len(adl_loss)\n",
    "    test_total = len(fall_loss)\n",
    "\n",
    "    tp = np.count_nonzero(fall_loss > threshold) # right side of fall\n",
    "    fp = np.count_nonzero(adl_loss > threshold) # right side of adl\n",
    "    fn = np.count_nonzero(fall_loss <= threshold) # left side of fall\n",
    "    tn = np.count_nonzero(adl_loss <= threshold) # left side of adl\n",
    "    print(f'True Positives: {tp}')\n",
    "    print(f'False Positives: {fp}')\n",
    "    print(f'False Negatives: {fn}')\n",
    "    print(f'True Negatives: {tn}')\n",
    "    print()\n",
    "\n",
    "    acc = accuracy(adl_loss, fall_loss, threshold)\n",
    "    prec = precision(adl_loss, fall_loss, threshold)\n",
    "    rec = recall(adl_loss, fall_loss, threshold)\n",
    "    f1_score = f1(adl_loss, fall_loss, threshold)\n",
    "    f1_weighted = weighted_f1(adl_loss, fall_loss, threshold) # prioritising precision\n",
    "    print('------------------')\n",
    "    print('Evalutaion Metrics')\n",
    "    print('------------------')\n",
    "    print(f'Accuracy: {round(acc,3)}')\n",
    "    print(f'Precision: {round(prec,3)}')\n",
    "    print(f'Recall: {round(rec,3)}')\n",
    "    print(f'F1 Score: {round(f1_score,3)}')\n",
    "    print(f'Weighted F1 Score: {round(f1_weighted,3)}')\n",
    "\n",
    "\n",
    "def accuracy(adl_loss, fall_loss, threshold):\n",
    "    tp = np.count_nonzero(fall_loss > threshold) # right side of fall\n",
    "    fp = np.count_nonzero(adl_loss > threshold) # right side of adl\n",
    "    fn = np.count_nonzero(fall_loss <= threshold) # left side of fall\n",
    "    tn = np.count_nonzero(adl_loss <= threshold) # left side of adl\n",
    "    return (tp+tn)/(tp+fp+fn+tn)\n",
    "\n",
    "def precision(adl_loss, fall_loss, threshold):\n",
    "    tp = np.count_nonzero(fall_loss > threshold) # right side of fall\n",
    "    fp = np.count_nonzero(adl_loss > threshold) # right side of adl\n",
    "    fn = np.count_nonzero(fall_loss <= threshold) # left side of fall\n",
    "    tn = np.count_nonzero(adl_loss <= threshold) # left side of adl\n",
    "    try:\n",
    "        return tp/(tp+fp)\n",
    "    except: return 0\n",
    "\n",
    "def recall(adl_loss, fall_loss, threshold):\n",
    "    tp = np.count_nonzero(fall_loss > threshold) # right side of fall\n",
    "    fp = np.count_nonzero(adl_loss > threshold) # right side of adl\n",
    "    fn = np.count_nonzero(fall_loss <= threshold) # left side of fall\n",
    "    tn = np.count_nonzero(adl_loss <= threshold) # left side of adl\n",
    "    try:\n",
    "        return tp/(tp+fn)\n",
    "    except: return 0\n",
    "\n",
    "def f1(adl_loss, fall_loss, threshold):\n",
    "    tp = np.count_nonzero(fall_loss > threshold) # right side of fall\n",
    "    fp = np.count_nonzero(adl_loss > threshold) # right side of adl\n",
    "    fn = np.count_nonzero(fall_loss <= threshold) # left side of fall\n",
    "    tn = np.count_nonzero(adl_loss <= threshold) # left side of adl\n",
    "    prec = precision(adl_loss, fall_loss, threshold)\n",
    "    rec = recall(adl_loss, fall_loss, threshold)\n",
    "    try:\n",
    "        return 2*((prec*rec)/(prec+rec))\n",
    "    except: return 0\n",
    "\n",
    "def weighted_f1(adl_loss, fall_loss, threshold, beta=0.7):\n",
    "\n",
    "    tp = np.count_nonzero(fall_loss > threshold) # right side of fall\n",
    "    fp = np.count_nonzero(adl_loss > threshold) # right side of adl\n",
    "    fn = np.count_nonzero(fall_loss <= threshold) # left side of fall\n",
    "    tn = np.count_nonzero(adl_loss <= threshold) # left side of adl\n",
    "\n",
    "    prec = precision(adl_loss, fall_loss, threshold)\n",
    "    rec = recall(adl_loss, fall_loss, threshold)\n",
    "    try:\n",
    "        return (1+beta**2) * ((prec*rec)/(beta**2*prec+rec))\n",
    "    except:\n",
    "        return 0\n",
    "\n",
    "\n",
    "    \n",
    "compute_evaluation(adl_loss_x, fall_loss_x, threshold)"
   ]
  },
  {
   "cell_type": "code",
   "execution_count": null,
   "id": "5f847441",
   "metadata": {},
   "outputs": [],
   "source": [
    "min_threshold = min(np.min(adl_loss_x), np.min(fall_loss_x))\n",
    "max_threshold = max(np.max(adl_loss_x), np.max(fall_loss_x))\n",
    "threshold_list = np.linspace(min_threshold, max_threshold, num = 100)"
   ]
  },
  {
   "cell_type": "code",
   "execution_count": null,
   "id": "92b01f2b",
   "metadata": {},
   "outputs": [],
   "source": [
    "weighted_f1_score_list = [weighted_f1(adl_loss_x, fall_loss_x, threshold, beta = 0.5) for threshold in threshold_list]\n",
    "precision_list = [precision(adl_loss_x, fall_loss_x, threshold) for threshold in threshold_list]\n",
    "recall_list = [recall(adl_loss_x, fall_loss_x, threshold) for threshold in threshold_list]"
   ]
  },
  {
   "cell_type": "code",
   "execution_count": null,
   "id": "d8c1743f",
   "metadata": {},
   "outputs": [],
   "source": [
    "plt.plot(threshold_list, weighted_f1_score_list)\n",
    "plt.xlabel(\"Threshold\")\n",
    "plt.ylabel(\"weighted f1 score list\")\n",
    "plt.show()"
   ]
  },
  {
   "cell_type": "code",
   "execution_count": null,
   "id": "2bb5b008",
   "metadata": {},
   "outputs": [],
   "source": [
    "index = np.argmax(weighted_f1_score_list)\n",
    "print(f\"Highest Weighted F1 Score: {weighted_f1_score_list[index]}\")\n",
    "print(f\"Best Threshold: {threshold_list[index]}\")"
   ]
  },
  {
   "cell_type": "code",
   "execution_count": null,
   "id": "e2b9b852",
   "metadata": {},
   "outputs": [],
   "source": [
    "accuracy(adl_loss_x, fall_loss_x, threshold_list[index])"
   ]
  },
  {
   "cell_type": "code",
   "execution_count": null,
   "id": "087fe22d",
   "metadata": {},
   "outputs": [],
   "source": [
    "precision(adl_loss_x, fall_loss_x, threshold_list[index])"
   ]
  },
  {
   "cell_type": "code",
   "execution_count": null,
   "id": "770a7f16",
   "metadata": {},
   "outputs": [],
   "source": [
    "recall(adl_loss_x, fall_loss_x, threshold_list[index])"
   ]
  },
  {
   "cell_type": "code",
   "execution_count": null,
   "id": "2ea42674",
   "metadata": {},
   "outputs": [],
   "source": [
    "adl_loss_y = tf.keras.losses.mae(predicted_y, y_train_data)\n",
    "plt.hist(adl_loss_y[None,:], bins = 50)\n",
    "plt.xlabel(\"ADL loss\")\n",
    "plt.ylabel(\"No of examples\")\n",
    "plt.show()"
   ]
  },
  {
   "cell_type": "code",
   "execution_count": null,
   "id": "e56c98a4",
   "metadata": {},
   "outputs": [],
   "source": [
    "predicted_fall = autoencoder_y.predict(y_axis_fall_clean)"
   ]
  },
  {
   "cell_type": "code",
   "execution_count": null,
   "id": "cba58117",
   "metadata": {},
   "outputs": [],
   "source": [
    "fall_loss_y = tf.keras.losses.mae(predicted_fall, y_axis_fall_clean)\n",
    "plt.hist(fall_loss_y[None,:], bins = 50)\n",
    "plt.xlabel(\"Fall loss\")\n",
    "plt.ylabel(\"No of examples\")\n",
    "plt.show()"
   ]
  },
  {
   "cell_type": "code",
   "execution_count": null,
   "id": "735859b0",
   "metadata": {},
   "outputs": [],
   "source": [
    "threshold = np.mean(fall_loss_y) - np.std(fall_loss_y)\n",
    "print(f\"threshold: {threshold}\")"
   ]
  },
  {
   "cell_type": "code",
   "execution_count": null,
   "id": "96228bd0",
   "metadata": {},
   "outputs": [],
   "source": [
    "min_threshold = min(np.min(adl_loss_y), np.min(fall_loss_y))\n",
    "max_threshold = max(np.max(adl_loss_y), np.max(fall_loss_y))\n",
    "threshold_list = np.linspace(min_threshold, max_threshold, num = 100)"
   ]
  },
  {
   "cell_type": "code",
   "execution_count": null,
   "id": "0cb7e89a",
   "metadata": {},
   "outputs": [],
   "source": [
    "weighted_f1_score_list = [weighted_f1(adl_loss_y, fall_loss_y, threshold, beta = 0.5) for threshold in threshold_list]\n",
    "precision_list = [precision(adl_loss_y, fall_loss_y, threshold) for threshold in threshold_list]\n",
    "recall_list = [recall(adl_loss_y, fall_loss_y, threshold) for threshold in threshold_list]"
   ]
  },
  {
   "cell_type": "code",
   "execution_count": null,
   "id": "5ea1e5a9",
   "metadata": {},
   "outputs": [],
   "source": [
    "plt.plot(threshold_list, weighted_f1_score_list)\n",
    "plt.xlabel(\"Threshold\")\n",
    "plt.ylabel(\"weighted f1 score list\")\n",
    "plt.show()"
   ]
  },
  {
   "cell_type": "code",
   "execution_count": null,
   "id": "a0ba4251",
   "metadata": {},
   "outputs": [],
   "source": [
    "index = np.argmax(weighted_f1_score_list)\n",
    "print(f\"Highest Weighted F1 Score: {weighted_f1_score_list[index]}\")\n",
    "print(f\"Best Threshold: {threshold_list[index]}\")"
   ]
  },
  {
   "cell_type": "markdown",
   "id": "a0bec420",
   "metadata": {},
   "source": [
    "# ANN Approach"
   ]
  },
  {
   "cell_type": "code",
   "execution_count": null,
   "id": "a40262f1",
   "metadata": {},
   "outputs": [],
   "source": [
    "x_adl = x_train_data_clean\n",
    "x_fall = x_axis_fall_clean\n",
    "\n",
    "y_adl = y_axis_clean\n",
    "y_fall = y_axis_fall_clean\n",
    "\n",
    "z_adl = z_axis_clean\n",
    "z_fall = z_axis_fall_clean"
   ]
  },
  {
   "cell_type": "code",
   "execution_count": null,
   "id": "95ba3f48",
   "metadata": {},
   "outputs": [],
   "source": [
    "x_data = np.concatenate([x_adl, x_fall])\n",
    "y_data = np.concatenate([y_adl, y_fall])\n",
    "z_data = np.concatenate([z_adl, z_fall])\n",
    "\n",
    "print(f\"\"\"\n",
    "x_data: {x_data.shape[0]}\n",
    "y_data: {y_data.shape[0]}\n",
    "z_data: {z_data.shape[0]}\n",
    "\"\"\")"
   ]
  },
  {
   "cell_type": "code",
   "execution_count": null,
   "id": "de0dc606",
   "metadata": {},
   "outputs": [],
   "source": [
    "x_labels = np.concatenate([np.zeros((x_adl.shape[0], 1)), np.ones((x_fall.shape[0], 1))], axis = 0)\n",
    "y_labels = np.concatenate([np.zeros((y_adl.shape[0], 1)), np.ones((y_fall.shape[0], 1))], axis = 0)\n",
    "z_labels = np.concatenate([np.zeros((z_adl.shape[0], 1)), np.ones((z_fall.shape[0], 1))], axis = 0)"
   ]
  },
  {
   "cell_type": "code",
   "execution_count": null,
   "id": "9f1f525c",
   "metadata": {},
   "outputs": [],
   "source": [
    "test_percent = 0.2\n",
    "np.random.seed(100)\n",
    "x_test_ind = sorted(np.random.choice(range(x_data.shape[0]), replace = False, size = round(x_data.shape[0] * test_percent)))\n",
    "y_test_ind = sorted(np.random.choice(range(y_data.shape[0]), replace = False, size = round(y_data.shape[0] * test_percent)))\n",
    "z_test_ind = sorted(np.random.choice(range(z_data.shape[0]), replace = False, size = round(z_data.shape[0] * test_percent)))\n",
    "x_train_ind = np.delete(np.arange(0, x_data.shape[0]), x_test_ind)\n",
    "y_train_ind = np.delete(np.arange(0, y_data.shape[0]), y_test_ind)\n",
    "z_train_ind = np.delete(np.arange(0, z_data.shape[0]), z_test_ind)"
   ]
  },
  {
   "cell_type": "code",
   "execution_count": null,
   "id": "0e1dc635",
   "metadata": {},
   "outputs": [],
   "source": [
    "x_train_data = x_data[x_train_ind, :]\n",
    "y_train_data = y_data[y_train_ind, :]\n",
    "z_train_data = z_data[z_train_ind, :]\n",
    "\n",
    "x_train_labels = x_labels[x_train_ind, :]\n",
    "y_train_labels = y_labels[y_train_ind, :]\n",
    "z_train_labels = z_labels[z_train_ind, :]\n",
    "\n",
    "x_test_data = x_data[x_test_ind, :]\n",
    "y_test_data = y_data[y_test_ind, :]\n",
    "z_test_data = z_data[z_test_ind, :]\n",
    "\n",
    "x_test_labels = x_labels[x_test_ind, :]\n",
    "y_test_labels = y_labels[y_test_ind, :]\n",
    "z_test_labels = z_labels[z_test_ind, :]"
   ]
  },
  {
   "cell_type": "code",
   "execution_count": null,
   "id": "c046fe64",
   "metadata": {},
   "outputs": [],
   "source": [
    "enc = OneHotEncoder(handle_unknown='ignore')\n",
    "enc.fit(x_train_labels)\n",
    "\n",
    "x_train_labels = enc.transform(x_train_labels).toarray()\n",
    "x_test_labels = enc.transform(x_test_labels).toarray()\n",
    "\n",
    "y_train_labels = enc.transform(y_train_labels).toarray()\n",
    "y_test_labels = enc.transform(y_test_labels).toarray()\n",
    "\n",
    "z_train_labels = enc.transform(z_train_labels).toarray()\n",
    "z_test_labels = enc.transform(z_test_labels).toarray()"
   ]
  },
  {
   "cell_type": "code",
   "execution_count": null,
   "id": "a9c93d75",
   "metadata": {},
   "outputs": [],
   "source": [
    "early_stopping = EarlyStopping(monitor='val_accuracy', patience=5)"
   ]
  },
  {
   "cell_type": "code",
   "execution_count": null,
   "id": "8233c2f2",
   "metadata": {},
   "outputs": [],
   "source": [
    "model_x = tf.keras.Sequential([\n",
    "    layers.Dense(400, activation = 'relu'),\n",
    "    layers.Dense(300, activation = 'relu'),\n",
    "    layers.Dense(150, activation = 'relu'),\n",
    "    layers.Dense(2, activation = 'sigmoid')\n",
    "])\n",
    "\n",
    "model_y = tf.keras.Sequential([\n",
    "    layers.Dense(400, activation = 'relu'),\n",
    "    layers.Dense(300, activation = 'relu'),\n",
    "    layers.Dense(150, activation = 'relu'),\n",
    "    layers.Dense(2, activation = 'sigmoid')\n",
    "])\n",
    "\n",
    "model_z = tf.keras.Sequential([\n",
    "    layers.Dense(400, activation = 'relu'),\n",
    "    layers.Dense(300, activation = 'relu'),\n",
    "    layers.Dense(150, activation = 'relu'),\n",
    "    layers.Dense(2, activation = 'sigmoid')\n",
    "])\n",
    "\n",
    "model_x.compile(optimizer = 'adam', loss = 'binary_crossentropy', metrics = ['accuracy'])\n",
    "model_y.compile(optimizer = 'adam', loss = 'binary_crossentropy', metrics = ['accuracy'])\n",
    "model_z.compile(optimizer = 'adam', loss = 'binary_crossentropy', metrics = ['accuracy'])"
   ]
  },
  {
   "cell_type": "code",
   "execution_count": null,
   "id": "9394aaba",
   "metadata": {},
   "outputs": [],
   "source": [
    "history_x = model_x.fit(x_train_data, x_train_labels,\n",
    "                    validation_data = (x_test_data, x_test_labels),\n",
    "                    epochs = 100,\n",
    "                    callbacks = [early_stopping],\n",
    "                    shuffle = True)"
   ]
  },
  {
   "cell_type": "code",
   "execution_count": null,
   "id": "df6ed794",
   "metadata": {},
   "outputs": [],
   "source": [
    "history_y = model_y.fit(y_train_data, y_train_labels,\n",
    "                    validation_data = (y_test_data, y_test_labels),\n",
    "                    epochs = 100,\n",
    "                    callbacks = [early_stopping],\n",
    "                    shuffle = True)"
   ]
  },
  {
   "cell_type": "code",
   "execution_count": null,
   "id": "1f1c58a6",
   "metadata": {},
   "outputs": [],
   "source": [
    "history_z = model_z.fit(z_train_data, z_train_labels,\n",
    "                    validation_data = (z_test_data, z_test_labels),\n",
    "                    epochs = 100,\n",
    "                    callbacks = [early_stopping],\n",
    "                    shuffle = True)"
   ]
  },
  {
   "cell_type": "code",
   "execution_count": null,
   "id": "a77fa7a8",
   "metadata": {},
   "outputs": [],
   "source": [
    "predicted_x = model_x.predict(x_test_data)\n",
    "predicted_x = [np.argmax(i) for i in predicted_x]\n",
    "actual_x = [np.argmax(i) for i in x_test_labels]\n",
    "\n",
    "cf_matrix = confusion_matrix(predicted_x, actual_x)\n",
    "\n",
    "ax = sn.heatmap(cf_matrix, annot=True, cmap='Blues', fmt='g')\n",
    "ax.set_title('Seaborn Confusion Matrix with labels\\n\\n')\n",
    "ax.set_xlabel('\\nPredicted Values')\n",
    "ax.set_ylabel('Actual Values')\n",
    "## Ticket labels - List must be in alphabetical order\n",
    "ax.xaxis.set_ticklabels(['ADL','Fall'])\n",
    "ax.yaxis.set_ticklabels(['ADL','Fall'])\n",
    "## Display the visualization of the Confusion Matrix.\n",
    "plt.show()"
   ]
  },
  {
   "cell_type": "code",
   "execution_count": null,
   "id": "137a3a01",
   "metadata": {},
   "outputs": [],
   "source": [
    "predicted_y = model_y.predict(y_test_data)\n",
    "predicted_y = [np.argmax(i) for i in predicted_y]\n",
    "actual_y = [np.argmax(i) for i in y_test_labels]\n",
    "\n",
    "cf_matrix = confusion_matrix(predicted_y, actual_y)\n",
    "\n",
    "ax = sn.heatmap(cf_matrix, annot=True, cmap='Blues', fmt='g')\n",
    "ax.set_title('Seaborn Confusion Matrix with labels\\n\\n')\n",
    "ax.set_xlabel('\\nPredicted Values')\n",
    "ax.set_ylabel('Actual Values')\n",
    "## Ticket labels - List must be in alphabetical order\n",
    "ax.xaxis.set_ticklabels(['ADL','Fall'])\n",
    "ax.yaxis.set_ticklabels(['ADL','Fall'])\n",
    "## Display the visualization of the Confusion Matrix.\n",
    "plt.show()"
   ]
  },
  {
   "cell_type": "code",
   "execution_count": null,
   "id": "822b373f",
   "metadata": {},
   "outputs": [],
   "source": [
    "predicted_z = model_z.predict(z_test_data)\n",
    "predicted_z = [np.argmax(i) for i in predicted_z]\n",
    "actual_z = [np.argmax(i) for i in z_test_labels]\n",
    "\n",
    "cf_matrix = confusion_matrix(predicted_z, actual_z)\n",
    "\n",
    "ax = sn.heatmap(cf_matrix, annot=True, cmap='Blues', fmt='g')\n",
    "ax.set_title('Seaborn Confusion Matrix with labels\\n\\n')\n",
    "ax.set_xlabel('\\nPredicted Values')\n",
    "ax.set_ylabel('Actual Values')\n",
    "## Ticket labels - List must be in alphabetical order\n",
    "ax.xaxis.set_ticklabels(['ADL','Fall'])\n",
    "ax.yaxis.set_ticklabels(['ADL','Fall'])\n",
    "## Display the visualization of the Confusion Matrix.\n",
    "plt.show()"
   ]
  },
  {
   "cell_type": "markdown",
   "id": "bd453d87",
   "metadata": {},
   "source": [
    "# 1D CNN Approach"
   ]
  },
  {
   "cell_type": "code",
   "execution_count": null,
   "id": "567b0e40",
   "metadata": {},
   "outputs": [],
   "source": [
    "early_stopping = EarlyStopping(monitor='val_accuracy', patience=3)"
   ]
  },
  {
   "cell_type": "code",
   "execution_count": null,
   "id": "3b63cd13",
   "metadata": {},
   "outputs": [],
   "source": [
    "cnn_model_x = tf.keras.Sequential([\n",
    "    Conv1D(filters = 64, kernel_size = 3, activation = 'relu'),\n",
    "    Conv1D(filters = 64, kernel_size = 3, activation = 'relu'),\n",
    "    Dropout(0.5),\n",
    "    MaxPooling1D(pool_size = 2),\n",
    "    Flatten(),\n",
    "    layers.Dense(400, activation = 'relu'),\n",
    "    layers.Dense(300, activation = 'relu'),\n",
    "    layers.Dense(150, activation = 'relu'),\n",
    "    layers.Dense(2, activation = 'sigmoid')\n",
    "])\n",
    "\n",
    "cnn_model_x.compile(loss='binary_crossentropy', optimizer='adam', metrics=['accuracy'])"
   ]
  },
  {
   "cell_type": "code",
   "execution_count": null,
   "id": "e4fd4369",
   "metadata": {},
   "outputs": [],
   "source": [
    "x_train_data_reshaped = x_train_data[..., None]\n",
    "x_test_data_reshaped = x_test_data[..., None]"
   ]
  },
  {
   "cell_type": "code",
   "execution_count": null,
   "id": "41775b17",
   "metadata": {},
   "outputs": [],
   "source": [
    "history_x = cnn_model_x.fit(x_train_data_reshaped, x_train_labels,\n",
    "                    validation_data = (x_test_data_reshaped, x_test_labels),\n",
    "                    epochs = 100,\n",
    "                    callbacks = [early_stopping],\n",
    "                    shuffle = True)"
   ]
  },
  {
   "cell_type": "code",
   "execution_count": null,
   "id": "9da3f4e0",
   "metadata": {},
   "outputs": [],
   "source": [
    "predicted_x = cnn_model_x.predict(x_test_data)\n",
    "predicted_x = [np.argmax(i) for i in predicted_x]\n",
    "actual_x = [np.argmax(i) for i in x_test_labels]\n",
    "\n",
    "cf_matrix = confusion_matrix(predicted_x, actual_x)\n",
    "\n",
    "ax = sn.heatmap(cf_matrix, annot=True, cmap='Blues', fmt='g')\n",
    "ax.set_title('Seaborn Confusion Matrix with labels\\n\\n')\n",
    "ax.set_xlabel('\\nPredicted Values')\n",
    "ax.set_ylabel('Actual Values')\n",
    "## Ticket labels - List must be in alphabetical order\n",
    "ax.xaxis.set_ticklabels(['ADL','Fall'])\n",
    "ax.yaxis.set_ticklabels(['ADL','Fall'])\n",
    "## Display the visualization of the Confusion Matrix.\n",
    "plt.show()"
   ]
  },
  {
   "cell_type": "code",
   "execution_count": null,
   "id": "3f93b27d",
   "metadata": {},
   "outputs": [],
   "source": [
    "cnn_model_y = tf.keras.Sequential([\n",
    "    Conv1D(filters = 64, kernel_size = 3, activation = 'relu'),\n",
    "    Conv1D(filters = 64, kernel_size = 3, activation = 'relu'),\n",
    "    Dropout(0.5),\n",
    "    MaxPooling1D(pool_size = 2),\n",
    "    Flatten(),\n",
    "    layers.Dense(400, activation = 'relu'),\n",
    "    layers.Dense(300, activation = 'relu'),\n",
    "    layers.Dense(150, activation = 'relu'),\n",
    "    layers.Dense(2, activation = 'sigmoid')\n",
    "])\n",
    "\n",
    "cnn_model_y.compile(loss='binary_crossentropy', optimizer='adam', metrics=['accuracy'])"
   ]
  },
  {
   "cell_type": "code",
   "execution_count": null,
   "id": "d0864305",
   "metadata": {},
   "outputs": [],
   "source": [
    "y_train_data_reshaped = y_train_data[..., None]\n",
    "y_test_data_reshaped = y_test_data[..., None]"
   ]
  },
  {
   "cell_type": "code",
   "execution_count": null,
   "id": "da1ba78a",
   "metadata": {},
   "outputs": [],
   "source": [
    "history_y = cnn_model_y.fit(y_train_data_reshaped, y_train_labels,\n",
    "                    validation_data = (y_test_data_reshaped, y_test_labels),\n",
    "                    epochs = 100,\n",
    "                    callbacks = [early_stopping],\n",
    "                    shuffle = True)"
   ]
  },
  {
   "cell_type": "code",
   "execution_count": null,
   "id": "d0e0a2d2",
   "metadata": {},
   "outputs": [],
   "source": [
    "predicted_y = cnn_model_y.predict(y_test_data)\n",
    "predicted_y = [np.argmax(i) for i in predicted_y]\n",
    "actual_y = [np.argmax(i) for i in y_test_labels]\n",
    "\n",
    "cf_matrix = confusion_matrix(predicted_y, actual_y)\n",
    "\n",
    "ax = sn.heatmap(cf_matrix, annot=True, cmap='Blues', fmt='g')\n",
    "ax.set_title('Seaborn Confusion Matrix with labels\\n\\n')\n",
    "ax.set_xlabel('\\nPredicted Values')\n",
    "ax.set_ylabel('Actual Values')\n",
    "## Ticket labels - List must be in alphabetical order\n",
    "ax.xaxis.set_ticklabels(['ADL','Fall'])\n",
    "ax.yaxis.set_ticklabels(['ADL','Fall'])\n",
    "## Display the visualization of the Confusion Matrix.\n",
    "plt.show()"
   ]
  },
  {
   "cell_type": "code",
   "execution_count": null,
   "id": "a8410f61",
   "metadata": {},
   "outputs": [],
   "source": [
    "cnn_model_z = tf.keras.Sequential([\n",
    "    Conv1D(filters = 64, kernel_size = 3, activation = 'relu'),\n",
    "    Conv1D(filters = 64, kernel_size = 3, activation = 'relu'),\n",
    "    Dropout(0.5),\n",
    "    MaxPooling1D(pool_size = 2),\n",
    "    Flatten(),\n",
    "    layers.Dense(400, activation = 'relu'),\n",
    "    layers.Dense(300, activation = 'relu'),\n",
    "    layers.Dense(150, activation = 'relu'),\n",
    "    layers.Dense(2, activation = 'sigmoid')\n",
    "])\n",
    "\n",
    "cnn_model_z.compile(loss='binary_crossentropy', optimizer='adam', metrics=['accuracy'])"
   ]
  },
  {
   "cell_type": "code",
   "execution_count": null,
   "id": "36eb2e4d",
   "metadata": {},
   "outputs": [],
   "source": [
    "z_train_data_reshaped = z_train_data[..., None]\n",
    "z_test_data_reshaped = z_test_data[..., None]"
   ]
  },
  {
   "cell_type": "code",
   "execution_count": null,
   "id": "565d4b7f",
   "metadata": {},
   "outputs": [],
   "source": [
    "history_z = cnn_model_z.fit(z_train_data_reshaped, z_train_labels,\n",
    "                    validation_data = (z_test_data_reshaped, z_test_labels),\n",
    "                    epochs = 100,\n",
    "                    callbacks = [early_stopping],\n",
    "                    shuffle = True)"
   ]
  },
  {
   "cell_type": "code",
   "execution_count": null,
   "id": "d467fc4f",
   "metadata": {
    "scrolled": true
   },
   "outputs": [],
   "source": [
    "predicted_z = cnn_model_z.predict(z_test_data)\n",
    "predicted_z = [np.argmax(i) for i in predicted_z]\n",
    "actual_z = [np.argmax(i) for i in z_test_labels]\n",
    "\n",
    "cf_matrix = confusion_matrix(predicted_z, actual_z)\n",
    "\n",
    "ax = sn.heatmap(cf_matrix, annot=True, cmap='Blues', fmt='g')\n",
    "ax.set_title('Seaborn Confusion Matrix with labels\\n\\n')\n",
    "ax.set_xlabel('\\nPredicted Values')\n",
    "ax.set_ylabel('Actual Values')\n",
    "## Ticket labels - List must be in alphabetical order\n",
    "ax.xaxis.set_ticklabels(['ADL','Fall'])\n",
    "ax.yaxis.set_ticklabels(['ADL','Fall'])\n",
    "## Display the visualization of the Confusion Matrix.\n",
    "plt.show()"
   ]
  },
  {
   "cell_type": "markdown",
   "id": "f97b7676",
   "metadata": {},
   "source": [
    "### 1D-CNN with Maximum Voting"
   ]
  },
  {
   "cell_type": "code",
   "execution_count": null,
   "id": "1ac91443",
   "metadata": {},
   "outputs": [],
   "source": [
    "to_remove = sorted(np.unique(np.concatenate(([304,305,306],\n",
    "[299, 300, 301, 302, 303, 304, 305, 306, 307, 308, 309, 310, 311, 312, 313, 314, 315],\n",
    "[3,  54,  78, 141, 142, 152, 159, 170, 171, 172, 176, 207, 208, 209, 266, 267, 268, 297,\n",
    " 299, 300, 301, 303, 304, 305, 306, 307, 309, 310, 313, 314, 315, 376, 399, 413, 428, 439,\n",
    " 442, 514,]))))\n",
    "to_keep = np.delete(np.arange(0,len(x_axis)), to_remove)"
   ]
  },
  {
   "cell_type": "code",
   "execution_count": null,
   "id": "5bc84be4",
   "metadata": {},
   "outputs": [],
   "source": [
    "x_adl = x_axis[to_keep]\n",
    "y_adl = y_axis[to_keep]\n",
    "z_adl = z_axis[to_keep]\n",
    "x_data = np.concatenate([x_adl, x_fall])\n",
    "x_data = np.concatenate([x_adl, x_fall])\n",
    "x_data = np.concatenate([x_adl, x_fall])\n",
    "\n",
    "x_labels = np.concatenate([np.zeros((len(x_adl),)), np.ones((len(x_fall),))])\n",
    "y_labels = np.concatenate([np.zeros((len(x_adl),)), np.ones((len(x_fall),))])\n",
    "z_labels = np.concatenate([np.zeros((len(x_adl),)), np.ones((len(x_fall),))])\n",
    "\n",
    "x_labels = x_labels.reshape(-1, 1)\n",
    "y_labels = y_labels.reshape(-1, 1)\n",
    "z_labels = z_labels.reshape(-1, 1)\n",
    "\n",
    "enc = OneHotEncoder(handle_unknown='ignore')\n",
    "enc.fit(x_labels)\n",
    "\n",
    "x_labels = enc.transform(x_labels).toarray()\n",
    "y_labels = enc.transform(y_labels).toarray()\n",
    "z_labels = enc.transform(z_labels).toarray()"
   ]
  },
  {
   "cell_type": "code",
   "execution_count": null,
   "id": "b0d53d49",
   "metadata": {},
   "outputs": [],
   "source": [
    "test_percent = 0.2\n",
    "np.random.seed(100)\n",
    "test_ind =  sorted(np.random.choice(range(x_data.shape[0]), replace = False, size = round(x_data.shape[0] * test_percent)))\n",
    "train_ind = np.delete(np.arange(0, x_data.shape[0]), test_ind)"
   ]
  },
  {
   "cell_type": "code",
   "execution_count": null,
   "id": "7926bc42",
   "metadata": {},
   "outputs": [],
   "source": [
    "x_train_data = x_data[train_ind, :]\n",
    "y_train_data = y_data[train_ind, :]\n",
    "z_train_data = z_data[train_ind, :]\n",
    "\n",
    "x_train_labels = x_labels[train_ind, :]\n",
    "y_train_labels = y_labels[train_ind, :]\n",
    "z_train_labels = z_labels[train_ind, :]\n",
    "\n",
    "x_test_data = x_data[test_ind, :]\n",
    "y_test_data = y_data[test_ind, :]\n",
    "z_test_data = z_data[test_ind, :]\n",
    "\n",
    "x_test_labels = x_labels[test_ind, :]\n",
    "y_test_labels = y_labels[test_ind, :]\n",
    "z_test_labels = z_labels[test_ind, :]"
   ]
  },
  {
   "cell_type": "code",
   "execution_count": null,
   "id": "92fe7181",
   "metadata": {},
   "outputs": [],
   "source": [
    "cnn_model_x = tf.keras.Sequential([\n",
    "    Conv1D(filters = 64, kernel_size = 3, activation = 'relu'),\n",
    "    Conv1D(filters = 64, kernel_size = 3, activation = 'relu'),\n",
    "    Dropout(0.5),\n",
    "    MaxPooling1D(pool_size = 2),\n",
    "    Flatten(),\n",
    "    layers.Dense(400, activation = 'relu'),\n",
    "    layers.Dense(300, activation = 'relu'),\n",
    "    layers.Dense(150, activation = 'relu'),\n",
    "    layers.Dense(2, activation = 'sigmoid')\n",
    "])\n",
    "\n",
    "cnn_model_x.compile(loss='binary_crossentropy', optimizer='adam', metrics=['accuracy'])"
   ]
  },
  {
   "cell_type": "code",
   "execution_count": null,
   "id": "97b49319",
   "metadata": {},
   "outputs": [],
   "source": [
    "x_train_data_reshaped = x_train_data[..., None]\n",
    "x_test_data_reshaped = x_test_data[..., None]"
   ]
  },
  {
   "cell_type": "code",
   "execution_count": null,
   "id": "c78e297b",
   "metadata": {},
   "outputs": [],
   "source": [
    "history_x = cnn_model_x.fit(x_train_data_reshaped, x_train_labels,\n",
    "                    validation_data = (x_test_data_reshaped, x_test_labels),\n",
    "                    epochs = 100,\n",
    "                    callbacks = [early_stopping],\n",
    "                    shuffle = True)"
   ]
  },
  {
   "cell_type": "code",
   "execution_count": null,
   "id": "1d2ce0c6",
   "metadata": {},
   "outputs": [],
   "source": [
    "predicted_x = cnn_model_x.predict(x_test_data)\n",
    "predicted_x = [np.argmax(i) for i in predicted_x]\n",
    "actual_x = [np.argmax(i) for i in x_test_labels]\n",
    "\n",
    "cf_matrix = confusion_matrix(predicted_x, actual_x)\n",
    "\n",
    "ax = sn.heatmap(cf_matrix, annot=True, cmap='Blues', fmt='g')\n",
    "ax.set_title('Seaborn Confusion Matrix with labels\\n\\n')\n",
    "ax.set_xlabel('\\nPredicted Values')\n",
    "ax.set_ylabel('Actual Values')\n",
    "## Ticket labels - List must be in alphabetical order\n",
    "ax.xaxis.set_ticklabels(['ADL','Fall'])\n",
    "ax.yaxis.set_ticklabels(['ADL','Fall'])\n",
    "## Display the visualization of the Confusion Matrix.\n",
    "plt.show()"
   ]
  },
  {
   "cell_type": "code",
   "execution_count": null,
   "id": "d6255a8f",
   "metadata": {},
   "outputs": [],
   "source": [
    "cnn_model_y = tf.keras.Sequential([\n",
    "    Conv1D(filters = 64, kernel_size = 3, activation = 'relu'),\n",
    "    Conv1D(filters = 64, kernel_size = 3, activation = 'relu'),\n",
    "    Dropout(0.5),\n",
    "    MaxPooling1D(pool_size = 2),\n",
    "    Flatten(),\n",
    "    layers.Dense(400, activation = 'relu'),\n",
    "    layers.Dense(300, activation = 'relu'),\n",
    "    layers.Dense(150, activation = 'relu'),\n",
    "    layers.Dense(2, activation = 'sigmoid')\n",
    "])\n",
    "\n",
    "cnn_model_y.compile(loss='binary_crossentropy', optimizer='adam', metrics=['accuracy'])"
   ]
  },
  {
   "cell_type": "code",
   "execution_count": null,
   "id": "c880bde9",
   "metadata": {},
   "outputs": [],
   "source": [
    "y_train_data_reshaped = y_train_data[..., None]\n",
    "y_test_data_reshaped = y_test_data[..., None]"
   ]
  },
  {
   "cell_type": "code",
   "execution_count": null,
   "id": "c38ef265",
   "metadata": {},
   "outputs": [],
   "source": [
    "history_y = cnn_model_y.fit(y_train_data_reshaped, y_train_labels,\n",
    "                    validation_data = (y_test_data_reshaped, y_test_labels),\n",
    "                    epochs = 100,\n",
    "                    callbacks = [early_stopping],\n",
    "                    shuffle = True)"
   ]
  },
  {
   "cell_type": "code",
   "execution_count": null,
   "id": "5cf92deb",
   "metadata": {},
   "outputs": [],
   "source": [
    "predicted_y = cnn_model_y.predict(y_test_data)\n",
    "predicted_y = [np.argmax(i) for i in predicted_y]\n",
    "actual_y = [np.argmax(i) for i in y_test_labels]\n",
    "\n",
    "cf_matrix = confusion_matrix(predicted_y, actual_y)\n",
    "\n",
    "ax = sn.heatmap(cf_matrix, annot=True, cmap='Blues', fmt='g')\n",
    "ax.set_title('Seaborn Confusion Matrix with labels\\n\\n')\n",
    "ax.set_xlabel('\\nPredicted Values')\n",
    "ax.set_ylabel('Actual Values')\n",
    "## Ticket labels - List must be in alphabetical order\n",
    "ax.xaxis.set_ticklabels(['ADL','Fall'])\n",
    "ax.yaxis.set_ticklabels(['ADL','Fall'])\n",
    "## Display the visualization of the Confusion Matrix.\n",
    "plt.show()"
   ]
  },
  {
   "cell_type": "code",
   "execution_count": null,
   "id": "af2b6d4f",
   "metadata": {},
   "outputs": [],
   "source": [
    "cnn_model_z = tf.keras.Sequential([\n",
    "    Conv1D(filters = 64, kernel_size = 3, activation = 'relu'),\n",
    "    Conv1D(filters = 64, kernel_size = 3, activation = 'relu'),\n",
    "    Dropout(0.5),\n",
    "    MaxPooling1D(pool_size = 2),\n",
    "    Flatten(),\n",
    "    layers.Dense(400, activation = 'relu'),\n",
    "    layers.Dense(300, activation = 'relu'),\n",
    "    layers.Dense(150, activation = 'relu'),\n",
    "    layers.Dense(2, activation = 'sigmoid')\n",
    "])\n",
    "\n",
    "cnn_model_z.compile(loss='binary_crossentropy', optimizer='adam', metrics=['accuracy'])"
   ]
  },
  {
   "cell_type": "code",
   "execution_count": null,
   "id": "8109538a",
   "metadata": {},
   "outputs": [],
   "source": [
    "z_train_data_reshaped = z_train_data[..., None]\n",
    "z_test_data_reshaped = z_test_data[..., None]"
   ]
  },
  {
   "cell_type": "code",
   "execution_count": null,
   "id": "d601ac67",
   "metadata": {},
   "outputs": [],
   "source": [
    "history_z = cnn_model_z.fit(z_train_data_reshaped, z_train_labels,\n",
    "                    validation_data = (z_test_data_reshaped, z_test_labels),\n",
    "                    epochs = 100,\n",
    "                    callbacks = [early_stopping],\n",
    "                    shuffle = True)"
   ]
  },
  {
   "cell_type": "code",
   "execution_count": null,
   "id": "aaf668ce",
   "metadata": {
    "scrolled": true
   },
   "outputs": [],
   "source": [
    "predicted_z = cnn_model_z.predict(z_test_data)\n",
    "predicted_z = [np.argmax(i) for i in predicted_z]\n",
    "actual_z = [np.argmax(i) for i in z_test_labels]\n",
    "\n",
    "cf_matrix = confusion_matrix(predicted_z, actual_z)\n",
    "\n",
    "ax = sn.heatmap(cf_matrix, annot=True, cmap='Blues', fmt='g')\n",
    "ax.set_title('Seaborn Confusion Matrix with labels\\n\\n')\n",
    "ax.set_xlabel('\\nPredicted Values')\n",
    "ax.set_ylabel('Actual Values')\n",
    "## Ticket labels - List must be in alphabetical order\n",
    "ax.xaxis.set_ticklabels(['ADL','Fall'])\n",
    "ax.yaxis.set_ticklabels(['ADL','Fall'])\n",
    "## Display the visualization of the Confusion Matrix.\n",
    "plt.show()"
   ]
  },
  {
   "cell_type": "code",
   "execution_count": null,
   "id": "78f36605",
   "metadata": {},
   "outputs": [],
   "source": [
    "# Getting maximum votes\n",
    "predicted_z = cnn_model_z.predict(z_test_data)\n",
    "predicted_z = [np.argmax(i) for i in predicted_z]\n",
    "actual_z = [np.argmax(i) for i in z_test_labels]\n",
    "\n",
    "cf_matrix = confusion_matrix(predicted_z, actual_z)\n",
    "\n",
    "ax = sn.heatmap(cf_matrix, annot=True, cmap='Blues', fmt='g')\n",
    "ax.set_title('Seaborn Confusion Matrix with labels\\n\\n')\n",
    "ax.set_xlabel('\\nPredicted Values')\n",
    "ax.set_ylabel('Actual Values')\n",
    "## Ticket labels - List must be in alphabetical order\n",
    "ax.xaxis.set_ticklabels(['ADL','Fall'])\n",
    "ax.yaxis.set_ticklabels(['ADL','Fall'])\n",
    "## Display the visualization of the Confusion Matrix.\n",
    "plt.show()"
   ]
  },
  {
   "cell_type": "code",
   "execution_count": null,
   "id": "db808bd6",
   "metadata": {},
   "outputs": [],
   "source": [
    "predicted = (np.array(predicted_x) + np.array(predicted_y) + np.array(predicted_z)) >= 2\n",
    "actual = [np.argmax(i) for i in x_test_labels]"
   ]
  },
  {
   "cell_type": "code",
   "execution_count": null,
   "id": "ef53d4fe",
   "metadata": {},
   "outputs": [],
   "source": [
    "# Getting maximum votes\n",
    "cf_matrix = confusion_matrix(predicted, actual)\n",
    "\n",
    "ax = sn.heatmap(cf_matrix, annot=True, cmap='Blues', fmt='g')\n",
    "ax.set_title('Seaborn Confusion Matrix with labels\\n\\n')\n",
    "ax.set_xlabel('\\nActual Values')\n",
    "ax.set_ylabel('Predicted Values')\n",
    "## Ticket labels - List must be in alphabetical order\n",
    "ax.xaxis.set_ticklabels(['ADL','Fall'])\n",
    "ax.yaxis.set_ticklabels(['ADL','Fall'])\n",
    "## Display the visualization of the Confusion Matrix.\n",
    "plt.show()"
   ]
  },
  {
   "cell_type": "code",
   "execution_count": null,
   "id": "73beef28",
   "metadata": {},
   "outputs": [],
   "source": [
    "count = 0\n",
    "for i in range(len(predicted)):\n",
    "    if predicted[i] == 1 and actual[i] == 0:\n",
    "        count += 1\n",
    "count"
   ]
  },
  {
   "cell_type": "code",
   "execution_count": null,
   "id": "b1e07e42",
   "metadata": {},
   "outputs": [],
   "source": [
    "# cnn_model_x.save(\"cnn_model_x_axis_UMAFall\")\n",
    "# cnn_model_y.save(\"cnn_model_y_axis_UMAFall\")\n",
    "# cnn_model_z.save(\"cnn_model_z_axis_UMAFall\")\n"
   ]
  },
  {
   "cell_type": "code",
   "execution_count": null,
   "id": "f7fe6da7",
   "metadata": {},
   "outputs": [],
   "source": []
  }
 ],
 "metadata": {
  "kernelspec": {
   "display_name": "Python 3 (ipykernel)",
   "language": "python",
   "name": "python3"
  },
  "language_info": {
   "codemirror_mode": {
    "name": "ipython",
    "version": 3
   },
   "file_extension": ".py",
   "mimetype": "text/x-python",
   "name": "python",
   "nbconvert_exporter": "python",
   "pygments_lexer": "ipython3",
   "version": "3.9.13"
  }
 },
 "nbformat": 4,
 "nbformat_minor": 5
}
