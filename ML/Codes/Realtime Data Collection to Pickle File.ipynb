{
 "cells": [
  {
   "cell_type": "code",
   "execution_count": 1,
   "metadata": {},
   "outputs": [],
   "source": [
    "import firebase_admin\n",
    "from firebase_admin import db\n",
    "from datetime import datetime\n",
    "import time\n",
    "import pickle\n",
    "import json\n",
    "from datetime import datetime\n",
    "import pandas as pd\n",
    "import numpy as np\n",
    "import matplotlib.pyplot as plt"
   ]
  },
  {
   "cell_type": "markdown",
   "metadata": {},
   "source": [
    "# Connection to Firebase"
   ]
  },
  {
   "cell_type": "code",
   "execution_count": 2,
   "metadata": {},
   "outputs": [],
   "source": [
    "cred_obj = firebase_admin.credentials.Certificate(\"Morphine2.json\")\n",
    "default_app = firebase_admin.initialize_app(cred_obj, {\n",
    "  'databaseURL':'https://morphine-64cdd-default-rtdb.asia-southeast1.firebasedatabase.app/'\n",
    "  })\n",
    "USERS_DATA = db.reference(\"/Users Data/Token UID:XvIeVwC7M0QN0qW15FNYO2e5BJ93/Split Circuit\")"
   ]
  },
  {
   "cell_type": "markdown",
   "metadata": {},
   "source": [
    "# Getting Data from Firebase"
   ]
  },
  {
   "cell_type": "code",
   "execution_count": 4,
   "metadata": {},
   "outputs": [
    {
     "data": {
      "text/plain": [
       "{'GPS': {'GPS Accounter': 4,\n",
       "  'GPS Datapoints': ['Latitude: 0(*10^-7) Longitude: 0(*10^-7) Altitude: 0(mm) Satellite-in-view: 0 timing for this set: 0.00 '],\n",
       "  'GPS LoopSpeedArr': [775],\n",
       "  'GPS UploadSpeedArr': [156]},\n",
       " 'GPS Button': 'ON',\n",
       " 'MPU6050': {'MPU6050 Accounter': 25,\n",
       "  'MPU6050 Datapoints': ['Set: 0 Ax: -6.60 Ay: -1.20 Az: 0.61 gx: -0.41 gy: -0.03 gz: 0.37 temp: 31.12 timing for this set: 3.00 Set: 1 Ax: -7.17 Ay: -1.70 Az: 0.75 gx: -0.32 gy: 0.03 gz: 0.43 temp: 31.07 timing for this set: 3.00 Set: 2 Ax: -7.62 Ay: -1.51 Az: 0.89 gx: -0.28 gy: 0.06 gz: 0.46 temp: 31.17 timing for this set: 3.00 Set: 3 Ax: -7.99 Ay: -1.74 Az: 1.06 gx: -0.24 gy: 0.08 gz: 0.47 temp: 31.07 timing for this set: 3.00 Set: 4 Ax: -8.06 Ay: -2.38 Az: 0.01 gx: -0.14 gy: 0.12 gz: 0.49 temp: 30.98 timing for this set: 3.00 Set: 5 Ax: -6.92 Ay: -2.88 Az: -1.81 gx: 0.07 gy: 0.42 gz: 0.50 temp: 30.98 timing for this set: 3.00 Set: 6 Ax: -8.08 Ay: -1.89 Az: -0.64 gx: 0.29 gy: 0.67 gz: 0.58 temp: 31.07 timing for this set: 3.00 Set: 7 Ax: -8.85 Ay: -1.51 Az: 0.02 gx: 0.36 gy: 0.76 gz: 0.66 temp: 31.02 timing for this set: 3.00 Set: 8 Ax: -9.76 Ay: -1.88 Az: 1.27 gx: 0.45 gy: 0.85 gz: 0.73 temp: 31.12 timing for this set: 3.00 Set: 9 Ax: -10.74 Ay: -2.04 Az: 2.12 gx: 0.47 gy: 0.81 gz: 0.75 temp: 31.02 timing for this set: 3.00 Set: 10 Ax: -11.22 Ay: -2.35 Az: 2.76 gx: 0.43 gy: 0.74 gz: 0.74 temp: 31.12 timing for this set: 3.00 Set: 11 Ax: -11.99 Ay: -2.70 Az: 3.96 gx: 0.39 gy: 0.59 gz: 0.70 temp: 31.02 timing for this set: 3.00 Set: 12 Ax: -11.97 Ay: -2.66 Az: 3.95 gx: 0.32 gy: 0.41 gz: 0.64 temp: 30.93 timing for this set: 3.00 Set: 13 Ax: -12.08 Ay: -3.03 Az: 4.13 gx: 0.25 gy: 0.23 gz: 0.60 temp: 31.02 timing for this set: 2.00 Set: 14 Ax: -11.67 Ay: -2.53 Az: 3.94 gx: 0.14 gy: 0.07 gz: 0.55 temp: 31.07 timing for this set: 2.00 Set: 15 Ax: -11.19 Ay: -2.41 Az: 3.40 gx: 0.03 gy: -0.05 gz: 0.54 temp: 31.07 timing for this set: 2.00 Set: 16 Ax: -10.79 Ay: -2.23 Az: 2.76 gx: -0.13 gy: -0.13 gz: 0.52 temp: 31.17 timing for this set: 2.00 Set: 17 Ax: -10.28 Ay: -2.41 Az: 2.31 gx: -0.28 gy: -0.16 gz: 0.50 temp: 31.07 timing for this set: 3.00 Set: 18 Ax: -9.90 Ay: -2.54 Az: 2.05 gx: -0.39 gy: -0.18 gz: 0.47 temp: 31.02 timing for this set: 3.00 Set: 19 Ax: -9.28 Ay: -2.52 Az: 1.55 gx: -0.54 gy: -0.18 gz: 0.43 temp: 31.12 timing for this set: 3.00 '],\n",
       "  'MPU6050 Fall': ['Fall detected'],\n",
       "  'MPU6050 LoopSpeedArr': [245],\n",
       "  'MPU6050 UploadSpeedArr': [183]}}"
      ]
     },
     "execution_count": 4,
     "metadata": {},
     "output_type": "execute_result"
    }
   ],
   "source": [
    "# test connection\n",
    "USERS_DATA.get()"
   ]
  },
  {
   "cell_type": "code",
   "execution_count": 10,
   "metadata": {},
   "outputs": [
    {
     "name": "stdout",
     "output_type": "stream",
     "text": [
      "Stop\n"
     ]
    }
   ],
   "source": [
    "data_list = []\n",
    "mpu6050_accounter = USERS_DATA.get()['MPU6050']['MPU6050 Accounter'] - 1\n",
    "while True:\n",
    "    try:\n",
    "        new_data = USERS_DATA.get()\n",
    "        curr_mpu6050_accounter = new_data['MPU6050']['MPU6050 Accounter']\n",
    "        if curr_mpu6050_accounter != mpu6050_accounter: # only append data when the accounter increment\n",
    "            data_list.append(new_data)\n",
    "            mpu6050_accounter = curr_mpu6050_accounter\n",
    "    except KeyboardInterrupt:\n",
    "        print(\"Stop\")\n",
    "        break"
   ]
  },
  {
   "cell_type": "code",
   "execution_count": 11,
   "metadata": {},
   "outputs": [
    {
     "data": {
      "text/plain": [
       "9245"
      ]
     },
     "execution_count": 11,
     "metadata": {},
     "output_type": "execute_result"
    }
   ],
   "source": [
    "len(data_list)"
   ]
  },
  {
   "cell_type": "code",
   "execution_count": 7,
   "metadata": {},
   "outputs": [
    {
     "data": {
      "text/plain": [
       "array(['Normal', 'Normal', 'Normal', 'Fall detected', 'Fall detected',\n",
       "       'Fall detected', 'Normal', 'Normal', 'Normal', 'Fall detected',\n",
       "       'Fall detected', 'Normal', 'Normal', 'Fall detected',\n",
       "       'Fall detected', 'Fall detected', 'Fall detected', 'Normal',\n",
       "       'Normal', 'Normal', 'Normal', 'Fall detected', 'Normal', 'Normal',\n",
       "       'Fall detected', 'Fall detected', 'Fall detected', 'Fall detected',\n",
       "       'Normal', 'Fall detected', 'Fall detected', 'Fall detected',\n",
       "       'Normal', 'Normal', 'Fall detected', 'Fall detected',\n",
       "       'Fall detected', 'Normal', 'Normal', 'Normal', 'Normal', 'Normal',\n",
       "       'Normal', 'Normal', 'Normal', 'Fall detected', 'Fall detected',\n",
       "       'Fall detected', 'Normal', 'Normal', 'Normal', 'Normal', 'Normal',\n",
       "       'Normal', 'Normal', 'Normal', 'Normal', 'Fall detected',\n",
       "       'Fall detected', 'Normal', 'Normal', 'Fall detected', 'Normal',\n",
       "       'Normal', 'Fall detected', 'Fall detected', 'Normal', 'Normal',\n",
       "       'Fall detected', 'Fall detected', 'Normal', 'Fall detected',\n",
       "       'Fall detected', 'Normal', 'Fall detected', 'Normal', 'Normal',\n",
       "       'Fall detected', 'Normal', 'Normal', 'Fall detected', 'Normal',\n",
       "       'Fall detected', 'Normal', 'Normal', 'Fall detected', 'Normal',\n",
       "       'Normal', 'Fall detected', 'Fall detected', 'Normal',\n",
       "       'Fall detected', 'Fall detected', 'Fall detected', 'Normal',\n",
       "       'Fall detected', 'Fall detected', 'Normal', 'Fall detected',\n",
       "       'Fall detected', 'Fall detected', 'Normal', 'Normal', 'Normal',\n",
       "       'Fall detected', 'Normal', 'Normal', 'Fall detected',\n",
       "       'Fall detected', 'Normal', 'Fall detected', 'Fall detected',\n",
       "       'Fall detected', 'Fall detected', 'Fall detected', 'Normal',\n",
       "       'Normal', 'Fall detected', 'Fall detected', 'Fall detected',\n",
       "       'Normal', 'Fall detected', 'Fall detected', 'Normal', 'Normal',\n",
       "       'Fall detected', 'Normal', 'Normal', 'Normal', 'Fall detected',\n",
       "       'Fall detected', 'Fall detected', 'Normal', 'Normal',\n",
       "       'Fall detected', 'Fall detected', 'Fall detected', 'Normal',\n",
       "       'Normal', 'Fall detected'], dtype='<U13')"
      ]
     },
     "execution_count": 7,
     "metadata": {},
     "output_type": "execute_result"
    }
   ],
   "source": [
    "# checking the fall status for all the data collected\n",
    "np.array([data['MPU6050']['MPU6050 Fall'][0] for data in data_list])"
   ]
  },
  {
   "cell_type": "markdown",
   "metadata": {},
   "source": [
    "# Save to Pickle"
   ]
  },
  {
   "cell_type": "code",
   "execution_count": null,
   "metadata": {},
   "outputs": [],
   "source": [
    "pwd"
   ]
  },
  {
   "cell_type": "code",
   "execution_count": 12,
   "metadata": {},
   "outputs": [],
   "source": [
    "def save_as_pickle(data_list):\n",
    "    curr_time = datetime.now()\n",
    "    curr_time = str(curr_time).split(\".\")[0].replace(\" \", \"_\").replace(\":\", \"-\")\n",
    "    filename = \"../Datasets/raw/data_\" + curr_time + \".pkl\"\n",
    "    with open(filename, 'wb') as f:\n",
    "        pickle.dump(data_list, f)\n",
    "    print(\"Saved data successfully as pickle file\")"
   ]
  },
  {
   "cell_type": "code",
   "execution_count": 13,
   "metadata": {},
   "outputs": [
    {
     "name": "stdout",
     "output_type": "stream",
     "text": [
      "Saved data successfully as pickle file\n"
     ]
    }
   ],
   "source": [
    "save_as_pickle(data_list)"
   ]
  },
  {
   "cell_type": "code",
   "execution_count": null,
   "metadata": {},
   "outputs": [],
   "source": []
  }
 ],
 "metadata": {
  "kernelspec": {
   "display_name": "Python 3 (ipykernel)",
   "language": "python",
   "name": "python3"
  },
  "language_info": {
   "codemirror_mode": {
    "name": "ipython",
    "version": 3
   },
   "file_extension": ".py",
   "mimetype": "text/x-python",
   "name": "python",
   "nbconvert_exporter": "python",
   "pygments_lexer": "ipython3",
   "version": "3.9.13"
  }
 },
 "nbformat": 4,
 "nbformat_minor": 2
}
