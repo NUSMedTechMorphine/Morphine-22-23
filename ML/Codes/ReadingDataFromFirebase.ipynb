{
 "cells": [
  {
   "cell_type": "markdown",
   "id": "9dd8089e",
   "metadata": {},
   "source": [
    "Firebase URL: https://console.firebase.google.com/u/0/project/morphine-64cdd/database/morphine-64cdd-default-rtdb/data/~2F "
   ]
  },
  {
   "cell_type": "code",
   "execution_count": null,
   "id": "f0d117db",
   "metadata": {},
   "outputs": [],
   "source": [
    "import firebase_admin\n",
    "from firebase_admin import db\n",
    "from datetime import datetime\n",
    "import time\n",
    "import json\n",
    "import pandas as pd\n",
    "import numpy as np\n",
    "import matplotlib.pyplot as plt"
   ]
  },
  {
   "cell_type": "markdown",
   "id": "4d706b53",
   "metadata": {},
   "source": [
    "## Connect to Firebase"
   ]
  },
  {
   "cell_type": "code",
   "execution_count": null,
   "id": "3448cb60",
   "metadata": {},
   "outputs": [],
   "source": [
    "cred_obj = firebase_admin.credentials.Certificate(\"Morphine2.json\")\n",
    "default_app = firebase_admin.initialize_app(cred_obj, {\n",
    "  'databaseURL':'https://morphine-64cdd-default-rtdb.asia-southeast1.firebasedatabase.app/'\n",
    "  })"
   ]
  },
  {
   "cell_type": "code",
   "execution_count": null,
   "id": "ba812d48",
   "metadata": {},
   "outputs": [],
   "source": [
    "ref_test1 = db.reference(\"/Test 1\")\n",
    "ref_test2 = db.reference(\"/Test 2\")\n",
    "ref_users_data = db.reference(\"/Users Data/Token UID:XvIeVwC7M0QN0qW15FNYO2e5BJ93\")"
   ]
  },
  {
   "cell_type": "markdown",
   "id": "b03908de",
   "metadata": {},
   "source": [
    "## Data Processing"
   ]
  },
  {
   "cell_type": "code",
   "execution_count": null,
   "id": "a3eb24d3",
   "metadata": {},
   "outputs": [],
   "source": [
    "# Keywords to extract for each set\n",
    "keywords = ['Ax: ', 'Ay: ', 'Az: ', 'gx: ', 'gy: ', 'gz: ', 'temp: ', 'timing for this set: ']\n",
    "\n",
    "# length of each keyword\n",
    "length_keywords = [len(x) for x in keywords]"
   ]
  },
  {
   "cell_type": "code",
   "execution_count": null,
   "id": "df9c2853",
   "metadata": {},
   "outputs": [],
   "source": [
    "# create dataframe to store all the firebase readings\n",
    "test1_df = pd.DataFrame(columns = ['accounter', 'LoopSpeedArr', 'UploadSpeedArr', 'aXarr', 'aYarr', 'aZarr', 'gXarr', 'gYarr', 'gZarr', 'tempArr', 'timeDifference'])"
   ]
  },
  {
   "cell_type": "code",
   "execution_count": null,
   "id": "845c2d27",
   "metadata": {},
   "outputs": [],
   "source": [
    "test2_df = pd.DataFrame(columns = ['accounter', 'LoopSpeedArr', 'UploadSpeedArr', 'index', 'Ax', 'Ay', 'Az', 'gx', 'gy', 'gz', 'temp', 'timingForThisSet', 'timeDifference'])"
   ]
  },
  {
   "cell_type": "code",
   "execution_count": null,
   "id": "bc6bcacb",
   "metadata": {},
   "outputs": [],
   "source": [
    "users_data_df = pd.DataFrame(columns = ['accounter', 'LoopSpeedArr', 'UploadSpeedArr', 'gps_info', 'set_index', 'Ax', 'Ay', 'Az', 'gx', 'gy', 'gz', 'temp', 'timingForThisSet', 'timeDifference'])"
   ]
  },
  {
   "cell_type": "code",
   "execution_count": null,
   "id": "83471251",
   "metadata": {},
   "outputs": [],
   "source": [
    "# function to extract every variable for one set\n",
    "def process_set(output_set):\n",
    "    indexes = [output_set.find(keyword) for keyword in keywords]\n",
    "    df_row = []\n",
    "    curr_data_index = int(output_set[:indexes[0]].strip())\n",
    "    df_row.append(curr_data_index) # append in the index of the new input\n",
    "    for i, index in enumerate(indexes):\n",
    "        if i == len(indexes) - 1:\n",
    "            x = output_set[index+length_keywords[i]:].strip() \n",
    "            df_row.append(x)\n",
    "        else:\n",
    "            x = output_set[index+length_keywords[i]: indexes[i+1]].strip()\n",
    "            df_row.append(x)\n",
    "    return df_row\n",
    "\n",
    "# function to extract every variables for every incoming data (with 20 sets)\n",
    "def test1_process_esp32_output(esp32_output, timeDifference):\n",
    "    global test1_df\n",
    "    accounter = esp32_output['Accounter']\n",
    "    LoopSpeedArr = esp32_output['LoopSpeedArr'][0]\n",
    "    UploadSpeedArr = esp32_output['UploadSpeedArr'][0]\n",
    "    aXarr = esp32_output['aXarr'][0]\n",
    "    aYarr = esp32_output['aYArr'][0]\n",
    "    aZarr = esp32_output['aZArr'][0]\n",
    "    gXarr = esp32_output['gXArr'][0]\n",
    "    gYarr = esp32_output['gYArr'][0]\n",
    "    gZarr = esp32_output['gZArr'][0]\n",
    "    tempArr = esp32_output['tempArr'][0]\n",
    "    \n",
    "    data = [accounter, LoopSpeedArr, UploadSpeedArr, aXarr, aYarr, aZarr, gXarr, gYarr, gZarr, tempArr, timeDifference]\n",
    "    new_df = pd.DataFrame([data], columns = ['accounter', 'LoopSpeedArr', 'UploadSpeedArr', 'aXarr', 'aYarr', 'aZarr', 'gXarr', 'gYarr', 'gZarr', 'tempArr', 'timeDifference'])\n",
    "    test1_df = pd.concat([test1_df, new_df], ignore_index = True)\n",
    "    \n",
    "def test2_process_esp32_output(esp32_output, timeDifference):\n",
    "    global test2_df\n",
    "    accounter = esp32_output['Accounter']\n",
    "    LoopSpeedArr = esp32_output['LoopSpeedArr'][0]\n",
    "    UploadSpeedArr = esp32_output['UploadSpeedArr'][0]\n",
    "    datapoints = esp32_output['datapoints'][0]\n",
    "    output_sets = datapoints.split('Set: ')[1:]\n",
    "    for output_set in output_sets:\n",
    "        datapoint = process_set(output_set)\n",
    "        data = [accounter, LoopSpeedArr,UploadSpeedArr]\n",
    "        data.extend(datapoint)\n",
    "        data.append(timeDifference)\n",
    "        new_df = pd.DataFrame([data], \n",
    "                              columns = ['accounter', 'LoopSpeedArr', 'UploadSpeedArr', 'index', 'Ax', 'Ay', 'Az', 'gx', 'gy', 'gz', 'temp', 'timingForThisSet', 'timeDifference'])\n",
    "        test2_df = pd.concat([test2_df, new_df], ignore_index = True)\n",
    "    \n",
    "def users_data_process_esp32_output(esp32_output, timeDifference):\n",
    "    global users_data_df\n",
    "    accounter = esp32_output['Accounter']\n",
    "    LoopSpeedArr = esp32_output['LoopSpeedArr'][0]\n",
    "    UploadSpeedArr = esp32_output['UploadSpeedArr'][0]\n",
    "    gps_info = esp32_output['GPS'] # not sure whether to add this\n",
    "    datapoints = esp32_output['Datapoints'][0]\n",
    "    output_sets = datapoints.split('Set: ')[1:]\n",
    "    for output_set in output_sets:\n",
    "        data = [accounter, LoopSpeedArr,UploadSpeedArr, gps_info]\n",
    "        datapoint = process_set(output_set)\n",
    "        data.extend(datapoint)\n",
    "        data.append(timeDifference)\n",
    "        new_df = pd.DataFrame([data], \n",
    "                              columns = ['accounter', 'LoopSpeedArr', 'UploadSpeedArr', 'gps_info', 'set_index', 'Ax', 'Ay', 'Az', 'gx', 'gy', 'gz', 'temp', 'timingForThisSet', 'timeDifference'])\n",
    "        users_data_df = pd.concat([users_data_df, new_df], ignore_index = True)"
   ]
  },
  {
   "cell_type": "markdown",
   "id": "a82019f7",
   "metadata": {},
   "source": [
    "## Reading in Data from Firebase"
   ]
  },
  {
   "cell_type": "code",
   "execution_count": null,
   "id": "c36a9842",
   "metadata": {},
   "outputs": [],
   "source": [
    "# Test 1\n",
    "curr_accounter = ref_test1.get()['Accounter']\n",
    "curr_time = time.time()\n",
    "test_1_summary_stats = []\n",
    "while True:\n",
    "    new_accounter = ref_test1.get()['Accounter']\n",
    "    # print(new_accounter, curr_accounter)\n",
    "    if new_accounter != curr_accounter:\n",
    "        end_time = time.time()\n",
    "        test1_process_esp32_output(ref_test1.get(), end_time - curr_time)\n",
    "        test_1_summary_stats.append(end_time - curr_time)\n",
    "        print(f\"curr_accounter: {curr_accounter}, new_accounter: {new_accounter}, time taken: {end_time - curr_time}\")\n",
    "        curr_accounter = new_accounter\n",
    "        curr_time = end_time"
   ]
  },
  {
   "cell_type": "code",
   "execution_count": null,
   "id": "015243c5",
   "metadata": {},
   "outputs": [],
   "source": [
    "# Test 2\n",
    "curr_accounter = ref_test2.get()['Accounter']\n",
    "curr_time = time.time()\n",
    "test_2_summary_stats = []\n",
    "while True:\n",
    "    new_accounter = ref_test2.get()['Accounter']\n",
    "    if new_accounter != curr_accounter:\n",
    "        end_time = time.time()\n",
    "        test2_process_esp32_output(ref_test2.get(), end_time - curr_time)\n",
    "        test_2_summary_stats.append(end_time - curr_time)\n",
    "        print(f\"curr_accounter: {curr_accounter}, new_accounter: {new_accounter}, time taken: {end_time - curr_time}\")\n",
    "        curr_accounter = new_accounter\n",
    "        curr_time = end_time"
   ]
  },
  {
   "cell_type": "code",
   "execution_count": null,
   "id": "0adae791",
   "metadata": {},
   "outputs": [],
   "source": [
    "# Users Data\n",
    "curr_accounter = ref_users_data.get()['Accounter']\n",
    "curr_time = time.time()\n",
    "users_data_summary_stats = []\n",
    "while True:\n",
    "    new_accounter = ref_users_data.get()['Accounter']\n",
    "    if new_accounter != curr_accounter:\n",
    "        print('Reading new input...')\n",
    "        end_time = time.time()\n",
    "        users_data_process_esp32_output(ref_users_data.get(), end_time - curr_time)\n",
    "        users_data_summary_stats.append(end_time - curr_time)\n",
    "        print(f\"curr_accounter: {curr_accounter}, new_accounter: {new_accounter}, time taken: {end_time - curr_time}\")\n",
    "        curr_accounter = new_accounter\n",
    "        curr_time = end_time"
   ]
  },
  {
   "cell_type": "markdown",
   "id": "d1a88806",
   "metadata": {},
   "source": [
    "## Analysis"
   ]
  },
  {
   "cell_type": "code",
   "execution_count": null,
   "id": "af784527",
   "metadata": {},
   "outputs": [],
   "source": [
    "test_1_loop_speed = np.array(test1_df['LoopSpeedArr'])\n",
    "test_1_x = np.arange(0, len(test_1_loop_speed))\n",
    "plt.plot(test_1_x, test_1_loop_speed, color =\"red\")\n",
    "plt.xlabel(\"Accounter\")\n",
    "plt.ylabel(\"Loop Speed\")\n",
    "plt.title(\"Test 1 Loop Speed\")\n",
    "plt.show()"
   ]
  },
  {
   "cell_type": "code",
   "execution_count": null,
   "id": "552f9a27",
   "metadata": {},
   "outputs": [],
   "source": [
    "test_1_upload_speed = np.array(test1_df['UploadSpeedArr'])\n",
    "test_1_x = np.arange(0, len(test_1_upload_speed))\n",
    "plt.plot(test_1_x, test_1_upload_speed, color =\"blue\")\n",
    "plt.xlabel(\"Accounter\")\n",
    "plt.ylabel(\"Upload Speed\")\n",
    "plt.title(\"Test 1 Upload Speed\")\n",
    "plt.show()"
   ]
  },
  {
   "cell_type": "code",
   "execution_count": null,
   "id": "13beef4c",
   "metadata": {},
   "outputs": [],
   "source": [
    "test_2_loop_speed = np.array(test2_df['LoopSpeedArr'])\n",
    "test_2_x = np.arange(0, len(test_2_loop_speed))\n",
    "plt.plot(test_2_x, test_2_loop_speed, color =\"red\")\n",
    "plt.xlabel(\"Accounter\")\n",
    "plt.ylabel(\"Loop Speed\")\n",
    "plt.title(\"Test 2 Loop Speed\")\n",
    "plt.show()"
   ]
  },
  {
   "cell_type": "code",
   "execution_count": null,
   "id": "7b89c90a",
   "metadata": {},
   "outputs": [],
   "source": [
    "test_2_upload_speed = np.array(test2_df['UploadSpeedArr'])\n",
    "test_2_x = np.arange(0, len(test_2_upload_speed))\n",
    "plt.plot(test_2_x, test_2_upload_speed, color =\"blue\")\n",
    "plt.xlabel(\"Accounter\")\n",
    "plt.ylabel(\"Upload Speed\")\n",
    "plt.title(\"Test 2 Upload Speed\")\n",
    "plt.show()"
   ]
  },
  {
   "cell_type": "code",
   "execution_count": null,
   "id": "2f8a1f9d",
   "metadata": {},
   "outputs": [],
   "source": [
    "users_data_loop_speed = np.array(users_data_df['LoopSpeedArr'])\n",
    "users_data_x = np.arange(0, len(users_data_loop_speed))\n",
    "plt.plot(users_data_x, users_data_loop_speed, color =\"red\")\n",
    "plt.xlabel(\"Accounter\")\n",
    "plt.ylabel(\"Loop Speed\")\n",
    "plt.title(\"Users Data Loop Speed\")\n",
    "plt.show()"
   ]
  },
  {
   "cell_type": "code",
   "execution_count": null,
   "id": "5cf9c1e3",
   "metadata": {},
   "outputs": [],
   "source": [
    "users_data_upload_speed = np.array(users_data_df['UploadSpeedArr'])\n",
    "users_data_x = np.arange(0, len(users_data_upload_speed))\n",
    "plt.plot(users_data_x, users_data_upload_speed, color =\"blue\")\n",
    "plt.xlabel(\"Accounter\")\n",
    "plt.ylabel(\"Upload Speed\")\n",
    "plt.title(\"Users Data Upload Speed\")\n",
    "plt.show()"
   ]
  },
  {
   "cell_type": "code",
   "execution_count": null,
   "id": "afb22a88",
   "metadata": {},
   "outputs": [],
   "source": [
    "np.savetxt(\"test_1_loop_speed.txt\", test_1_loop_speed)\n",
    "np.savetxt(\"test_1_upload_speed.txt\", test_1_upload_speed)"
   ]
  },
  {
   "cell_type": "code",
   "execution_count": null,
   "id": "8e0d79e7",
   "metadata": {},
   "outputs": [],
   "source": [
    "np.savetxt(\"test_2_loop_speed.txt\", test_2_loop_speed)\n",
    "np.savetxt(\"test_2_upload_speed.txt\", test_2_upload_speed)"
   ]
  },
  {
   "cell_type": "code",
   "execution_count": null,
   "id": "cfcd100f",
   "metadata": {},
   "outputs": [],
   "source": [
    "np.savetxt(\"users_data_loop_speed.txt\", test_1_loop_speed)\n",
    "np.savetxt(\"users_data_upload_speed.txt\", test_1_upload_speed)"
   ]
  }
 ],
 "metadata": {
  "kernelspec": {
   "display_name": "Python 3 (ipykernel)",
   "language": "python",
   "name": "python3"
  },
  "language_info": {
   "codemirror_mode": {
    "name": "ipython",
    "version": 3
   },
   "file_extension": ".py",
   "mimetype": "text/x-python",
   "name": "python",
   "nbconvert_exporter": "python",
   "pygments_lexer": "ipython3",
   "version": "3.9.16"
  }
 },
 "nbformat": 4,
 "nbformat_minor": 5
}
