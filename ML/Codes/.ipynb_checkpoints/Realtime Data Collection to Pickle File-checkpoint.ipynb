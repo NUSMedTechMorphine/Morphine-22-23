{
 "cells": [
  {
   "cell_type": "code",
   "execution_count": 1,
   "metadata": {},
   "outputs": [],
   "source": [
    "import firebase_admin\n",
    "from firebase_admin import db\n",
    "from datetime import datetime\n",
    "import time\n",
    "import pickle\n",
    "import json\n",
    "from datetime import datetime\n",
    "import pandas as pd\n",
    "import numpy as np\n",
    "import matplotlib.pyplot as plt"
   ]
  },
  {
   "cell_type": "markdown",
   "metadata": {},
   "source": [
    "# Connection to Firebase"
   ]
  },
  {
   "cell_type": "code",
   "execution_count": 2,
   "metadata": {},
   "outputs": [],
   "source": [
    "cred_obj = firebase_admin.credentials.Certificate(\"Morphine2.json\")\n",
    "default_app = firebase_admin.initialize_app(cred_obj, {\n",
    "  'databaseURL':'https://morphine-64cdd-default-rtdb.asia-southeast1.firebasedatabase.app/'\n",
    "  })\n",
    "USERS_DATA = db.reference(\"/Users Data/Token UID:XvIeVwC7M0QN0qW15FNYO2e5BJ93/Split Circuit\")"
   ]
  },
  {
   "cell_type": "markdown",
   "metadata": {},
   "source": [
    "# Getting Data from Firebase"
   ]
  },
  {
   "cell_type": "code",
   "execution_count": 3,
   "metadata": {},
   "outputs": [
    {
     "data": {
      "text/plain": [
       "{'GPS': {'GPS Accounter': 4,\n",
       "  'GPS Datapoints': ['Latitude: 0(*10^-7) Longitude: 0(*10^-7) Altitude: 0(mm) Satellite-in-view: 0 timing for this set: 0.00 '],\n",
       "  'GPS LoopSpeedArr': [775],\n",
       "  'GPS UploadSpeedArr': [156]},\n",
       " 'GPS Button': 'ON',\n",
       " 'MPU6050': {'MPU6050 Accounter': 11,\n",
       "  'MPU6050 Datapoints': ['Set: 0 Ax: -5.51 Ay: -2.50 Az: 0.77 gx: -4.37 gy: -0.31 gz: -0.77 temp: 30.41 timing for this set: 4.00 Set: 1 Ax: -5.58 Ay: -2.53 Az: 1.74 gx: -3.98 gy: -0.01 gz: -0.89 temp: 30.46 timing for this set: 3.00 Set: 2 Ax: -5.29 Ay: -2.38 Az: 1.89 gx: -3.35 gy: 0.28 gz: -0.99 temp: 30.46 timing for this set: 3.00 Set: 3 Ax: -5.19 Ay: -2.38 Az: 2.43 gx: -2.66 gy: 0.55 gz: -1.10 temp: 30.51 timing for this set: 3.00 Set: 4 Ax: -5.26 Ay: -2.53 Az: 3.62 gx: -1.92 gy: 0.76 gz: -1.23 temp: 30.51 timing for this set: 3.00 Set: 5 Ax: -5.17 Ay: -2.25 Az: 3.24 gx: -1.13 gy: 1.00 gz: -1.41 temp: 30.51 timing for this set: 2.00 Set: 6 Ax: -5.63 Ay: -1.53 Az: 4.71 gx: -0.36 gy: 1.16 gz: -1.48 temp: 30.51 timing for this set: 2.00 Set: 7 Ax: -5.94 Ay: -0.62 Az: 4.98 gx: 0.39 gy: 1.34 gz: -1.49 temp: 30.60 timing for this set: 2.00 Set: 8 Ax: -6.53 Ay: 0.08 Az: 6.30 gx: 1.10 gy: 1.43 gz: -1.46 temp: 30.51 timing for this set: 3.00 Set: 9 Ax: -6.85 Ay: 0.79 Az: 6.48 gx: 1.76 gy: 1.52 gz: -1.37 temp: 30.41 timing for this set: 3.00 Set: 10 Ax: -7.43 Ay: 1.27 Az: 7.27 gx: 2.29 gy: 1.56 gz: -1.27 temp: 30.46 timing for this set: 3.00 Set: 11 Ax: -7.61 Ay: 2.10 Az: 7.43 gx: 2.74 gy: 1.59 gz: -1.15 temp: 30.55 timing for this set: 3.00 Set: 12 Ax: -7.69 Ay: 2.71 Az: 8.23 gx: 3.08 gy: 1.58 gz: -1.00 temp: 30.46 timing for this set: 3.00 Set: 13 Ax: -7.65 Ay: 2.97 Az: 8.31 gx: 3.28 gy: 1.55 gz: -0.86 temp: 30.51 timing for this set: 3.00 Set: 14 Ax: -7.42 Ay: 3.32 Az: 8.48 gx: 3.38 gy: 1.50 gz: -0.70 temp: 30.51 timing for this set: 3.00 Set: 15 Ax: -7.07 Ay: 3.54 Az: 8.73 gx: 3.37 gy: 1.42 gz: -0.55 temp: 30.51 timing for this set: 3.00 Set: 16 Ax: -6.44 Ay: 3.37 Az: 8.88 gx: 3.27 gy: 1.36 gz: -0.43 temp: 30.41 timing for this set: 3.00 Set: 17 Ax: -6.18 Ay: 3.30 Az: 9.28 gx: 3.13 gy: 1.26 gz: -0.36 temp: 30.51 timing for this set: 3.00 Set: 18 Ax: -5.62 Ay: 3.37 Az: 9.16 gx: 2.92 gy: 1.19 gz: -0.31 temp: 30.51 timing for this set: 3.00 Set: 19 Ax: -5.24 Ay: 3.42 Az: 9.57 gx: 2.69 gy: 1.09 gz: -0.28 temp: 30.51 timing for this set: 3.00 '],\n",
       "  'MPU6050 Fall': ['Fall detected'],\n",
       "  'MPU6050 LoopSpeedArr': [338],\n",
       "  'MPU6050 UploadSpeedArr': [275]}}"
      ]
     },
     "execution_count": 3,
     "metadata": {},
     "output_type": "execute_result"
    }
   ],
   "source": [
    "# test connection\n",
    "USERS_DATA.get()"
   ]
  },
  {
   "cell_type": "code",
   "execution_count": null,
   "metadata": {},
   "outputs": [],
   "source": [
    "data_list = []\n",
    "mpu6050_accounter = USERS_DATA.get()['MPU6050']['MPU6050 Accounter'] - 1\n",
    "while True:\n",
    "    try:\n",
    "        new_data = USERS_DATA.get()\n",
    "        curr_mpu6050_accounter = new_data['MPU6050']['MPU6050 Accounter']\n",
    "        if curr_mpu6050_accounter != mpu6050_accounter: # only append data when the accounter increment\n",
    "            data_list.append(new_data)\n",
    "            mpu6050_accounter = curr_mpu6050_accounter\n",
    "    except KeyboardInterrupt:\n",
    "        print(\"Stop\")\n",
    "        break"
   ]
  },
  {
   "cell_type": "code",
   "execution_count": null,
   "metadata": {},
   "outputs": [],
   "source": [
    "len(data_list)"
   ]
  },
  {
   "cell_type": "code",
   "execution_count": null,
   "metadata": {},
   "outputs": [],
   "source": [
    "# checking the fall status for all the data collected\n",
    "np.array([data['MPU6050']['MPU6050 Fall'][0] for data in data_list])"
   ]
  },
  {
   "cell_type": "markdown",
   "metadata": {},
   "source": [
    "# Save to Pickle"
   ]
  },
  {
   "cell_type": "code",
   "execution_count": null,
   "metadata": {},
   "outputs": [],
   "source": [
    "pwd"
   ]
  },
  {
   "cell_type": "code",
   "execution_count": null,
   "metadata": {},
   "outputs": [],
   "source": [
    "def save_as_pickle(data_list):\n",
    "    curr_time = datetime.now()\n",
    "    curr_time = str(curr_time).split(\".\")[0].replace(\" \", \"_\").replace(\":\", \"-\")\n",
    "    filename = \"../Datasets/raw/data_\" + curr_time + \".pkl\"\n",
    "    with open(filename, 'wb') as f:\n",
    "        pickle.dump(data_list, f)\n",
    "    print(\"Saved data successfully as pickle file\")"
   ]
  },
  {
   "cell_type": "code",
   "execution_count": null,
   "metadata": {},
   "outputs": [],
   "source": [
    "save_as_pickle(data_list)"
   ]
  },
  {
   "cell_type": "code",
   "execution_count": null,
   "metadata": {},
   "outputs": [],
   "source": []
  }
 ],
 "metadata": {
  "kernelspec": {
   "display_name": "Python 3 (ipykernel)",
   "language": "python",
   "name": "python3"
  },
  "language_info": {
   "codemirror_mode": {
    "name": "ipython",
    "version": 3
   },
   "file_extension": ".py",
   "mimetype": "text/x-python",
   "name": "python",
   "nbconvert_exporter": "python",
   "pygments_lexer": "ipython3",
   "version": "3.9.13"
  }
 },
 "nbformat": 4,
 "nbformat_minor": 2
}
