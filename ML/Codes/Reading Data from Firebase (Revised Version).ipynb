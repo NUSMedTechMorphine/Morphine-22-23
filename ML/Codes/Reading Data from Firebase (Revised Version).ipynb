{
 "cells": [
  {
   "cell_type": "markdown",
   "id": "a01932a4",
   "metadata": {},
   "source": [
    "Firebase URL: https://console.firebase.google.com/u/0/project/morphine-64cdd/database/morphine-64cdd-default-rtdb/data/~2F "
   ]
  },
  {
   "cell_type": "code",
   "execution_count": null,
   "id": "74ee3981",
   "metadata": {},
   "outputs": [],
   "source": [
    "import firebase_admin\n",
    "from firebase_admin import db\n",
    "from datetime import datetime\n",
    "import time\n",
    "import json\n",
    "import pandas as pd\n",
    "import numpy as np\n",
    "import matplotlib.pyplot as plt"
   ]
  },
  {
   "cell_type": "markdown",
   "id": "0a84f8ef",
   "metadata": {},
   "source": [
    "## Connect to Firebase"
   ]
  },
  {
   "cell_type": "code",
   "execution_count": null,
   "id": "b1a53c73",
   "metadata": {},
   "outputs": [],
   "source": [
    "cred_obj = firebase_admin.credentials.Certificate(\"Morphine2.json\")\n",
    "default_app = firebase_admin.initialize_app(cred_obj, {\n",
    "  'databaseURL':'https://morphine-64cdd-default-rtdb.asia-southeast1.firebasedatabase.app/'\n",
    "  })\n",
    "users_data = db.reference(\"/Users Data/Token UID:XvIeVwC7M0QN0qW15FNYO2e5BJ93\")"
   ]
  },
  {
   "cell_type": "code",
   "execution_count": null,
   "id": "c0329364",
   "metadata": {},
   "outputs": [],
   "source": [
    "data = users_data.get()"
   ]
  },
  {
   "cell_type": "markdown",
   "id": "fceda2af",
   "metadata": {},
   "source": [
    "## Process ESP32 Output"
   ]
  },
  {
   "cell_type": "code",
   "execution_count": null,
   "id": "bb7b53d1",
   "metadata": {},
   "outputs": [],
   "source": [
    "# dataframe to store esp32 data points\n",
    "users_data_df = pd.DataFrame(\n",
    "    columns = ['accounter', 'LoopSpeedArr', 'UploadSpeedArr', 'set_index', 'Ax', 'Ay', 'Az', 'gx', 'gy', 'gz',\n",
    "               'temp', 'timingForThisSet', 'timeDifference'])"
   ]
  },
  {
   "cell_type": "code",
   "execution_count": null,
   "id": "490a60f4",
   "metadata": {},
   "outputs": [],
   "source": [
    "# keywords to extract for each set\n",
    "keywords = ['Ax: ', 'Ay: ', 'Az: ', 'gx: ', 'gy: ', 'gz: ', 'temp: ', 'timing for this set: ']\n",
    "\n",
    "# length of each keyword\n",
    "length_keywords = [len(x) for x in keywords]\n",
    "#print(length_keywords)"
   ]
  },
  {
   "cell_type": "code",
   "execution_count": null,
   "id": "d7c0cd0b",
   "metadata": {},
   "outputs": [],
   "source": [
    "# function to process one datapoint\n",
    "def process_one_set_of_datapoint(output_set):\n",
    "    indexes = [output_set.find(keyword) for keyword in keywords]\n",
    "    df_row = []\n",
    "    curr_data_index = int(output_set[:indexes[0]].strip())\n",
    "    df_row.append(curr_data_index) # append in the index of the new input\n",
    "    for i, index in enumerate(indexes):\n",
    "        if i == len(indexes) - 1:\n",
    "            x = float(output_set[index+length_keywords[i]:].strip())\n",
    "            df_row.append(x)\n",
    "        else:\n",
    "            x = float(output_set[index+length_keywords[i]: indexes[i+1]].strip())\n",
    "            df_row.append(x)\n",
    "    return df_row"
   ]
  },
  {
   "cell_type": "code",
   "execution_count": null,
   "id": "eb2a71c9",
   "metadata": {},
   "outputs": [],
   "source": [
    "# function to extract every variables for every data input (with 20 sets/datapoints) read in\n",
    "def user_data_process_esp32_output(esp32_output, timeDifference):\n",
    "    global users_data_df\n",
    "    accounter = esp32_output['Accounter']\n",
    "    LoopSpeedArr = esp32_output['LoopSpeedArr'][0]\n",
    "    UploadSpeedArr = esp32_output['UploadSpeedArr'][0]\n",
    "    #gps_info = esp32_output['GPS'] # removed, relocate under split circuit\n",
    "    datapoints = esp32_output['Datapoints'][0]\n",
    "    output_sets = datapoints.split('Set: ')[1:]\n",
    "    for output_set in output_sets:\n",
    "        data = [accounter, LoopSpeedArr,UploadSpeedArr]\n",
    "        datapoint = process_one_set_of_datapoint(output_set)\n",
    "        data.extend(datapoint)\n",
    "        data.append(timeDifference)\n",
    "        new_df = pd.DataFrame([data], \n",
    "                              columns = ['accounter', 'LoopSpeedArr', 'UploadSpeedArr', 'set_index', 'Ax', 'Ay', 'Az', 'gx', 'gy', 'gz', 'temp', 'timingForThisSet', 'timeDifference'])\n",
    "        users_data_df = pd.concat([users_data_df, new_df], ignore_index = True)"
   ]
  },
  {
   "cell_type": "markdown",
   "id": "6603817f",
   "metadata": {},
   "source": [
    "## Process Split Circuit Data"
   ]
  },
  {
   "cell_type": "markdown",
   "id": "b557cc35",
   "metadata": {},
   "source": [
    "### GPS Data"
   ]
  },
  {
   "cell_type": "code",
   "execution_count": null,
   "id": "1d80ff0a",
   "metadata": {},
   "outputs": [],
   "source": [
    "gps_keywords_list = ['Latitude: ', 'Longitude: ', 'Altitude: ', 'Satellite-in-view: ', 'timing for this set: ']\n",
    "gps_keywords_length = [len(keyword) for keyword in gps_keywords_list]\n",
    "#gps_keywords_length"
   ]
  },
  {
   "cell_type": "code",
   "execution_count": null,
   "id": "28662902",
   "metadata": {},
   "outputs": [],
   "source": [
    "# feed in gps_datapoints = gps_data['GPS Datapoints']\n",
    "def process_gps_datapoints(gps_datapoints):\n",
    "    gps_datapoints = gps_datapoints[0]\n",
    "    indices = [gps_datapoints.find(keyword) for keyword in gps_keywords_list]\n",
    "    # Latitude, Longtiude, Altitude, Satellite-in-view, timing for this set\n",
    "    gps_datapoints_list = []\n",
    "    for i, index in enumerate(indices):\n",
    "        if i == len(indices) - 1:\n",
    "            gps_datapoints_list.append(gps_datapoints[index + gps_keywords_length[i]:].strip())\n",
    "        else:\n",
    "            gps_datapoints_list.append(gps_datapoints[index + gps_keywords_length[i]:indices[i+1]].strip())\n",
    "    return gps_datapoints_list"
   ]
  },
  {
   "cell_type": "code",
   "execution_count": null,
   "id": "e4e9dffe",
   "metadata": {},
   "outputs": [],
   "source": [
    "# feed in data['Split Circuit']['GPS']\n",
    "def process_gps(gps):\n",
    "    processed_gps_data = []\n",
    "    gps_accounter = gps['GPS Accounter']\n",
    "    gps_datapoints = gps['GPS Datapoints']\n",
    "    gps_loopSpeedArr = gps['GPS LoopSpeedArr'][0]\n",
    "    gps_uploadSpeedArr = gps['GPS UploadSpeedArr'][0]\n",
    "    \n",
    "    processed_gps_datapoints = process_gps_datapoints(gps_datapoints)\n",
    "    \n",
    "    processed_gps_data.append(gps_accounter)\n",
    "    processed_gps_data.extend(processed_gps_datapoints)\n",
    "    processed_gps_data.extend([gps_loopSpeedArr, gps_uploadSpeedArr])\n",
    "    return processed_gps_data"
   ]
  },
  {
   "cell_type": "markdown",
   "id": "55a63692",
   "metadata": {},
   "source": [
    "### GPS Button\n",
    "split_circuit_data['GPS Button']"
   ]
  },
  {
   "cell_type": "markdown",
   "id": "ac680ce1",
   "metadata": {},
   "source": [
    "### MPU6050"
   ]
  },
  {
   "cell_type": "code",
   "execution_count": null,
   "id": "38f32483",
   "metadata": {},
   "outputs": [],
   "source": [
    "mpu6050_df = pd.DataFrame(columns = ['accounter', 'LoopSpeedArr', 'UploadSpeedArr', 'set_index', 'Ax', 'Ay', 'Az', 'gx', 'gy', 'gz', 'temp', 'timingForThisSet', 'timeDifference'])\n",
    "#display(mpu6050_df)"
   ]
  },
  {
   "cell_type": "code",
   "execution_count": null,
   "id": "84be3dbf",
   "metadata": {},
   "outputs": [],
   "source": [
    "# feed in mpu6050_output = split_circuit_data['MPU6050']\n",
    "def process_mpu6050(mpu6050, timeDifference):\n",
    "    global mpu6050_df\n",
    "    accounter = mpu6050['MPU6050 Accounter']\n",
    "    mpu6050_datapoints = mpu6050['MPU6050 Datapoints'][0]\n",
    "    mpu6050_loopSpeedArr = mpu6050['MPU6050 LoopSpeedArr'][0]\n",
    "    mpu6050_uploadSpeedArr = mpu6050['MPU6050 UploadSpeedArr'][0]\n",
    "    mpu6050_output_sets = mpu6050_datapoints.split('Set: ')[1:]\n",
    "    \n",
    "    for output in mpu6050_output_sets:\n",
    "        data = [accounter, mpu6050_loopSpeedArr,mpu6050_uploadSpeedArr]\n",
    "        datapoint = process_one_set_of_datapoint(output)\n",
    "        data.extend(datapoint)\n",
    "        data.append(timeDifference)\n",
    "        new_df = pd.DataFrame([data], \n",
    "                              columns = ['accounter', 'LoopSpeedArr', 'UploadSpeedArr', 'set_index', 'Ax', 'Ay', 'Az', 'gx', 'gy', 'gz', 'temp', 'timingForThisSet', 'timeDifference'])\n",
    "        mpu6050_df = pd.concat([mpu6050_df, new_df], ignore_index = True)"
   ]
  },
  {
   "cell_type": "code",
   "execution_count": null,
   "id": "2e6737af",
   "metadata": {},
   "outputs": [],
   "source": [
    "# overall function to read split circuit, feed in split_circuit_data = data['Split Circuit']\n",
    "def process_split_ciruit_data(split_circuit_data):\n",
    "    keys = split_circuit_data.keys()\n",
    "    for key in keys:\n",
    "        if key == 'GPS':\n",
    "            gps_data = split_circuit_data['GPS']\n",
    "            print(process_gps(gps_data))\n",
    "        elif key == 'GPS Button':\n",
    "            print(split_circuit_data['GPS Button'])\n",
    "        elif key == 'MPU6050':\n",
    "            mpu6050_output = split_circuit_data['MPU6050']\n",
    "            process_mpu6050(mpu6050_output, None)\n",
    "            print('Loaded MPU6050 Data into mpu6050_df')"
   ]
  },
  {
   "cell_type": "code",
   "execution_count": null,
   "id": "ec502df5",
   "metadata": {},
   "outputs": [],
   "source": [
    "# need to store the gps data"
   ]
  },
  {
   "cell_type": "code",
   "execution_count": null,
   "id": "bd2ae8c7",
   "metadata": {},
   "outputs": [],
   "source": [
    "# need to store everything tgt : eps32 output data and split circuit data"
   ]
  },
  {
   "cell_type": "markdown",
   "id": "57dc9d83",
   "metadata": {},
   "source": [
    "## Try Reading Data\n",
    "\n",
    "overall functions:\n",
    "1. user_data_process_esp32_output(esp32_output, timeDifference)\n",
    "2. process_split_ciruit_data(split_circuit_data)"
   ]
  },
  {
   "cell_type": "code",
   "execution_count": null,
   "id": "c1656c1e",
   "metadata": {},
   "outputs": [],
   "source": [
    "esp32_output = users_data.get()\n",
    "split_circuit_data = esp32_output['Split Circuit']"
   ]
  },
  {
   "cell_type": "code",
   "execution_count": null,
   "id": "38f22092",
   "metadata": {},
   "outputs": [],
   "source": [
    "user_data_process_esp32_output(esp32_output, None)"
   ]
  },
  {
   "cell_type": "code",
   "execution_count": null,
   "id": "be551b3e",
   "metadata": {},
   "outputs": [],
   "source": [
    "users_data_df"
   ]
  },
  {
   "cell_type": "code",
   "execution_count": null,
   "id": "1ac00262",
   "metadata": {},
   "outputs": [],
   "source": [
    "process_split_ciruit_data(split_circuit_data)"
   ]
  },
  {
   "cell_type": "code",
   "execution_count": null,
   "id": "0159f9f3",
   "metadata": {},
   "outputs": [],
   "source": [
    "mpu6050_df"
   ]
  },
  {
   "cell_type": "code",
   "execution_count": null,
   "id": "d4739bd7",
   "metadata": {},
   "outputs": [],
   "source": [
    "def read_data():\n",
    "    data = users_data.get()\n",
    "    split_circuit_data = data['Split Circuit']\n",
    "    user_data_process_esp32_output(data, None)\n",
    "    process_split_ciruit_data(split_circuit_data)"
   ]
  },
  {
   "cell_type": "code",
   "execution_count": null,
   "id": "d3d48a41",
   "metadata": {},
   "outputs": [],
   "source": [
    "read_data()"
   ]
  },
  {
   "cell_type": "code",
   "execution_count": null,
   "id": "1fff61c9",
   "metadata": {},
   "outputs": [],
   "source": []
  }
 ],
 "metadata": {
  "kernelspec": {
   "display_name": "Python 3 (ipykernel)",
   "language": "python",
   "name": "python3"
  },
  "language_info": {
   "codemirror_mode": {
    "name": "ipython",
    "version": 3
   },
   "file_extension": ".py",
   "mimetype": "text/x-python",
   "name": "python",
   "nbconvert_exporter": "python",
   "pygments_lexer": "ipython3",
   "version": "3.9.16"
  }
 },
 "nbformat": 4,
 "nbformat_minor": 5
}
