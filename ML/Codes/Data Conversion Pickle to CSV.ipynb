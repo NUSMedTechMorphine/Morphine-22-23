{
 "cells": [
  {
   "cell_type": "code",
   "execution_count": 1,
   "id": "55a80cc8",
   "metadata": {},
   "outputs": [
    {
     "data": {
      "text/plain": [
       "'C:\\\\Users\\\\yiting.wong\\\\Documents\\\\NUS\\\\MedTech\\\\Morphine-22-23\\\\ML\\\\Codes'"
      ]
     },
     "execution_count": 1,
     "metadata": {},
     "output_type": "execute_result"
    }
   ],
   "source": [
    "pwd"
   ]
  },
  {
   "cell_type": "code",
   "execution_count": 2,
   "id": "e5aaa6dd",
   "metadata": {},
   "outputs": [],
   "source": [
    "import os\n",
    "import pickle\n",
    "from datetime import datetime\n",
    "import pandas as pd\n",
    "import numpy as np\n",
    "from tqdm import tqdm\n",
    "import matplotlib.pyplot as plt"
   ]
  },
  {
   "cell_type": "markdown",
   "id": "c7a03a05",
   "metadata": {},
   "source": [
    "# Functions to Process Collected Data from Pickle File"
   ]
  },
  {
   "cell_type": "code",
   "execution_count": 3,
   "id": "6c23a0ac",
   "metadata": {},
   "outputs": [],
   "source": [
    "# Process GPS Data\n",
    "GPS_KEYWORDS_LIST = ['Latitude: ', '(*10^-7) Longitude: ', '(*10^-7) Altitude: ', '(mm) Satellite-in-view: ', 'timing for this set: ']\n",
    "GPS_KEYWORDS_LENGTH = [len(keyword) for keyword in GPS_KEYWORDS_LIST]\n",
    "\n",
    "def process_gps_datapoints(gps_datapoints):\n",
    "    \"\"\"\n",
    "    gps_datapoints = gps_data['GPS Datapoints']\n",
    "    \"\"\"\n",
    "    gps_datapoints = gps_datapoints[0]\n",
    "    indices = [gps_datapoints.find(keyword) for keyword in GPS_KEYWORDS_LIST]\n",
    "    # Latitude, Longtiude, Altitude, Satellite-in-view, timing for this set\n",
    "    gps_datapoints_list = []\n",
    "    for i, index in enumerate(indices):\n",
    "        if i == len(indices) - 1:\n",
    "            gps_datapoints_list.append(float(gps_datapoints[index + GPS_KEYWORDS_LENGTH[i]:].strip()))\n",
    "        else:\n",
    "            gps_datapoints_list.append(float(gps_datapoints[index + GPS_KEYWORDS_LENGTH[i]:indices[i+1]].strip()))\n",
    "    return gps_datapoints_list\n",
    "\n",
    "def process_gps(gps):\n",
    "    \"\"\"\n",
    "    gps = data['Split Circuit']['GPS']\n",
    "    \"\"\"\n",
    "    processed_gps_data = []\n",
    "    gps_accounter = gps['GPS Accounter']\n",
    "    gps_datapoints = gps['GPS Datapoints']\n",
    "    gps_loopSpeedArr = gps['GPS LoopSpeedArr'][0]\n",
    "    gps_uploadSpeedArr = gps['GPS UploadSpeedArr'][0]\n",
    "    \n",
    "    processed_gps_datapoints = process_gps_datapoints(gps_datapoints)\n",
    "    \n",
    "    processed_gps_data.append(gps_accounter)\n",
    "    processed_gps_data.extend(processed_gps_datapoints)\n",
    "    processed_gps_data.extend([gps_loopSpeedArr, gps_uploadSpeedArr])\n",
    "    \n",
    "    new_gps_df = pd.DataFrame([processed_gps_data],\n",
    "                             columns = ['accounter', 'latitude', 'longitude', 'altitude', 'satelliteInView', 'timingForThisSet', 'LoopSpeed', 'UploadSpeed'])\n",
    "    return new_gps_df"
   ]
  },
  {
   "cell_type": "code",
   "execution_count": 4,
   "id": "14be4cc0",
   "metadata": {},
   "outputs": [],
   "source": [
    "# process MPU6050\n",
    "MPU6050_KEYWORDS = ['Ax: ', 'Ay: ', 'Az: ', 'gx: ', 'gy: ', 'gz: ', 'temp: ', 'timing for this set: ']\n",
    "MPU6050_KEYWORDS_LENGTH = [len(x) for x in MPU6050_KEYWORDS]\n",
    "\n",
    "## function to process one datapoint\n",
    "def process_one_set_of_datapoint(output_set):\n",
    "    indexes = [output_set.find(keyword) for keyword in MPU6050_KEYWORDS]\n",
    "    df_row = []\n",
    "    curr_data_index = int(output_set[:indexes[0]].strip())\n",
    "    df_row.append(curr_data_index) # append in the index of the new input\n",
    "    for i, index in enumerate(indexes):\n",
    "        if i == len(indexes) - 1:\n",
    "            x = float(output_set[index+MPU6050_KEYWORDS_LENGTH[i]:].strip())\n",
    "            df_row.append(x)\n",
    "        else:\n",
    "            x = float(output_set[index+MPU6050_KEYWORDS_LENGTH[i]: indexes[i+1]].strip())\n",
    "            df_row.append(x)\n",
    "    return df_row\n",
    "\n",
    "def process_mpu6050(mpu6050, timeDifference):\n",
    "    \"\"\"\n",
    "    mpu6050_output = split_circuit_data['MPU6050']\n",
    "    \"\"\"\n",
    "    mpu6050_df = pd.DataFrame(columns = ['accounter', 'LoopSpeedArr', 'UploadSpeedArr', 'set_index', 'Ax', 'Ay', 'Az', 'gx', 'gy', 'gz', 'temp', 'timingForThisSet', 'timeDifference'])\n",
    "    accounter = mpu6050['MPU6050 Accounter']\n",
    "    mpu6050_datapoints = mpu6050['MPU6050 Datapoints'][0]\n",
    "    mpu6050_loopSpeedArr = mpu6050['MPU6050 LoopSpeedArr'][0]\n",
    "    mpu6050_uploadSpeedArr = mpu6050['MPU6050 UploadSpeedArr'][0]\n",
    "    mpu6050_output_sets = mpu6050_datapoints.split('Set: ')[1:]\n",
    "    \n",
    "    for output in mpu6050_output_sets:\n",
    "        data = [accounter, mpu6050_loopSpeedArr,mpu6050_uploadSpeedArr]\n",
    "        datapoint = process_one_set_of_datapoint(output)\n",
    "        data.extend(datapoint)\n",
    "        data.append(timeDifference)\n",
    "        new_df = pd.DataFrame([data], \n",
    "                              columns = ['accounter', 'LoopSpeedArr', 'UploadSpeedArr', 'set_index', 'Ax', 'Ay', 'Az', 'gx', 'gy', 'gz', 'temp', 'timingForThisSet', 'timeDifference'])\n",
    "        mpu6050_df = pd.concat([mpu6050_df, new_df], ignore_index = True)\n",
    "    return mpu6050_df"
   ]
  },
  {
   "cell_type": "code",
   "execution_count": 5,
   "id": "44f00f0b",
   "metadata": {},
   "outputs": [],
   "source": [
    "# overall function to read split circuit\n",
    "def process_split_ciruit_data(split_circuit_data):\n",
    "    \"\"\"\n",
    "    split_circuit_data = data['Split Circuit']\n",
    "    \"\"\"\n",
    "    gps_df = pd.DataFrame(columns = ['accounter', 'latitude', 'longitude', 'altitude', 'satelliteInView', 'timingForThisSet', 'LoopSpeed', 'UploadSpeed'])\n",
    "    mpu6050_df = pd.DataFrame(columns = ['accounter', 'LoopSpeedArr', 'UploadSpeedArr', 'set_index', 'Ax', 'Ay', 'Az', 'gx', 'gy', 'gz', 'temp', 'timingForThisSet', 'timeDifference'])\n",
    "\n",
    "    keys = split_circuit_data.keys()\n",
    "    for key in keys:\n",
    "        if key == 'GPS':\n",
    "            gps_data = split_circuit_data['GPS']\n",
    "            processed_gps_data = process_gps(gps_data)\n",
    "            gps_df = pd.concat([gps_df, processed_gps_data])\n",
    "            \n",
    "        elif key == 'GPS Button':\n",
    "            continue\n",
    "            \n",
    "        elif key == 'MPU6050':\n",
    "            mpu6050_output = split_circuit_data['MPU6050']\n",
    "            processed_mpu6050_output = process_mpu6050(mpu6050_output, None)\n",
    "            mpu6050_df = pd.concat([mpu6050_df, processed_mpu6050_output])\n",
    "            #print('Extracted MPU6050 Data')\n",
    "    return gps_df, mpu6050_df"
   ]
  },
  {
   "cell_type": "markdown",
   "id": "07bafba0",
   "metadata": {},
   "source": [
    "# Reading Data"
   ]
  },
  {
   "cell_type": "code",
   "execution_count": 6,
   "id": "218d8af4",
   "metadata": {},
   "outputs": [],
   "source": [
    "filepath_dir = \"../Datasets/raw\"\n",
    "os.chdir(filepath_dir)"
   ]
  },
  {
   "cell_type": "code",
   "execution_count": 7,
   "id": "00b737fd",
   "metadata": {},
   "outputs": [
    {
     "data": {
      "text/plain": [
       "'data_2023-05-17_14-00-54.pkl'"
      ]
     },
     "execution_count": 7,
     "metadata": {},
     "output_type": "execute_result"
    }
   ],
   "source": [
    "to_process = [filepath for filepath in os.listdir() if filepath.startswith(\"data_\")]\n",
    "filename = to_process[0]\n",
    "filename"
   ]
  },
  {
   "cell_type": "markdown",
   "id": "8bad75b9",
   "metadata": {},
   "source": [
    "# Process Data"
   ]
  },
  {
   "cell_type": "code",
   "execution_count": 9,
   "id": "9a2d9419",
   "metadata": {},
   "outputs": [
    {
     "data": {
      "text/plain": [
       "'C:\\\\Users\\\\yiting.wong\\\\Documents\\\\NUS\\\\MedTech\\\\Morphine-22-23\\\\ML\\\\Datasets\\\\raw'"
      ]
     },
     "execution_count": 9,
     "metadata": {},
     "output_type": "execute_result"
    }
   ],
   "source": [
    "pwd"
   ]
  },
  {
   "cell_type": "code",
   "execution_count": 10,
   "id": "f5391e4a",
   "metadata": {},
   "outputs": [],
   "source": [
    "def process_file(filename):\n",
    "    \"\"\" Converts target file from pickle to csv \"\"\"\n",
    "    filename = f\"{filename}.pkl\"\n",
    "\n",
    "    full_gps_df = pd.DataFrame(columns = ['accounter', 'latitude', 'longitude', 'altitude', 'satelliteInView', 'timingForThisSet', 'LoopSpeed', 'UploadSpeed'])\n",
    "    full_mpu6050_df = pd.DataFrame(columns = ['accounter', 'LoopSpeedArr', 'UploadSpeedArr', 'set_index', 'Ax', 'Ay', 'Az', 'gx', 'gy', 'gz', 'temp', 'timingForThisSet', 'timeDifference'])\n",
    "    \n",
    "    curr_data = pd.read_pickle(filename)\n",
    "    print(\"Total Accounters\", len(curr_data))\n",
    "    for wave in tqdm(curr_data):\n",
    "        gps_df, mpu6050_df = process_split_ciruit_data(wave)\n",
    "        full_gps_df = pd.concat([full_gps_df, gps_df], ignore_index=True)\n",
    "        full_mpu6050_df = pd.concat([full_mpu6050_df, mpu6050_df], ignore_index=True)\n",
    "        \n",
    "    print(\"GPS DF:\", full_gps_df.shape)\n",
    "    print(\"MPU6050 DF:\", full_mpu6050_df.shape)\n",
    "    \n",
    "    return full_gps_df, full_mpu6050_df"
   ]
  },
  {
   "cell_type": "code",
   "execution_count": 11,
   "id": "f6c1974f",
   "metadata": {},
   "outputs": [
    {
     "name": "stdout",
     "output_type": "stream",
     "text": [
      "Total Accounters 139\n"
     ]
    },
    {
     "name": "stderr",
     "output_type": "stream",
     "text": [
      "100%|████████████████████████████████████████████████████████████████████████████████| 139/139 [00:03<00:00, 39.79it/s]"
     ]
    },
    {
     "name": "stdout",
     "output_type": "stream",
     "text": [
      "GPS DF: (139, 8)\n",
      "MPU6050 DF: (2780, 13)\n"
     ]
    },
    {
     "name": "stderr",
     "output_type": "stream",
     "text": [
      "\n"
     ]
    }
   ],
   "source": [
    "gps_df, mpu6050_df = process_file('data_2023-05-17_14-00-54')"
   ]
  },
  {
   "cell_type": "markdown",
   "id": "5fa1b190",
   "metadata": {},
   "source": [
    "# Save Files"
   ]
  },
  {
   "cell_type": "code",
   "execution_count": 12,
   "id": "289cf459",
   "metadata": {},
   "outputs": [
    {
     "data": {
      "text/plain": [
       "'C:\\\\Users\\\\yiting.wong\\\\Documents\\\\NUS\\\\MedTech\\\\Morphine-22-23\\\\ML\\\\Datasets\\\\raw'"
      ]
     },
     "execution_count": 12,
     "metadata": {},
     "output_type": "execute_result"
    }
   ],
   "source": [
    "pwd"
   ]
  },
  {
   "cell_type": "code",
   "execution_count": 13,
   "id": "bfdb2156",
   "metadata": {},
   "outputs": [],
   "source": [
    "def save_processed_file(processed_df, filename_to_save, kind):\n",
    "    final_dir = f\"../curated/{kind}_{filename_to_save}.csv\"\n",
    "    processed_df.to_csv(final_dir, index=False)\n",
    "    print(\"File saved at:\", final_dir)"
   ]
  },
  {
   "cell_type": "code",
   "execution_count": 14,
   "id": "34e4eaab",
   "metadata": {},
   "outputs": [
    {
     "name": "stdout",
     "output_type": "stream",
     "text": [
      "File saved at: ../curated/gps_data_2023-05-17_14-00-54.csv\n"
     ]
    }
   ],
   "source": [
    "save_processed_file(gps_df, 'data_2023-05-17_14-00-54', \"gps\")"
   ]
  },
  {
   "cell_type": "code",
   "execution_count": 15,
   "id": "585da4b3",
   "metadata": {},
   "outputs": [
    {
     "name": "stdout",
     "output_type": "stream",
     "text": [
      "File saved at: ../curated/mpu6050_data_2023-05-17_14-00-54.csv\n"
     ]
    }
   ],
   "source": [
    "save_processed_file(mpu6050_df, 'data_2023-05-17_14-00-54', \"mpu6050\")"
   ]
  },
  {
   "cell_type": "code",
   "execution_count": null,
   "id": "55bc7fb1",
   "metadata": {},
   "outputs": [],
   "source": []
  }
 ],
 "metadata": {
  "kernelspec": {
   "display_name": "Python 3 (ipykernel)",
   "language": "python",
   "name": "python3"
  },
  "language_info": {
   "codemirror_mode": {
    "name": "ipython",
    "version": 3
   },
   "file_extension": ".py",
   "mimetype": "text/x-python",
   "name": "python",
   "nbconvert_exporter": "python",
   "pygments_lexer": "ipython3",
   "version": "3.9.13"
  }
 },
 "nbformat": 4,
 "nbformat_minor": 5
}
